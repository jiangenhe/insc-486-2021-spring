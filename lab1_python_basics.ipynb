{
  "nbformat": 4,
  "nbformat_minor": 0,
  "metadata": {
    "kernelspec": {
      "display_name": "Python 3",
      "language": "python",
      "name": "python3"
    },
    "language_info": {
      "codemirror_mode": {
        "name": "ipython",
        "version": 3
      },
      "file_extension": ".py",
      "mimetype": "text/x-python",
      "name": "python",
      "nbconvert_exporter": "python",
      "pygments_lexer": "ipython3",
      "version": "3.5.1"
    },
    "colab": {
      "name": "lab1-python-basics.ipynb",
      "provenance": [],
      "include_colab_link": true
    }
  },
  "cells": [
    {
      "cell_type": "markdown",
      "metadata": {
        "id": "view-in-github",
        "colab_type": "text"
      },
      "source": [
        "<a href=\"https://colab.research.google.com/github/jiangenhe/insc-486-2021-spring/blob/main/lab1_python_basics.ipynb\" target=\"_parent\"><img src=\"https://colab.research.google.com/assets/colab-badge.svg\" alt=\"Open In Colab\"/></a>"
      ]
    },
    {
      "cell_type": "markdown",
      "metadata": {
        "deletable": true,
        "editable": true,
        "id": "c9NHjipPZWXQ"
      },
      "source": [
        "# INSC 486: Lab 1 - Python Basics\n",
        "\n",
        "If you use Colab to complete this lab, use [this link](https://colab.research.google.com/github/jiangenhe/insc-486-2021-spring/blob/main/lab1_python_basics.ipynb) to open the notebook. Make a copy to your google drive by click \"Copy to Drive\".\n",
        "\n",
        "If you use your local machine to complete the lab, download the notebook (an .ipynb file) by [this link](https://github.com/jiangenhe/insc-486-2021-spring/blob/main/lab1_python_basics.ipynb).\n",
        "\n",
        "\n",
        "## Lab goals\n",
        "\n",
        "You're going to learn four things in this lab:\n",
        "\n",
        "1.   How to use Jupyter (Colaboratory) notebooks,\n",
        "2.   How to set up your Google Colaboratory,\n",
        "3.   How to access and submit labs and assignments,\n",
        "4.   And get familiar with Python basics.\n",
        "\n",
        "## Total point value of this lab\n",
        "\n",
        "This lab is worth a total of 2 point of your final grade."
      ]
    },
    {
      "cell_type": "markdown",
      "metadata": {
        "deletable": true,
        "editable": true,
        "id": "UdwkSxzGZWXe"
      },
      "source": [
        "## Part 1. Language Semantics"
      ]
    },
    {
      "cell_type": "markdown",
      "metadata": {
        "deletable": true,
        "editable": true,
        "id": "1KmqrWQAZWXe"
      },
      "source": [
        "### Indentation, not braces"
      ]
    },
    {
      "cell_type": "markdown",
      "metadata": {
        "deletable": true,
        "editable": true,
        "id": "lb3RVTPgZWXe"
      },
      "source": [
        "```python\n",
        "for x in array:\n",
        "    if x < pivot:\n",
        "        less.append(x)\n",
        "    else:\n",
        "        greater.append(x)\n",
        "```"
      ]
    },
    {
      "cell_type": "markdown",
      "metadata": {
        "deletable": true,
        "editable": true,
        "id": "7CgLNR67ZWXe"
      },
      "source": [
        "```python\n",
        "a = 5; b = 6; c = 7\n",
        "```"
      ]
    },
    {
      "cell_type": "markdown",
      "metadata": {
        "deletable": true,
        "editable": true,
        "id": "z2gjh7IBZWXe"
      },
      "source": [
        "### Comments"
      ]
    },
    {
      "cell_type": "markdown",
      "metadata": {
        "deletable": true,
        "editable": true,
        "id": "dZaWLvD7ZWXe"
      },
      "source": [
        "```python\n",
        "results = []\n",
        "for line in file_handle:\n",
        "    # keep the empty lines for now\n",
        "    # if len(line) == 0:\n",
        "    #   continue\n",
        "    results.append(line.replace('foo', 'bar'))\n",
        "```"
      ]
    },
    {
      "cell_type": "markdown",
      "metadata": {
        "deletable": true,
        "editable": true,
        "id": "oWPYuEX9ZWXf"
      },
      "source": [
        "```python\n",
        "print(\"Reached this line\")  # Simple status report\n",
        "```"
      ]
    },
    {
      "cell_type": "markdown",
      "metadata": {
        "deletable": true,
        "editable": true,
        "id": "glvF79AwZWXf"
      },
      "source": [
        "### Function and object method calls"
      ]
    },
    {
      "cell_type": "code",
      "metadata": {
        "id": "2zm410Uf6MSB"
      },
      "source": [
        "def sum(x, y, z):\n",
        "  return x+y+z\n",
        "\n",
        "result = sum(1,2,3)\n",
        "result"
      ],
      "execution_count": null,
      "outputs": []
    },
    {
      "cell_type": "markdown",
      "metadata": {
        "deletable": true,
        "editable": true,
        "id": "uYC3WWtHZWXf"
      },
      "source": [
        "### Variables and argument passing"
      ]
    },
    {
      "cell_type": "code",
      "metadata": {
        "deletable": true,
        "editable": true,
        "id": "uanXUKMZZWXg"
      },
      "source": [
        "a = [1, 2, 3]"
      ],
      "execution_count": 6,
      "outputs": []
    },
    {
      "cell_type": "code",
      "metadata": {
        "deletable": true,
        "editable": true,
        "id": "zekEcTAMZWXg"
      },
      "source": [
        "b = a"
      ],
      "execution_count": 7,
      "outputs": []
    },
    {
      "cell_type": "code",
      "metadata": {
        "deletable": true,
        "editable": true,
        "id": "_1db7hxHZWXg"
      },
      "source": [
        "a.append(4)\n",
        "b"
      ],
      "execution_count": null,
      "outputs": []
    },
    {
      "cell_type": "markdown",
      "metadata": {
        "deletable": true,
        "editable": true,
        "id": "4ynKvmApZWXg"
      },
      "source": [
        "### Dynamic references, strong types"
      ]
    },
    {
      "cell_type": "code",
      "metadata": {
        "deletable": true,
        "editable": true,
        "id": "UasRMfdjZWXg",
        "colab": {
          "base_uri": "https://localhost:8080/"
        },
        "outputId": "8d2649b0-1fd3-4ad8-9bc1-68d0254982ed"
      },
      "source": [
        "a = 5\n",
        "type(a)\n",
        "a = 'foo'\n",
        "type(a)"
      ],
      "execution_count": 17,
      "outputs": [
        {
          "output_type": "execute_result",
          "data": {
            "text/plain": [
              "str"
            ]
          },
          "metadata": {
            "tags": []
          },
          "execution_count": 17
        }
      ]
    },
    {
      "cell_type": "code",
      "metadata": {
        "deletable": true,
        "editable": true,
        "id": "qu9yWF-EZWXg"
      },
      "source": [
        "'5' + 5 "
      ],
      "execution_count": null,
      "outputs": []
    },
    {
      "cell_type": "code",
      "metadata": {
        "deletable": true,
        "editable": true,
        "id": "lQwBprlyZWXh"
      },
      "source": [
        "a = 4.5\n",
        "b = 2\n",
        "# String formatting, to be visited later\n",
        "print('a is {0}, b is {1}'.format(type(a), type(b)))\n",
        "a / b"
      ],
      "execution_count": null,
      "outputs": []
    },
    {
      "cell_type": "markdown",
      "metadata": {
        "deletable": true,
        "editable": true,
        "id": "opLbZdhnZWXh"
      },
      "source": [
        "### Attributes and methods"
      ]
    },
    {
      "cell_type": "markdown",
      "metadata": {
        "id": "SD9x9XZQEEwh"
      },
      "source": [
        "Objects in Python typically have both attributes (other Python objects stored “inside” the object) and methods (functions associated with an object that can have access to the object’s internal data)."
      ]
    },
    {
      "cell_type": "markdown",
      "metadata": {
        "deletable": true,
        "editable": true,
        "id": "rINWieavZWXh"
      },
      "source": [
        "```python\n",
        "In [1]: a = 'foo'\n",
        "\n",
        "In [2]: a.<Press Tab>\n",
        "a.capitalize  a.format      a.isupper     a.rindex      a.strip\n",
        "a.center      a.index       a.join        a.rjust       a.swapcase\n",
        "a.count       a.isalnum     a.ljust       a.rpartition  a.title\n",
        "a.decode      a.isalpha     a.lower       a.rsplit      a.translate\n",
        "a.encode      a.isdigit     a.lstrip      a.rstrip      a.upper\n",
        "a.endswith    a.islower     a.partition   a.split       a.zfill\n",
        "a.expandtabs  a.isspace     a.replace     a.splitlines\n",
        "a.find        a.istitle     a.rfind       a.startswith\n",
        "```"
      ]
    },
    {
      "cell_type": "code",
      "metadata": {
        "deletable": true,
        "editable": true,
        "id": "38DpmQGcZWXh"
      },
      "source": [
        "a = 'foo'"
      ],
      "execution_count": 9,
      "outputs": []
    },
    {
      "cell_type": "code",
      "metadata": {
        "deletable": true,
        "editable": true,
        "id": "nGcv_QM1ZWXh",
        "colab": {
          "base_uri": "https://localhost:8080/"
        },
        "outputId": "ebef5fa0-85bd-419e-af3e-3266cf5e5edc"
      },
      "source": [
        "getattr(a, 'split')"
      ],
      "execution_count": 10,
      "outputs": [
        {
          "output_type": "execute_result",
          "data": {
            "text/plain": [
              "<function str.split>"
            ]
          },
          "metadata": {
            "tags": []
          },
          "execution_count": 10
        }
      ]
    },
    {
      "cell_type": "markdown",
      "metadata": {
        "deletable": true,
        "editable": true,
        "id": "H2C19mZuZWXi"
      },
      "source": [
        "### Imports"
      ]
    },
    {
      "cell_type": "markdown",
      "metadata": {
        "deletable": true,
        "editable": true,
        "id": "dWr5S0EfZWXi"
      },
      "source": [
        "```python\n",
        "# some_module.py\n",
        "PI = 3.14159\n",
        "\n",
        "def f(x):\n",
        "    return x + 2\n",
        "\n",
        "def g(a, b):\n",
        "    return a + b\n",
        "```"
      ]
    },
    {
      "cell_type": "markdown",
      "metadata": {
        "deletable": true,
        "editable": true,
        "id": "YnCQgtT5ZWXi"
      },
      "source": [
        "```python\n",
        "import some_module\n",
        "result = some_module.f(5)\n",
        "pi = some_module.PI\n",
        "```"
      ]
    },
    {
      "cell_type": "markdown",
      "metadata": {
        "deletable": true,
        "editable": true,
        "id": "SfKa7e3vZWXi"
      },
      "source": [
        "```python\n",
        "from some_module import f, g, PI\n",
        "result = g(5, PI)\n",
        "```"
      ]
    },
    {
      "cell_type": "markdown",
      "metadata": {
        "deletable": true,
        "editable": true,
        "id": "dQPJTiQTZWXj"
      },
      "source": [
        "```python\n",
        "import some_module as sm\n",
        "from some_module import PI as pi, g as gf\n",
        "\n",
        "r1 = sm.f(pi)\n",
        "r2 = gf(6, pi)\n",
        "```"
      ]
    },
    {
      "cell_type": "markdown",
      "metadata": {
        "deletable": true,
        "editable": true,
        "id": "srxJMTTvZWXj"
      },
      "source": [
        "### Binary operators and comparisons"
      ]
    },
    {
      "cell_type": "code",
      "metadata": {
        "deletable": true,
        "editable": true,
        "id": "Fh9wwHFfZWXj"
      },
      "source": [
        "5 - 7\n",
        "12 + 21.5\n",
        "5 <= 2"
      ],
      "execution_count": null,
      "outputs": []
    },
    {
      "cell_type": "code",
      "metadata": {
        "deletable": true,
        "editable": true,
        "id": "RcSBCaPtZWXj"
      },
      "source": [
        "a = [1, 2, 3]\n",
        "b = a\n",
        "c = list(a)\n",
        "a is b\n",
        "a is not c"
      ],
      "execution_count": null,
      "outputs": []
    },
    {
      "cell_type": "code",
      "metadata": {
        "deletable": true,
        "editable": true,
        "id": "vqg_XMuYZWXj"
      },
      "source": [
        "a == c"
      ],
      "execution_count": null,
      "outputs": []
    },
    {
      "cell_type": "code",
      "metadata": {
        "deletable": true,
        "editable": true,
        "id": "zoyGdW34ZWXj"
      },
      "source": [
        "a = None\n",
        "a is None"
      ],
      "execution_count": null,
      "outputs": []
    },
    {
      "cell_type": "markdown",
      "metadata": {
        "id": "FMRZegYAkqXS"
      },
      "source": [
        "## Exercise 1"
      ]
    },
    {
      "cell_type": "markdown",
      "metadata": {
        "id": "G-Aw3bJikvna"
      },
      "source": [
        "1. Correct the following code and run the code cell."
      ]
    },
    {
      "cell_type": "code",
      "metadata": {
        "id": "7DQcnt-tlLHh"
      },
      "source": [
        "if 5 > 2:\n",
        "print(\"Five is greater than two!\")"
      ],
      "execution_count": null,
      "outputs": []
    },
    {
      "cell_type": "markdown",
      "metadata": {
        "id": "Lx7ZWQXmlWi2"
      },
      "source": [
        "2. Correct the following code and run the code cell."
      ]
    },
    {
      "cell_type": "code",
      "metadata": {
        "id": "nS8T3VgPlgnO"
      },
      "source": [
        "if 5 > 2:\n",
        " print(\"Five is greater than two!\")\n",
        "        print(\"Five is greater than two!\")"
      ],
      "execution_count": null,
      "outputs": []
    },
    {
      "cell_type": "markdown",
      "metadata": {
        "id": "5m7xllL0oSU6"
      },
      "source": [
        "3. Read the code and think about the output"
      ]
    },
    {
      "cell_type": "code",
      "metadata": {
        "id": "xQ3izUxXocQW"
      },
      "source": [
        "x = \"awesome\"\n",
        "\n",
        "def myfunc():\n",
        "  x = \"fantastic\"\n",
        "  print(\"Python is \" + x)\n",
        "\n",
        "myfunc()\n",
        "\n",
        "print(\"Python is \" + x)"
      ],
      "execution_count": null,
      "outputs": []
    },
    {
      "cell_type": "markdown",
      "metadata": {
        "deletable": true,
        "editable": true,
        "id": "z-X6Km3SZWXk"
      },
      "source": [
        "## Part 2. Scalar Types"
      ]
    },
    {
      "cell_type": "markdown",
      "metadata": {
        "id": "wXpXrg1DLjTd"
      },
      "source": [
        "Python along with its standard library has a small set of built-in types for handling numerical data, strings, boolean (True or False) values, and dates and time. These “single value” types are sometimes called *scalar types* and we refer to them as scalars.\n",
        "\n",
        "![image.png](data:image/png;base64,iVBORw0KGgoAAAANSUhEUgAABCYAAAFgCAYAAABnknjpAAAgAElEQVR4AeydB7gdRfnG8W/vqAgW7NIURIrSi/QO0qt0aYIIClKkS0ckgAhKVwGlSO8hIYUkBBJCQi8htDRCQkkoIfN/foPf8p3N7p7dc8+955x733mevXvu7k575532zTffzBPkhIAQEAJCQAgIASEgBISAEBACQkAICAEh0CIE5mlRvIpWCAgBISAEhIAQEAJCQAgIASEgBISAEBACQYIJkUAICAEhIASEgBAQAkJACAgBISAEhIAQaBkCEky0DHpFLASEgBAQAkJACAgBISAEhIAQEAJCQAhIMCEOCAEhIASEgBAQAkJACAgBISAEhIAQEAItQ0CCiZZBr4iFgBAQAkJACAgBISAEhIAQEAJCQAgIAQkmxAEhIASEgBAQAkJACAgBISAEhIAQEAJCoGUISDDRMugVsRAQAkJACAgBISAEhIAQEAJCQAgIASEgwYQ4IASEgBAQAkJACAgBISAEhIAQEAJCQAi0DIEeE0y8+cz48PINt+hqIwwm3XanyqONykP1Q+2DOCAOiAPigDggDogD4oA4IA60MwdmjB7TLcKLHhNMvHTtjWHoWpvqaiMMHthhD5VHG5WH6ofaB3FAHBAHxAFxQBwQB8QBcUAcaGcOPHVav84WTEy49F/h7oWW0tVGGAxZYyOVRxuVh+qH2gdxQBwQB8QBcUAcEAfEAXFAHGhnDjxy6NESTLRzAXVi2iSYUKPXibxVmsVbcUAcEAfEAXFAHBAHxAFxoDUckGBCK9tN126QYKI1lVmNqHAXB8QBcUAcEAfEAXFAHBAHxIFO5IAEExJMSDAhDjSdA53YGCrN6sTFAXFAHBAHxAFxQBwQB8SB1nBAgglNSps+KZXGRGsqsxpR4S4OiAPigDggDogD4oA4IA6IA53IAQkmJJiQYEIcaDoHOrExVJrViYsD4oA4IA6IA+KAOCAOiAOt4YAEE5qUNn1SKo2J1lRmNaLCXRwQB8QBcUAcEAfEAXFAHBAHOpEDEkxIMCHBhDjQdA50YmOoNKsTFwfEAXFAHBAHxAFxQBwQB1rDAQkmNClt+qRUGhOtqcxqRIW7OCAOiAPigDggDogD4oA4IA50IgckmJBgQoIJcaDpHOjExlBpVicuDogD4oA4IA6IA+KAOCAOtIYDfVIwMXr3/cKY/Q4udY3aZR9N2ipO3BvVmBi69qbhwR33CA/tc2AY97sjw7hDjw6j99g/DN9k23DvT3/W8eUwdM1Nwug9fhVGbrNr6L/IMj2Sn1bEqca8NY25cBfu4oA4IA6IA+KAOCAOiAOdyoE+KZiYNuz+8ObTz5a6pg4c0iMTyE4lUFa6GxVMTL13SHj90cfDG089E2Y+93yYOeH58MYTT4UZY8aGaffdH5489ayOFVAMWn7NAO/Iz2vjHguPHHJUt/OqFXFm8UHP1EGKA+KAOCAOiAPigDggDogD4kARB/qkYGLWSy+Hsu7NZ8Z3+wSyqIA68V2jgol3pr1aWCxvTZocEF6M2HS7jiuTUbvuG+a8916Sv1eGDGtqHoaus9lcWhjdHWcnclNpVocoDogD4oA4IA6IA+KAOCAOtB8HJJhIporZPySYqE7aZgkmEFTMmTOnpmDmzJ4dXh3xQBi0wlpNndh3d+P0wA571OTj1QdGdzn9g1dZNzxy2LHh5etuDNNHPRS3vfh8dEecPnz9rl43hJkwEwfEAXFAHBAHxAFxQBwQB+bmQJ8UTDx27EnhqdP7xevpP/+lZsI45913k3d889iRx3d5AtnXiNcswQS2QB4+4JAw8abba8to9uxAuXUSrgOXXiVMHTA4wK+3p74SBQpdTf8TJ/0pzHz+hfDeW29FfOC1D7M74vTh6/fcDaowESbigDggDogD4oA4IA6IA+JAdQ70ScHEwGVXC/f+ZPV4DV553ZpJ73tvv52845uBy6xaM9kTyeqTrFmCiQFLrhj6/+An4b61Nw1T+g+sKSe24wz48UodVTbDNtgyjNp1n4AmAxzsKpcmXPqvGkweP/6UucJsdpxdTbP8168/wkgYiQPigDggDogD4oA4IA70NQ70ScGEL+R7Fl++ZnKHYMK/5zenRIw9+PDkune5NZJv+v/gp8lzvhmx2fbxnffz4I57BlavH9rnoPDM2X+NGhkP/mKvcM8SyyfhpONk4orGwJOn/jk8e96FYdzv/hCGbbBF7vdp/638v5mCCcvH/Vv9osZGQ5gzJ4zaZe+58KiCW//FfhLu33rn8OgRx4Vnz78oPH3muWHcIUeFwauuP1e4pIPvKbdYJuf+LTx1+tlh7G8OC/csvlwNRyjv+O2Oe4Zn+v01PH7cKQHOeA75016qcoXTSwjrlUFDa7g7bfj9SRzYnCiK03DlPmjFtcPD+/8u5ufJU84MYw86PNy37s/nwmDIzzZKwif+gT9dPZAWTlB59q8XRf/kpf9iy87l18en3+poxQFxQBwQB8QBcUAcEAfEAXHAc0CCiRKCiemjxoQ3x09Irof2+U0y8WIC599NvOm2+A7jhvYcFf4X//PfeNrE269MC29PnhJef+yJMOHif8YJrC8QfjPZm3xn/3iCAwYfsbXAKRUzRj8chRvp79vt/+4QTKA58drYR2sm4s+cfX5SDlVx6//D5cL48y8Kr417NMx6/sXwzqvTw9tTpkacJ981oCZcwkbYMOnWO2O5vV8m75fjm88+FwavuHZ4ZegH5f3yjbfFrSacMMK2jVdHPhhG/HyHhA/wYuKN7/OEsKtyZezBR8Sw3n3t9Ro8Zs96K4lj7G+PLIzTOINghpNn3nzm2chL8vbm+OfC9Acfisfp2nfcH9rrgCR88vDMuRcEbGXAzYjf5CmR4+P/fmkmr31Y+q2OSBwQB8QBcUAcEAfEAXFAHBAHjAMSTJQQTExNrUyP/9ulycT14f0PqZkcvnT19fHdG48/mTyfPXNWmP3Gm8n/9uOd6TPCEyeekYRFoQxdY+Mw7b4R4b133rHPau4cpXn/FjvV+LHCbJd7dwgmyNtzF15eg8XEm29PcKiK27PnXBAFPjUB/u+fV4YOT8Il3gd33CMKMOZklMnsmTMDWjdvPPl0EtQ7M16LQg578PoTT4WR2+1m/8b7q/c/mMRRlSuPHXNSTVhZ/zx27MmFcZKv4RtvE2aMfSRgUDTLcaTu6D32T9I5Zt+Daj5DkJPl3pk+PYzebb/EX7vwUulQxycOiAPigDggDogD4oA4IA60JwckmCghmHj8hNNq5l/Thj+QTLqePfdvNe9QcYfsr40ZV/Pc/kmfMjFzwvM1Wzqe+/ulNRPF1x99InB59+JV1ybxt2PF6i7BRHpCzqq+5b8Kbvf8aMWoHWCYYpByxugxYdqw+6NACKOnFi7bFWY8PC6wdcQ7NAvenfFaFFjE8h5Xq83hv60nmKjKldF77j+XzQ3iIx5scXDxTZEwhDS/dM0NPpnhfW2eWmFDFNIsvHTEA2FDlnv3zZlznZ6CwVLDUPf2bPxVLioXcUAcEAfEAXFAHBAHxIF24YAEEyUEE2zX8AIFJqRsBaAQp9w1IJmrMcEdvOp68fn0B0Ynz/nx7owZ0U7EY8ecGE9msJdz3nsvjNp13+hn8CrrhbfcKjQq8thWQN0eY4/m3p72atzf3y4kSqejuwQTnNDhHdojxF0Vt5Hb7lYjaGCrzYjNtgvDN946oBUw5GcbxnAJO5aXE0pgg+SJk84ID2y/e3hwp1/GsuE7hCRpB0+YoNfTXqjKFexoDFt/izD5zntqonz2vL/H57zjmyLBBNoSaHaYe/f1N8Ko3X8VHvzF3jWaJLNnzQojt9014kF+027S7XdFuxtsVfJu5oQXEgzT/ND/6gDFAXFAHBAHxAFxQBwQB8QBccBzQIKJEoIJ7BswCU7cnDlh2EZbx4kX9gnMYTei/6LvG/6bNuIBexzvL1xxdVT5H7DUyvHYSP8S45YUCoYXvXv+8qvC3axWL7x0eOHKq/2rMGLzHdp24tddgolRqRV7bCE0ghvGHb2bMmBw6L/IMjGsaLjxfxoChP2625KDnwmX/LP2pJb/fYu2hXcIsh459Kh4oginuxQJCRrhCmmrdypHUZyPHX2iT260eQF3weHFf19X8+6pM86J2HCaiHcIaYZvul3uO6sLpFWXMBAHxAFxQBwQB8QBcUAcEAfEgTwOSDBRQjABeBMuu9LPycIjhx8bBv5k9eDtDjx/2RXJBOyV+0bUfM+pB1YIjx97cs07M4T43EW1NhRYAWdlm+v5f1xV42fMfgcn4Vm47XLvLsHE6D0PqMHgtUcfixhUxQ0tFO+w9YHBRn/aCljG8n333eRTJuL3rbt5Ju5sefCOEzMGLPnBcaZFQoJGuEL6uiKYSPt99MgTknyNPegIn5Xw0rU3xHfpPMwcPyERxA1cauWaLUgEcM+PVkjCbBduKh3qDMUBcUAcEAfEAXFAHBAHxIH244AEEyUFE6P22L9msvbCldeEkdvsWvPMn9aRnqii+m8VIK0SP+2+++O7yXfcXRPezOdfCDMeGhuvt16eWPOOFW8Lr93u3SWY4FhK76YNG9kQbgOWXDFwmoZ3CCem3D2wxrAo2gDevfns+GQinsY8Xd7Yw/DfpCf13vhl2m8ZrhB2Wrjw+PGnlI4TOxTePbDjnonfEVvs6F+FacNGxHfpPEwf9YGND7R62Pbh3YAffyCY8Vjod/t1BCoTlYk4IA6IA+KAOCAOiAPiQCs5IMFEScHEwGVWDf54xtceeTw8dtQH6vDvvfV2zYp7erI5cptdkonf8E229fO3wLGSkGDGw4/UPC/65/HjT03CayWBsuLuLsHE0/3+WgPJpNvuahi3h/Y9KB5x6QOc8867YcaYsWHYxu9v03lo7wP96zBt+PsCpKw8p8sbew3+u/SkvkgwUYYrhN0VwQTHpHqHjQ1L731rb+ZfhTeefCq+K8oDfme/ObPGnwQT6tyMU7qLC+KAOCAOiAPigDggDogDRRyQYKKkYAIQpw4cnEy8Zs96K7x8/c3J/9NHP/y+PYj/7adPT1RrJps/3z7xx4/po8bEid9rY2sFE29NmhRtHGDnIH09/KvfJhPJogJuxbvuEkxwjKp3nIhC/hrB7Z4llg9ouKQn6Jy+Mbn/wBguR2V6h5HKPDzT5f3gL/aq+bZoUp/2W4YrpKMrggkEMN6NcEfQ3rfe5v5V5B7xFeWB9xJMqLPJqx96Lm6IA+KAOCAOiAPigDggDhRxQIKJCoIJtBS8e+eVacm/48+/qGYimp5sYjjQCiI94Z10+93x3ZR77k3C4wfbAe7fYqfMK20PwcJuh3t3CCaGrr1pmP3GmzX4jP7lAV3Crf8PfhpGbL5jAH/vEDoNWmmdMHyjrf3jMOvliYmRzDTO6fLuimCiDFeIvyuCifSJHtjvsDyljVy++j+BjAQT6kyMI7qLC+KAOCAOiAPigDggDogDzeSABBMVBBND19ms5thQP2t9cOe9k4kdBZSeqI496LDk/dNnnee9xpMe8JM2cJm2U9DMgu/OsLpDMIEhUO+wCXHvcj+LmHYVN46DxV6Cd6P3+FXgBBV/TCxbPZicZ2GXLu+uCCbKcIU0TLjkXz7J4anT+9WkrUiQMOHSK2r8PnnaWYnfx476Y827l/97U3xXFB7pkcaEOqesuqFn4oU4IA6IA+KAOCAOiAPiQD0OSDBRQTDRfzGODX26ZtLGP+/OeC0MWHqVZGIH6OmJ6sRb7ohbPQYuu1rcs+8DeeyY9w1ZPnrEcf5xtD3Byn29Qmy3900VTCy8dMDQ51uTJtdgw/Gp8SjVhZYKjeA2ZPUNa3CddPtdNeGP2fegGD4GL717ZfB9YdDK69b4zSrvrggmynCFOJ/72yU+aWHiTbfWpKtIkPDoH46v8Ttj9NiABgmYkkfvTEBWFB7pkWBCHU67tUVKjzgpDogD4oA4IA6IA+JAZ3BAgokKgglInVafZwLHCQdpwqcFE+/MeC28eOU1YfLtd4c57gjKd19/Iwz52fuTZIQQ2JUwN2f27DhJfPy4k8OjRx4fxp9/cZh8211h1G77zhVfOv5W/t8swcRzF14WJt16Z5j14ksGSbyzpWLYBlsmGFTFbegaG4XpI0fFsuTY16fPODtu0/CRDN942xj+Eyed4R8HjJy+MmRY4IjSF6+6JqD9Atbp8u6KYKIMV4jzyVP+XJO2d6a9Gl686trwdL/zwj1LrFBoE2LwKusFvjdHvuD2+AsuDrPf/GDLDAIhviU+CSY6o1FvZd1X3OKIOCAOiAPigDggDogD4kAjHJBgoqJgYtRu+9lcLrmz+pwGPz1R5WMmfO+9/U7ijx+oyfdfZJn3/S+8dEifPIFwYtZLL4dZL7wYT5FAqDH+glp7Fum4W/1/swQT70yfXiPEAa+3p0wNYw86vPbYzoq4jTv0qFgGnLIy8/kXw9uTp9Zs2Zjx8LgwYIkVYpkMWn7N8MZTz9aU2Zz33gsID9AQeG3so/G7dHl3RTBBZHW5stBS4YHtdqtJ9/v+Zoa3p74S7l1+zWJBwsJLh/R2DjR/3nl1ek1en/7zeYlmigQT6mRa3bYofnFQHBAHxAFxQBwQB8SB3skBCSYqCiYGLrVKzWQZQcHg1dYvJZiomfHF0zgeCsPW/2Dln0rG6j+GNN97++3058n/UwcMmiu+dqqgzRJMJBkOISCgmXTLneHBXfYJA5Zcca78V8Ht+X/+2wdd83vasPvDyG0/ONoVXB/Y6Zfh1ZGjar6zf96d8Xq3CCYsfLtjAyPNlQFLrhSmDBhkn9Tc4WQ9QQLbWSbefHuNP/sH2xoIzQatuHaCdb3wtJWjd3YS7dS2KC3imDggDogD4oA4IA6IA72TA31eMNF/0WXD5Dv7Byb7XJxWUET24ZtuV7NKPWP0w6H/ov/TePjfUaH4T6+gP3/ZFWHqPYPCrBdfDjPGjAsvXHF1GLH5Dh9oSzi/TAbHHfKH8MK//h23DbBijx+2jLxw5TVhzH4HF6axKP098a5RwcTLN9wSBQAc4fn6Y08EhAQcyYqgZtwhR4X71tksEy/LU1ncOIljwmVXhGlDh4fXn3gq2vKYcveA8Ox5F4bhG28zV3nCkeGbbBue6ffXOJGP6XviqTB10NDwwr+ujmXBlg7jEPchq21QU0ZsPfHvnzrj7OR9V7hCuBMuvDy8ev+DUbPj9UcfD9OGj4waE0VxGmb3rb1ZePrPf4ncevPZ58LMCS+EqQOHhCdP/lMYuuYmSRr5fuiaG+fmgffY6fB5vGfx5Wr8W5y6987OROWqchUHxAFxQBwQB8QBcUAcaJQDfV4wgbG/+9bbPNosYCI3bL3NcydTGL9MH7P4xIlnZH6fnmxiF2LY+luEkdvuGkb8fPswZPUNEhX5rMIb8KMV4uSWIyvv3+oX0Q/+WeUe8KO5NQaywmjVs0YFEwgeEAAgsOGYVIQEQ9faJK7a29aKenkqgxtbZwavun48DvT+LTmOdcdY7oNWXCuzLC1OtnUwkY/p23KnMGzDrWJ58B47DJE/cGiDLQNcMX/cSZd/P9gZNe0qVwavvG7EDZ6QlyhcWewnhXH6tHH0bOTm1juHkdvsEtOJkVb/Db/v+eFyuXngfU09wgbIwkvPFUY6TP2vzkscEAfEAXFAHBAHxAFxQBwQBySYcJoKRRWCEws4UnH2zFmm7R7enjo1br3I8peebDLhy/quNz5rVDDRG7Eok6e+zJUy+OgbdVTigDggDogD4oA4IA6IA+JA7+aABBMlBBNsEWDrRfrIymfOuSB3VbgvTzYlmKjWaPRlrqiDqcYV4SW8xAFxQBwQB8QBcUAcEAd6IwckmCghmHj414eG2W+8kWhK8AObD14dP02OvjzZlGCiWmPZl7mSrjf6vxp3hJfwEgfEAXFAHBAHxAFxQBzoDRyQYKKEYCJt8PKNp54OD+ywR+HWjL482ZRgolrj2Je50hsaUeWhGt+Fl/ASB8QBcUAcEAfEAXFAHEhzQIKJEoIJjP69NvaRqDEx/YHR4YEddp/LuGEa2Gf/8vcw46GxyTVso60LBRlp/538vwQT1RqavsyVTua50l6N58JLeIkD4oA4IA6IA+KAOCAO5HFAgokSggnAYzvHkyefGUZsuu1cx0lmgctxkSM22z65BizZ3idpZOWh0WcSTFRrcPoyVxrlmPxV45jwEl7igDggDogD4oA4IA6IA+3MAQkmSgomBiy1csg6QrGdC7dVaZNgQo1eq7ineMU9cUAcEAfEAXFAHBAHxAFxoPM4IMFEScGEyF2e3BJMlMdKvBJW4oA4IA6IA+KAOCAOiAPigDjQ1zkgwYQEE023fSHBhBrWvt6wKv+qA+KAOCAOiAPigDggDogD4kB5DkgwIcGEBBPiQNM5oEa4fCMsrISVOCAOiAPigDggDogD4kBf54AEE5qUNn1SKo0JNax9vWFV/lUHxAFxQBwQB8QBcUAcEAfEgfIckGBCggkJJsSBpnNAjXD5RlhYCStxQBwQB8QBcUAcEAfEgb7OAQkmNClt+qRUGhNqWPt6w6r8qw6IA+KAOCAOiAPigDggDogD5TnQ8YKJ6aMfDk/3O09XG2Ew/u+XqTzaqDxUP9Q+iAPigDggDogD4oA4IA6IA+JAO3Ng8p33hO5w83RHoFlhzp41K7w99RVd7YTBK9NUHu1UHkqL+CgOiAPigDggDogD4oA4IA6IA23MgXdffyNrut/lZz0mmOhyShWAEBACQkAICAEhIASEgBAQAkJACAgBIdDrEJBgotcVqTIkBISAEBACQkAICAEhIASEgBAQAkKgcxCQYKJzykopFQJCQAgIASEgBISAEBACQkAICAEh0OsQkGCi1xWpMiQEhIAQEAJCQAgIASEgBISAEBACQqBzEJBgonPKSikVAkJACAgBISAEhIAQEAJCQAgIASHQ6xCQYKLXFakyJASEgBAQAkJACAgBISAEhIAQEAJCoHMQkGCic8qqI1M6Z86c8O6778arIzPQYKL7ar4bhGsub8YZcPQu77n/pp1+tzsPLH2zZ8/uUdg6rRx7FBxF1hYIwNFHH300jB07Nrz55psNp8nqGOHJdQYC1j71dLvYGei0XyopJ8osPV5ov5QqRUJACNRDQIKJegjpfYLAO++8E66//vpwzTXX1L0ee+yx6O+qq64K66yzTryGDx+ehNUTP1566aVw//33h5tvvjlccskl4R//+Efo379/ePzxx7u9A2tlvruC7YQJE8Jpp50Wbr/99hjMzJkzw1lnnRX+/ve/dyXYyn432mijyJn999+/xm/e8xdeeCH87W9/C8cff3y48847w9tvvx3L/OSTT473mkB68J9258Gpp54acd5vv/16EJUQ8sqxRxOhyIRADgK33HJL2GyzzcLyyy8flltuubDWWmuFRx55JOfr4sft3gYUp75vvrUxy1577dU3AeiwXB944IGxHzvqqKM6LOVKrhAQAmkEJJhII6L/cxF4+umnw2KLLRYWXXTRutcFF1wQw2FiOM8888SLAVpPOgYVyyyzTPjhD38Yvve974Xvf//74Uc/+lFYYYUVAh3Zk08+2W3JaWW+u5Kp3/3ud+FrX/tauOyyy2Iw//znP8M3vvGN0NMT10984hORM/DNu7znF198cfjOd74TFlhggfCf//wnPPTQQ7HMv/rVr4YjjjjCB9Gjv9uZB6wGf/3rX484n3LKKT2KS1459mgiWhwZq3vHHXdc2HLLLcMVV1zR4tQoekNg0KBBsc/4yEc+kvRdH/rQhwLCz0ZcO7cBjeSnL/ixMcsSSyxROruXX3552HzzzcMJJ5zQ7QsfpRPVQx+OHj06bLvttuFXv/pVePnll3so1g+iOeecc2JdnX/++eNi1Adv9EsICIFOQ0CCiU4rsRam9+GHH04GatZx593POOOMmFI/KGOS25MOAYSl79Of/nT4zGc+k/w/77zzhpVXXjk88cQT3ZKkVua70Qw9//zzcWL/4Q9/OOKCaiSrhWB46aWXNhpsQ/5s4rrQQgvV+M97vuuuu8Z0Us5MINDwsLI37Y+agHron3bmAYNIMALjnh5M5pVjDxVLW0Qzfvz4WN8++tGPBiZAUvVvfbEgLEJTwtoOhEZokB155JENl087twGtR7w9U2DlX0UwsfjiiweEWV/5yle6bVzRnmiFcNBBB4WPfexj4XOf+1y46KKLejyZU6ZMiW0o5bb99tv3ePyKUAgIgeYh0PaCiSFDhoQ///nP8Ro6dGhmzlHbtm8eeOCBzG/0sOsIvPrqq3ElndV0rkMPPTQZwP3sZz+reYd2Ba6VgzIvmLjpppvCXXfdFS688MK4GkYHxirYTjvtFN57772GwHnmmWcCkvo999xzLv+tzPdciSn5gAE4uDDAYpLEtpePf/zjccDx4osvlgylOZ/lTVzznpNm0r7++uvH8vzlL38Z/19wwQXDa6+91pxENRBKu/Jg8uTJgdUlMPvDH/7QQM665iWvHLsWamf5Rhhkq/Jf/OIXe2SV9a233orbtH7961+HW2+9tbMA64HUsgXRBNgLL7xw4P9p06aFiRMn5sZeD9NWtQH0azYuop9iK2aWu/fee+N3f/3rXxvuC7PC7eRntItcVQQTaGWav+5a8DBM63HOvuupOxqVlnc4V9UVjaXKhsW2RNLw+c9/Pjz11FNlvek7ISAE2gyBthdMoGLM5IJrzTXXDLNmzZoLwtdffz355qSTTprrvR40BwFWk8DfLga21hnRMdlz7maEqFWDMnLsBRNvvPFGBAEjZgzEvvCFL8S0I+F/9tlnGwJovfXWC9/85jfDt771rbn8tzLfcyWmxAOMR7HNhfK0bRsIXPh/6aWX7vEBa97ENes5k2x7zpYOHANK0o6AopWuXXmARgmCOSbGje6d7wquVl5pjZiuhNlpfpkowo+f//zn4S9/+UuPJP+6666LgkcG79hkkatF4MYbb4ztBm0HqullXD1MW97jPJAAACAASURBVNUGIFy2sRP9FFvcshzbifiOfgybQnIh4UAVwQQaoWjYYOegu3Gsx7meLkNsee2yyy5ht912C7YoVSUNRWOpsuEwjvvkJz8Zy+7EE08s603fCQEh0GYItL1g4vDDD086CVZv2ceXdqyIMpDgOvjgg9Ov9X83IXD33XcnuP/mN7/JjKVVgzISkyWY4DkrSTvssEOSdgajjbgvfelLMQz26addK/OdTkuZ/0eOHBk1I6hDGAlF2Id9Bv7fZ599ygTR1G/yJq5Zz//73//GdJJehBTPPfdcFFT83//9X8jTsmpqYgsCa1ceoFlC2a644oq5K6kF2eryq6xy7HKgHRjA1KlT48kP06dP75HUn3322bHcKXsJJuaGHK0BsOHCkG4ZVw/TVrUBCL4sL9x/8pOfBBPQ+3yhhm/f0e7LNSaYADs0bIq0a5qFbT3ONSuesuHANQQSaD7YolRZv3xXNJYqGw6LK2uvvXbkMospckJACHQmAh0lmKDzXHLJJcOMGTNq0JZgogaOHvunEcEEk0b2IKJ2xwS4qBOng8OuBdtGUA+855574oS5bAbzBBP4P/PMM5PB2J/+9KfAFiAssXOhuusd6bB3GHkaPHhw/P+zn/1sDINO1d7bVqL0YLRqvkeMGBG3nfTr1y/ccccdIWviwhYmi5f96miqMBE/99xz44URt7LOCwAxCsrWF1bUqXOmhUBYlAdxcvIFjnxdffXVcR82BvwQDKQdgzVLZ/q94X7bbbfFkzTMb97ENes5Rk5JJwNsygp+8f9qq60WMbEws+60JZY2hDNpxwku9t4G9cQxZsyYyEtsqaAmzTdsdUq7NA/sfSOYmN+u1gt4YhpD7J3Pc5MmTQoI7ah7CIQp+yzXCCfS5ejLAe6nXVY5pL9J/w9OZepRI+m3uLpaFvAe7li7QbiN1mtWyAmH+nr66adHg5qmDUZZEs/ee+8d6wb144ADDki4bdudqnC7K7iRT9TRSS/1lXaOFX32inv3yiuvxPaPNpr+Ah5UdWV4wGlE4LPHHnsk+GC3hmfYqMk6NrIspuk2oEpf0JX8pwUT2DIxo9Qew74kmCjbplE/uNCYAMeBAwfGdh5NM4wGZzn6XvjClcWXqmWZVT+Im/Dr1eOs9Pln9dJCX2d5GTBggPcafw8bNiy+R2sWfNg6Yd9bW2KeitqlMmMpwikKw+LhjoY15Ub/kh5r+O/0WwgIgfZFoOMEE6geIy32rqxgggEfgwIml6xUlXU0vBjUY1A0bty4Sn4tDqTp+EeiTCPbG1xVwcRvf/vbgC2K7373u/HkB07J2HjjjSMmaTzQamBAh/FF9m6iaopQCk2HtOAg7df+LyuYgE+HHXZYtD3BCR433HCDBRHvDFp5zsVpHltttVX8jZFIOkE4ae833XTT6McPRqvkG46yUsdpIpwywYkYDI622WabgHFK7xBWWLxMHhlUL7XUUnF7Caq7P/7xj+Ok0vvJ+s3AnXDIDyeukAa2cSCYQOjiVf3/+Mc/xm9ZkWAgggHRRRZZJJYnavnkP63KiRDI0sk2Gu84DpR32IjwdizSE1fzk34OT7797W9Hewm2r3eLLbaIZYImRT3nyxajd2lH2Vna7RQXTvn46U9/GnmJtgxY8w1qvOmJk+eBN/7aCCakrRn14sEHH0yETmmuW/75ZoMNNgg/+MEPYt2jrlIXsdGSdo1wIl2OcNtwRq037bBnY++tnNPf+P+r1KNG0k9czSgL6hH5snaDcBup1/QpqJAvu+yysX2Fl9THlVZaKU72EeoSD4b5bNLF6TuGqRmIrcLtRnEjjwj2qG+WXto52hGOojbHJGzDDTeM7R/tPxykTc/bkmD+/L0sDwgTLDjVx/DBBgvPaJsQ/KZdWUx9G1ClL+hq/tOCCfJF+86k1Luyggn8Mf6h/lUZw9BfIyDDL3fKpIqjf6KdBo+yfX9W+FXaNOMAZU9/TF9KO0+fzBGyJpj38WB00epTeitH1bLMqx+c+EEc9eqxT1f6d5m0ICimvScuxl2Mm83xDgx4h8YdeUVgY3m3toTv67VLZcZS9cKwdHFHiGJlh9BXTggIgc5DoKMEE3QMNDoMuLxgoZ5gAqEAq+4MhJhIodK4+uqrh+222y4OtLM6WZ5hr4I96qg9r7LKKnFQRGONX8JC7TPdAXkKMHC9/vrr49477GMwqGKgSHgMUBo9fszH0crfVQUTDJZRr2cfoK3GY8mZgVHaMXGzrQQMEBlEU/b4NRsIaT/p/4sEE95YE2XEip11aOntQLy3d8cee2wsPwbKlgfe8T8XPMH5wWiVfDPwsMEx2HARPhM5hDisdpvDXoaliwETRttIk036LF0MROo59qwiaLjvvvvipwgQWC1n8M3KjTmOEyVcypGBCL9tXye/SS+G9bz7/e9/n6Tz5ptv9q/ihAx/XAjtzFke0jYI0s8ZtDKZYUBiq1TwkpWcMmrJ1F/DmxM9GHR5x8SctKFhYOH94he/iM8obwZt+OMbtpqlLYJ7HnjBRCOYkK5m1IvzzjsvpheueGGQ5ZvJAwNPM8xo+SOP8AwNGe8a4US6HCkH6glx8C692oXAjXfYhEmvyPm02O8q9aiR9BNPM8oijQPhNlKvEUyaMVPKjXpD2AiBaTOYSMFXTiMCRy6+s3aL+o+rwu1GcRs+fHjsh41fCERNg8cEl0xE11hjjZhGvmNCzYo/6ea31zCJCc/5U5YH1E2wwPaG4YNBUsMnSxhWFlPfBpTtC5qRfy+YsLETWMNb7+oJJljIMYEK4x/6VYSWCOmzcCFstPUOOeSQKMRnMYJxD365r7POOnF7IEc6FzmElcccc0zsIxi30SYR1tZbbx2FU7T9ZV3VNs04QJ+KEAAO0ufZc9ojP1knHXnjjaplWVQ/KLsy9TgPl7JpYfzrt7t6mw1ozxkWLGDQ73qO+36uXrvEWJj8FI2l6oXh84rWoo2ZGKvJCQEh0HkIdJRgwtS0aBTtOEogLxJMoJKGcIFVdxsIWefCRIKBNsfmeUEHYTJQZmJskz3zY3c6eIxF7bzzzpl7tBkU0DEvtthi4VOf+lTSoeGfRpiBGPvhkOJ3qqsqmCDvqN0zaUQ118qDAbWfEDIpAVu+R1uA0yE4UcMmiQyuGWjUc3kDBSZjFj6DXVb40QqwzpEBkHecWmDlzsCZMuPOJInnaBXwPxdGoHC+oy6bbwRVJoBhBZFVPLZUWD7ocL0WAIIvSxd3NAdQ4wZfBoH2jsF5Pccqlh/owV/CTzuPBeFTt1iZQHXcyvPLX/5yzcpWI5PwrAkbacl6Tlq943+fF/8u6zdCRsMK1VJz8JA2gncMps0hwOEEE8qbrQL//ve/kz2ybO/xWx48D/yArRFMmlUvbEJJvTNhjuWNO2VsdQEBHnWP9tYGo0wuvL9GOJFVjmgFWTn41S7ad2tDmazWc1XrUSPpb1ZZZOHQSL2mnQQ7yvTKK6+MW7oQINkxv6x2w1cmk4YxdoGs3SI/uCrcbgQ3JjzrrrtuwiUMf5JO2nhWXU3ohDYG7Qk8ZIEAgSkr15b2tPAzixNVeMAJKWCBPR2Lg21Ohg/CorQri6lvAwi7TB/YjPzTDlpeWIRh1Z//0TzxW2aKBBMIX9AOM8GRhUe50A8jiM/SuqLPQbBjwiTzZ3faScL1q+seX7YKsAAEnxlrmT/u9INo16DdU7adr9qm+fgYK1x11VWxXnFSC+/IPxNm76yf5r1t++N9lbKsVz8Q1pSpxz5d/neVtCAgsfKDMwjmaZsQEpFHBNZoduA8x30/V69dKjOWqheGzx98QBhL+tiKJScEhEDnIdBRggmk86i40+jQ+LBfEFckmEAF2CaQDAJRHUP6j9q1DQpZJaHj8s6vWtEBc6wkgzr8snJtnSWNM3vr0w4JMx0zaWVyg/SZzpr0sJrFc8JA7bxs55qOo9X/VxVMIBxCJZb8ItlGaAMOXGPHjk2ygyaKTYwYrPI9HaI3+IQdhXoua6CA9gDW1m2Stfnmm0fVUibmdtwXZeoFJWYoEB7YqjlxFxls8h112Xzjx/INf0gT+UZzwZ6n1dxNGACGDODhLXhh2M6wZfDfLOcnBwhCzNgVKramQUG8fjWskUm41c16GhPNyJfnFQIHc9j2MAwpG3NwwKsUo1Gy0UYbJd/6gZnngX/eCCbNqhcIU8kX5ZV2CGgRivGe8jUVdvK71lprxeeUDXuuzTXCiazyZZuI4e3bYyYp9py46rmq9aiR9DerLLJwIH9V6jUTcFslZEuIqcpz9+0Y4XquZxm/rMLtRnBjomt5RniKQNgEizaZ485EiDLnpCBbNEB4YhNDVlm9JlcWJ6rygDDsyEHizjK0nRVPPUx9G1CmL2hW/r1gAgEjWqPki77Pt3N5ggm2XqARZnWPCeK+++4bhTc2WaRfoh3x2m5gZMJP/DKRRYDN2Af/pr1h79JapywU0Hdbn0dcaDEyfqLvtrox33zzRU25rDLxzxpp0yzP3OlXqUtctOH2jm1IfuyWNd6oWpZl6gd5q8c5n3/7XTUt5Nf6NcaqCBARxFv9ZUyMIAXnOW79XJV2KW8sVSUMy6eVA+N0OSEgBDoPgY4STCDl950rq+64PMEEggw6LzoS1M05kg2jc6yYc+d/W4lDXc9Pjr1ggpV6jPsgrcYvHTarTdZBpVfxWM23bQiEz+Sa/emk/6WXXooSbyT++Ecjww/yO4lCVQUTDFa8Q0hkGLJSZ44VNZ4zAGElyxxqiPY9x1LVc9ZB4Qf7Cwxq0IawMmfS6w3t7b777kn4rErgEAyYqj8TM+/yOlO+8R112Xyz3Ye0MnC0CSFhwUUbzMEXv53DVvTJE9wyhwDGsEKY1yzHIM3CTZ/E4le8/UknjUzCbfDTE4IJ6rPlyQtxUAW156YJk4ejn6SxKmXO88AGbLxrBJNm1Qv27ZMvNB/SjrbIJgTUB+8w8ml4eC2cRjiRVb5w3gS+vk1FCGnxeo0Wnzb/u2o9aiT9zSqLLBzIS5V6TZ9k+NC+2WTBY2K/G5nQ5HG7Edx23HHHJK1Z9kpIJ9sAjAdMZL2j3Sev6TbSf2O/q/IAf90tmCjTFzQr/2nBBIsB2DQBPxZ2TLiaJ5jA/o+1BfR9aK2wfYF6ym87AYFv0tsrvWCCrWOMieif8M/2QBsfIVBjMu4dmqZW/iwKEBcTVMZPjOnY3mF8LzP5bKRNs/DR7CBuc4w1zb4DddcL/vx4AyEArmpZlqkfhNtIPa6aFuJBOG8cAGvTuCLvvk/M6ueqtEt5Y6kqYUTAQ4hbbSk/7F/ICQEh0HkIdJxggs7VVBKZ3NMx5AkmfAfGpNR3IhQV//uO4Oijj05K0Asmso4eooO1/ajcveSc1W7r2Ngm4lfZiYBvzzrrrOSbTt0LV1UwkR6I+pMgUD82Zyu2aCgwKEF4wMVvw9Wr1pu/9N0PFJjQ26oiHS0qqKTfVuvwi7qmhU9Hi2P1xgZJfsLJu7zOlHe+oy6bbxM+cPeq8oRnKxekzwstbGLDCqLnIKtQtrJEPWmW8/lKr7j68vRaRI1Mwi1fPSGYYOXVtvawlQZhFM40ZRBMpVf1eE8bMWrUqKgxheaTcYeBtTmPV1cFE82qF7bNB06lnZ1oQl7S5cupJZZHzqw35/OY9pPHiazyZUJtK7HUfcOcuIjX2/mwuLPuVetRI+lvVllk4UCe7HmZes3KJtotYIS2FyvT6b7OcCo7oanK7bLlbhoPtMd+O4Glj7vXnGHSbO0/d7OBQV7rHQVclQfE3d2CiTJ9QbPynxZMkL9LLrkk8gTBDgszuCzBBNopbKMAZ4RkTGp9/8LvIUOGJPaF6AtNs4UwvWAivdWD9tXHaQtM+CMME1qwqESb4+PlGzRlPY/gapFrpE0j31xouKTjx76Gvfc2Nvx4wwQTVcvS5yuvfpDXsvXY41I1LfgFW8ZK5BfNYxPKoHFMu2POt6HWz1Vpl/LGUlXCsLRg54n0YotGTggIgc5DoOMEE0BsHQ0TRn7nCSZMok8jheQ3y7G31ToZVsHM0SDb8yzBBJ0VaqZ8Qydve3Txb6tpvGO1j049faFFYeGnDeZZGtr9XlUwwXFv3vkVN9+ZmQCBO6v9/jLMUKOs5/xAAaNZSPxRKSUdTCjTk3+0M2yl0lZiUF+0ONMD4bzOlHT5jrpqvrMk/d5Yp181tgkMqs9pZ3lJT+7T31X5v2q+CLvdBROk0QYztCloNzFJxlYGZY8NirSDF7QvGNIFX78H2xtP9XgZxxvBhAFas+qFqWcjTEk7hLPG93SbyUDZ3nntIZ/HMlwnTuNtmpvYDiAOhIe2IodlfJ6VEUZ6nMrWo6rp93F0tY3Kw8Gel63XCAZMEEm7hIFAf5qOlXOZCU0j3C5T7tQpM5TLpCE94bM0+gUFBIa+/beJEXzA/k6e82VUlgeE1d2CiTI4NSP/5CVLMIGWhNV/6hXjHC8ksEUUhA5W1zl2GTzTjvBNK4VvWTgwVySY4BsMFlv4LN6Yo4+1FXqElGg7pMdO/I99CvPvhQMWjr830qZZ2GCUdt4Oidd29eMNE0xUKcuy9YP0lKnH6XRXSYv3iw0lw4M7dif8GIRvfRvq+7my7VLRWKpsGJZmE2SjFSQnBIRA5yHQkYIJOlczhMgEFSNU1nD6SQGGLe25l+b7YuJoNusIWXUyV08wwXemEk0cvnM04zs8J51oeKQvb18ha+Bk6Wjne1XBhO+wyFdWZ4a6p5UZdzqsrIsBUT3nBwoYcrLjyvxWCB8GKzm2mswqOQMFm1STBhtsmJ+izjQrb+Yv653PtxeQmR9WQQ2Xa6+91h7nTvD4wCY36clf4rmBH1lpt2Dy3hmGpL/Zp3JY3F29+9UkeMqkDoEjaebEFnNMpvgfLRTaDVao2XZg9hf43rdBzcLE84M4suoEz8rUC7ZwEEbaXgl5RHDHOy4/0eAd9cbeIZQ1l5dH3ue9y+Mm/LA4wJm23r5FkFnPeZzK1qO8NOal38dBWrtSFpa3dB3Ne06ast6hSciWCzQRSBPfUM7eECt+iyY0zeJ2Hm4Ifq2vZbKb5zAOaRxAkJGHb57hRML1ZVSWB/jrbsFEmT6wGfknL1mCCZ5jHwV8EWRhYDlLMIHRVCsDLzjAv3feL9oY5uoJJhA6Wvh+Yca26vIOTdT0uMn+N21VvksLUC0Ndm+kTbO0IRxJO9+fcWKXOT/esLFClbIsWz+Ir6geW3rS9ypp8X4ZI1MHDRPGrmn7LnltaNl2ycLn1Jq0KxuG+UObg7TCFTkhIAQ6D4GOFEwAM+p/ND6sWHnpu58U2ComEwwmmVmOyagNllAfNldGMMGqlDXW/khGi9fe1bvT0Hei6w7BhF+VpWNhP2rWhYpnPZc1UKjnx1TP4QyCDFsRyprEFXWmeR018We9YwJmPMmaXGJ01d77AXnWJMXyWPTOvql6z0q7hZH3zg/k2lUwwZYdE0Swt9oPkL3tGVbrTI3frLVj6PNf//pXUj6+DWoWJs2sF2gDwaX06TOU4wEHHJDkg7x6x2DbOEjdMpeXR97nvcvjJkJmm1xjs4Q0WJwYwaznGqlHeWnMS38zyyIPh7znpCnvHVp7rMibEV/6Ndot2xKD36IJTbO4nYebL5ss7uEP57XDOPkgq/3nWd5iA2H4uKq0p+0gmGhG/sEgTzABbrZ4AjbeXpZpTPitpt4QbSwg9+eoo45K6qc/paKeYALBr9Vr6rk5H6+9r3dnC2aRa6RNszizBBNeGAMPzWWNN6qUpedsUf0gvqJ6bOlJ36ukxfvluFjTvgQXxsnpo1KL2tAy7VLRWIq0lAnD0myLBFn13r7RXQgIgfZFoGMFE0iX7dx7v3XCTwpMK4EBmt9q4YvDdwZMNMyVEUxgt8I6MC+YQE3VnrNCglS96OI4vk503SGY8OqMflW2EXyyBgr1whkwYEBSdqgQ2skqHFWbdkWdaVFHnfWObSWsvsObLEm/qSfy3qto501SSGvRu3Reyv6flXbzm/fusMMOSzD1K0z422STTZJ33rJ7XtrznlsaGr0ziDeDtPCGdgSsaRP86hCrh1a3MQZp7zCWas99G9QsTJpZL4xLWbZHfHr90bTgim0TyyNCWXPeT5kVYfzllSOr9my7Ih4mT5wewG/qGm1yPddIPaqa/maWRR4Oec+LsOMdGLE9EQ0McGNC4TVfiiY0zeI26cjClLKxE7J8X5suU2z5GM+8dlj6u6L/G+EB4bWDYKIZ+ScveYIJ3plBU4wmmw0BMDfBhLe3xIQ2z/lJP0dVm6snmMD4uJWxF0xga8qeI0AtGjfZO2+c0uL3d8/Fsm2apSFrKwfHUNp7rymbNd6oUpZl6wd5K6rHPu/+d5W0eH9e48TyzbYQ7zzG6T6A7+q1S0VjKYunXhj2HVu/SKfnlb3TXQgIgfZHoGMFEwxgbcJjK2w0Rn5SgIV9a0jz9qOy+mzf0EGboxG051k2JvguTzDBkW3mF6EDHU7RZcb2LO5OuXeHYIK82xYcJPOmEtkIJlkDhXrhMDCzTpIJkmnTPPDAA3N5te8wmJh2RR113jubTDB4T283sS0mrOp7TBqdwKTTW/b/vLTjP+8dJzhYfUgfwcc2CHvXSsEE6d9zzz1jWlATZrWFdHk1Y75h2xXPKQfUxc15WzW+DWomJs2qFzZpwOI8kxfvGFRaeWDE17tbb701eVfGwCd+8/JfxFszHsxeZps0IcAq66rWo7w0FqW/WWWRh0Pec9JU9I739DXHHXdcUlZnnHFGAp2f0Jx//vnJc340i9uElYepLRag6egndT4hfhuBP/3Ff1Pmd1UeEGZXBRNpTAkzD4u8d83Kf5FgghPGzLilHz+ZYAItMGsHsOfAeCvteGbbwviW8YA5a2N4njZ+yTd5gglsP1m8bPcpGjfZu6y0WTq4N9KmWRqwaZIen2FXiPeMDXxfnDXeqFqWZeoHeSqqxz7v/nfVtOCXOmrjHI4HZaxD3jEsi+aYuSKO2zdF7ZLFkTWWMv/ci8LgPVwwXiM0kxMCQqDzEOhYwQRQc4Qng2vrRLjnTQqQvqe3c/C/F154KXBXBBN+cINamXX2nUeP4hR3l2DCDBEy+UOlvlGXNVAoE5adgGHHirK6lxYUEI5ZD0fTIT04Kuqo897ZyQ4MeNDcMMcE2HiethJeNEkpemdhV73npZ1w8t5xXJzVUbbKmEPF3LZF8B6jk+by0p733Px15W6rdeBve5ixPeEd2iykFW56Tvg6j6qvuWZi0qx6YZb5yafXviHNTEh4Th4RGnle++1EDHLN5eWR93nvisrRn/5hddBOELA4i+5V61FeGovS36yyyMMh7zlpKnpnuHAqjtU5f+oTE2d7Tr69axa3CTMPU9PWIQ2+LfDpgJNmyBOtOb8VxX9X73dVHhCer8dpIWpefEWY4icPi7x3zcp/kWCCeu1V+40TNlbhbketUwcRvKYdfZQJNfjWT1QbFUxgyNyO56bPwwZGV13VNg1sDA94aEZ4SQfaGabZiBDBt49Z442qZVmmfpCOepzLwqxqWgjD2nz6BDSvOL4XbPifbTfmijhu33DPa5eKxlLef1EYvPNHTl9wwQVpr/pfCAiBDkCgowUTSE9tgGgdiRdMcHa2TXzoQHk3YcKE2JmwR47/bcLHKrWfGHVFMEEcts+XQeR2220X0JzAiBCOzozj3NjTm97H3QGcSZLYXYIJsLLJEQNTjxGq8w8++GCShqIfWQOFou/tHUb3jE/cd955Z3tVczcDrKQVtVI/SCnqqPPeoWZq8WJYFb4wuDziiCMSPNIriEWTlKJ3NRmp8E9e2gki7x3GySxfYMbZ5GAFzjYB4T0DJ3N5ac97bv66ciddrNJbWhE+YHvCOxNaUeZYK8exrcy4gF/2bJtrJibNqhePP/54ksf0KQFMAq3e0DZed911MSv4seMXaVPJs7m8PPI+711ROZIG26YHnpyUki4HizvrXrUe5aWxKP3NKos8HPKek6b0O+oSEziMxOHYnuiP1fQTbG9hH6G5t9PQLG4X4UZbbnWeyQiTBybB9OX0v7R3tPF2ohb1kfaPCas5+nXPP3uevlflAf4bEUwUYUqYVfnVrPwXCSZIFxN2O+nH2jwTTMApbEvYc4yMozHFuIjrlltuCTyz90xYff/XqGCCMExjirDZFst2LsrcFpbIF/8jSCYt9VzVNs3jRhoQcIELl03MeZ7ui63d5J1pUlQtyzL1g/zW41wWJlXTwjjWTsFBYxNBPEJjq7+UjfEli+NV2iXrP9NjqSphkGdf59OGf7Mw0TMhIATaD4GOFkwAJ3u7mUDQGXB5wQSNGgaZrCHFXsDKK68c1l9//Xg3+wG8x+I7gyNzXRFMEC8rrbbah2VxJtisQHL0IJNOfrNCtfvuu1uUHXfvLsEE2NtZ4ZQNOO24444Bq9JovmAYisFDPZc1UKjnh/dMkE0wAqcYAGU5BBbGO1ZPGMDYRC+ro7Yw8t4hrGLbEGHCHWynEKYNDhZccMG4YmPhcE9PUsq+899V+Z2XdsLIe8dEyVbBKE9UdKkHaKIYftxR4zWXl6+85+avK3fqv60akx5sMKR5xsq9pZn3cIAtP0ye7bnfk91MTJpVLzj6z1aofFoNO7SUrE2F1whWUfO3OsEKPG2cubw88j7vXb1yZH+w4YkBOpuUWJxF96r1KC+NRelvVlnk4ZD3nDSl39FewUW2H8FH7ta3IeDxW44QMNlkFGE932IvBHybxe0i3JjcmNV8ypeTsBCQIBSBY2Zo9sYbb0xW4zm2FyOetP+ok7N9IGvLRJoTVXmA/0YEE0WYFmFR9K4Z+fcT7Kx6znvrZ62u2USTtKEdwLiFd7QH2FugrLh++MMfJm0EbSZbM7xrVDBBGBMnTgyrrrpqUv9R76fM6Q/RcOXYYP5feOGF5zp1xqfB/67Spvnj58k79YRxBxy0egUnWZ33jnGJ4WiCCd5Xpz68wgAAIABJREFUKcuy9aMe53y6/O8qaaGdt/xwkguOvsO2X9LnmeZcVhtapV3KG0tVCYP02elllI/XaPQY6LcQEALtjUDHCyaQhtveWBpRL5gAetQLWZm1iRHf2ACb3+xtYwtH2jhmVwQTxMvqFZb6baJpDTyNuY+fM8U71XWXYAI8kHb7ASyDcQYI4MeVHhRkYdioYILO1wYgCJUYKGU5znq37yhfJt2mxp/VUVsYRe8QtNk58wwGbQWf/dIYgvMTQsJLT1Isjnrv/HdVfhelvegd+9xtQgT/wQqV2K222ioZ/ICnubx85T03f129//rXv07Sg82JtIMLDMytPsMP8sNE2spqhx12SLw1ExMCbUa9IByzj4NmF3z3DkESq6WWH7PITr3bZ599osaL/74oj3nv6pXj6aefnmDsNVB8vEW/q9SjvDQSftG7ZpRFHg55z0lT+t3VV18dOQgPjY/wkxVtbCv5NoOy9toU+KFeop3VTG4X4cYkFpV14iad3E0QZicsMEG+6KKLkv3ivKf9t7yXFehX4QHYNiKYKMK0HofycGpG/usJJkgbmn7WlnH3ggne0yYjRPbf2G/KDQECGKftMHRFMEG8CKlpi+Gzj49+w/7nbhpd+ClyVdo06oHFQV1hjEi8xlH+Z2yXzrPXIGH8aK5qWZapH/U4Z3Gn72XTMmnSpGThgIUR/jdnWx7BiDyTliweV2mX8sZSVcJgYQGBGelCgCUnBIRAZyLQ9oIJjFMiBeXyUmgPN0cQ2jfp4wj5jkEXaogIINj6QWeKMTWEGHfeeWdNo2vhsoKEcU3CRbCR5eicLF5To/XfIbFlfyKGioiL1W+MuaGxwSrkkUceGbLS68No598YK2QPIhf4ZrmBAwcm36S3YAwePDh5ZytlPgw6aFY6KAdW9RjMcvQkqsl5XPD+WQEkbZSR14bx32T9RqXfBsCrr776XAMQ84NqJIa9WI2ibBkso0qIazTf8G7o0KHReB15poMl/+znzVoBQM2ZPDIwSLujjz46vuNo3Wa5RvOFgJBVzt122y1qDFEmYMW+VeMQBtnM5eUr77n56+rdp4e8ZrkxY8YEsN18880jL5nMsIJFfSYv3ip5EV5VMbG0dLVeEA7tDgM4BtxZ+8cZnGOLgpMaaK8Q0lB+WQLBojzm1fF65ciRrTY58EfyGQb17lXqUSPpt/i7WhZWR9P1twgf82P1mvYKDT0wQ9BHHePUBfqetMYP6WbLBKcMoX2AQO3AAw9MVOKbxe28cjfc2Jrj23bSzNGT3gAukyi2gSHU3GOPPWJdg49gle5LLNz0vQoP8Evba+1RlsHjdPj2fxGmjfKrq/ln4mzjEwQQWQ6tEnC375hkekcYrFpjJwh+obWAlg3CV7bhIEDI6lv9uA3/aUfbZ3Ey+cxy9AccBQ+X6VsRCKOdRp/ISRGcigT3y7qybRpCBeMAPKatRNCCdgl1BWGIFzxY/DYpRmCTxqRqWZapH0WcszRl3cukha1S5Bkc0Jbwwk3GuozDeIedGMYlvr5b3azSLuWNpaqEMXz48GTxA97ICQEh0JkItL1gArU6VFG50hJqg5xOwr6ho81yDFCQ+mJlmM6UzhJVxbwwaYhpnAmXTjTL0UBbvHnh4I80EReDWOJmEk466CizBo5ZcbXjMwYxdBxcdHZZDgGCfYN2i3eUm72jY8pydHqUAxM/OmvwzpqgZ/ll/zTh46eK88dqMTkrcpQf9kooWwbVZkekK/mGS2jwkGeOoSX/efziHXmES2nHM97l8Tf9fZn/u5Iv6jIYjRs3LpYJ2FHuxgHqqLm8fOU9N39dvcMtS0+arz5s2hLKhjJ65ZVX4itLmxdSFuGFpyqY+Pi7Ui8sXlShmfwj8Mty1E+4TXvFnu5m1nHDKou3vDN7FmzjyIs3K83+Wdl6VFRG3d1GWR1N41CEj/nx9Zo8sCfc2qG0BqDHhd9wFuPR8JcJoG9fmsHtqrjRLhCvTwfp5H9Wu3lPWuEj7bqfKKXzlv6/LA/w59PN7youD9Ou8Kur+bfxSd64iPzBJ/suD1faKfiFlhC2KZgUF9VL3lmYWf01bb29L0obYwy4TPkjNCNu2l3aoyJ/eeVGmdZr08DA9wGklf9pB6kraeENcVFObB+gPUWzJ8tVLUvfxufVjzzOZcXvn9VLix/b+f7MwqDsDCPC8vXG95tV2qWisVSZts2OrmV7mI3DLL26CwEh0DkItL1gonOgVEp7AwIMfsxgKjYQbNLZG/KmPAgBjwAr0QykUU2G9+3gmBSgwm1q02zpkBMCQkAItDMCaAnYNhOEqXI9iwCCMrPFlTZK2rMpUWxCQAh0FQEJJrqKoPz3GgRQU0dN1VTIMZwqJwR6KwKsUJuxz1133bXl2UQowbY5BCXUQSy1szInJwSEgBBoVwTQCvDGG9niINezCLDFhj6Dk0LUZ/Qs9opNCDQbAQkmmo2owutIBNiPjbVvM/jHyRFeVbojM6VEC4E6CGDA9txzz809eaaO96a9Zk82NjpMW4nVR868lxMCQkAItCsC2EDBOOi8884bJ8bzzz9/3HLUruntrenC1hf92G233dZbs6h8CYE+g4AEE32mqJXRIgSwBm+qmJyKMWLEiKLP9U4I9AoE2NfLXm32kLfSsU/ZtDeoh8cdd1zL09RKPBS3EBAC7Y8AWpW2mMHRvBgJpS2T61kEsHFBP5Zl/6NnU6LYhIAQ6CoCEkx0FUH57xUIYBDrC1/4Qjyje9CgQXNZ1e4VmVQmhEAbI8DJRRy/e9JJJ2WelNTGSVfShIAQ6IMIcBwvJ3dxMhfaZ1mGIvsgLMqyEBACQqBhBCSYaBg6eexNCLDKwfGVWP1OH/XVm/KpvAiBdkUAA2a33HKLtlC1awEpXUJACNQgwIkxo0ePjid9SFOiBhr9IwSEgBBoCAEJJhqCTZ56IwKotcsJASHQGgQY2Eso2BrsFasQEAJCQAgIASEgBFqNgAQTrS4BxS8EhIAQEAJCQAgIASEgBISAEBACQqAPIyDBRB8ufGVdCAgBISAEhIAQEAJCQAgIASEgBIRAqxGQYKLVJaD4hYAQEAJCQAgIASEgBISAEBACQkAI9GEEJJjow4WvrAsBISAEhIAQEAJCQAgIASEgBISAEGg1AhJMtLoEFL8QEAJCQAgIASEgBISAEBACQkAICIE+jIAEE3248JV1ISAEhIAQEAJCQAgIASEgBISAEBACrUZAgolWl4DiFwJCQAgIASEgBISAEBACQkAICAEh0IcRkGCiDxe+si4EhIAQEAJCQAgIASEgBISAEBACQqDVCEgw0eoSUPxCQAgIASEgBISAEBACQkAICAEhIAT6MAISTPThwlfWhYAQEAJCQAgIASEgBISAEBACQkAItBoBCSZaXQKKXwgIASEgBISAEBACQkAICAEhIASEQB9GQIKJPlz4yroQEAJCQAgIASEgBISAEBACQkAICIFWIyDBRKtLQPELASEgBISAEBACQkAICAEhIASEgBDowwhIMNGHC19ZFwJCQAgIASEgBISAEBACQkAICAEh0GoEJJhodQkofiHQZgjMmTMnvPvuu/HqzqRZHMRX1pmf9957r6wXfZeDQE9haXyaPXt2Tkr0uDcgQJ00TnVHfrLCF7e6A2mFKQSEgBAQAkKgNQhIMNEa3HtFrK+//noYMWJE+Mc//hHOOOOMcNlll4WhQ4cGTRo7u3ivuuqqsM4668Rr+PDh3ZaZjTbaKMax//77l4pj0qRJSbr++Mc/lvJT5qNBgwaFa665Jtxwww2Zn7/44ovxPd9MmDAh85tOe9hdWGbhcOqpp8Zy22+//ZLXU6dOTTB98sknk+f+x1133RW/uf322+Pjd955J1x//fWJP8oj73rssceinyFDhuR+g98BAwb4KPW7CwicfvrpSf3sjnqSFf7IkSNjnOutt1544oknupB6eRUCQkAICAEhIARajYAEE60ugQ6N/5lnngnbbLNNWGaZZcL3v//98PWvfz1873vfC0sttVS4+OKLm5ar0aNHh2233Tb86le/Ci+//HLTwlVA+QicfPLJYZ555okXQorucp/4xCdiHIsttlipKMaPH5+ka+utty7lp8xHW265ZVh00UXDD37wg0yhGnzmPddNN91UJsjcb9qFz92FZTrjjz76aGwb4NMpp5ySvEYgYJieffbZyXP/g7aFb5h04p5++ukAV8xf0f2CCy6IfrbffvvC77fbbjsfZenfgwcPDieeeGLYaaedwh577BGYND/77LOl/ffGD3fZZZekfj7yyCNNz2JW+FOmTImc+NCHPhR23XXXUEX7qukJzAiwXep7RtL0SAgIASEgBIRA2yEgwUTbFUn7J4jB1tprrx1sYsmk4yMf+UgyKL388sublomDDjoofOxjHwuf+9znwkUXXdS0cBVQPgJeMPHPf/4z/8MuvjH+LLTQQqVC6q7JNMI0E8RkbTc46aSTkvf/+te/SqU176N24XN3YZnONwJFsKWMvWARzQfD/Mgjj0x7i/9//OMfj98svPDC8f+HH3448WN+8+5ocOFWWGGFQj9rrrlm/K7KH4R1cOYrX/lKbAM//elPR+HLWmutFR588MEqQfWqb7MEB83MYF74559/fizjeeedN2rwNTPOrobVLvW9q/mQfyEgBISAEBACPYFAnxJMMOl47rnnwiuvvNIT2PbKOMBw/fXXTwQRqOMzUL/tttvChRdeGLbaaqu51N3RrjjnnHPCnnvuWRkT1L9t8vHnP/+5sv/u8vDWW28FVMx//etfh1tvvbW7omlJuBJM1MLeTMFEu/C5JwQTkydPDvPPP3+sv3/4wx9qQG1EMPHqq6/G7WJsGeM69NBDk7bhZz/7Wc07tCtwXjCBUOnaa6+tuYYNG1aTrnr/3HLLLQFBCW3St7/97fDb3/42bLbZZvH/D3/4w2GTTTYJWcKteuH2hvd5goNm5S0vfPrzBRdcMJYBgrBmu97YfzUbI4UnBISAEBACQqAZCPQZwQR75TfccMOw8sorh0suuaQZ2PXJMB544IFEU4IVw3HjxoW33347YvHmm28G9nanB+aoYn/zm98M3/rWtypjdv/99wcGpLvttltU5a4cQDd5uO6668Liiy8ePv/5z4e//e1v3RRLa4KVYKIW92YKJtqFzz0hmPj73/8eULFHmyqt2t+IYAI1/VmzZiUXAkETWiLw8e9Mpd8LJqZPn54YZzQjjfZdbYnn/7fuuusmcf7nP/8J2B9hu4rF86lPfSpg96AvujzBQbOwKAp/7733juXy1a9+tekLD72x/2pWmSgcISAEhIAQEALNRKDPCCYwdPZ///d/cfDSTMN5zSyMTggLoY5NBtjTW8Z96Utfin6wQ1HVYfCO1U9WrapOIqrGVeV79sUbDhJMVEHug2/74laOduFzTwgm0Kyijqy44oqBfHvXiGDC++f33XffndTB3/zmN+nX8X8TGJCON954I/Obsg8RwLJtg7BoyxDEmjv66KOTtCCQ6YuuSHDQDDyKwseALeWCIAxuNdP1xv6rmfgoLCEgBISAEBACzUKgzwgm/v3vfycDRwkmGqdPv379EhyPPfbYwoAwEIfq82c/+9nohwEe/3OheYF76KGH4v9meZ/TAs4777zwl7/8Jb5/6qmnEj+vvfZaEh/7zQnnzjvvjM/YonP11VeH0047LVxxxRUBNfI8x2rpvffeG8gLW0xGjRoVOCXA0sZpI3mO9PGdrdAxGD7ggAMSv6ygWjicWJJ2jz/+ePKeidLMmTOT/xG+EPcdd9wRTzkhH0wgixxqzHz/pz/9KZ6OQvh5rqxgJ60xAbbY9+B0BU5gmThxYl4UUXhEvtnWA76kjZXqLFdPMIH2zaWXXhrYwtO/f/8ooAJvrrTxS8oUTmGoEkOEYFfWGGGjNiYa4WAenz0+xiHyjdCLkyW8oxzLYmz+qmCJH+Igf2yZIB333HNP5KaFV++O9sIXvvCFWFZZNiQ6UTBB3Tf+rbHGGjUQIPi2d2eeeWbNu6J/yuCMQMTaFNoDsOX0o3PPPTdeTMqLHNvOqBvUYeokmh4YjfSuKqdou2h7seXBFhlO4SgSHBBXlbaqavgIiUyAgF2Hsq6o3SjTf6Xbb3AEF9rKMWPGhLz63kjbYXmq2n9Zn0VZ/fWvfw2cdmNajham7kJACAgBISAE2gGBjhNMMChjwsGElo6f33kTHw9wMwQTbFGYNm1aXL1nYMEk8IUXXphr64KPt7f9vvHGG5MBOIbjio4Gxd7ED3/4w8DeawbtqHTzP9emm24aoTnqqKPi/0suuWRUgUZtli0fWOTHsfpofkx4wXOESzxfeuml46CdLTqLLLJI+NrXvhYN7RG+7TOPAf3vD/z5/e9/H3784x+Hb3zjG3GLyU9+8pNwwgknJPEUDfSZoBEv21hsIkKclkaMRdpvO03Ax8++eHvP8XYMGu1/0rDDDjuEJZZYIq7IYjBw1VVXDXlHdqJCzvYkvmePNaejsELMxCPtEDZssMEGETcGz0XOCybYQ8/+/e9+97sRW+LYeOONYx1Ih8Fg9/jjj49l953vfCfiS9o4veX5559Pf55sCcoyfnnzzTfHvHDSC3n70Y9+FJhwGOZeMMFAHR4tu+yyMZ2sZhPmSiutNNcEbK5EhBANGVq46W1IfJ+3laMRDubxmXjIByc9UOZwgnyDo58EV8WYcKtgyffUaTiw3HLLxZN2SAf1E27S/pVxGIFk9Rpcs45h7UTBBJNQM8gJr33bh/DGOGTC0no4lcWZ/s3aCOLhFBCEaWyP46It43mWo4/EBobVDdo82kkEKeaqcmrGjBnRXpBvp2jr6A8Mg/TWnSptVSPhk5fVV189xr/88stb1grv9dqNMv2Xb78RqB9++OGxPaZPQDiaV98baTvITNX+C6E7Rz/DH9pF+lbaUjMOWwiQXgoBISAEhIAQ6GEEOkYwwWrLMcccEydXTDh++tOfxovfDNx33HHHZPXcMGRwvPnmm8eL723QxKTFnvs7k860wzgaA4599tknsL+YSRpxMmhnErjKKqvEyaFpAKT997b/saz/xS9+MWL5mc98Jk7o81ZfUOVmUmMTFPDnfy5ww5nVfr6hHE2IwYAb5yfJ/oSI3/3udzENbM9h0EXYn/zkJ5My5iQPDFOmHVoe8803X/Kd+WEgafzwApC0fyYdpB8L8PY9AhfLF4ZAGQDyDo2AtOaGrc5zyggaIGhqWDhMGkgP4Rlm3OGZP9GANLFCCV58y8XRiR/96EdjWPz2fORb9l4TFgKVIq0KwvaYkxcwJl2WJrDNWpVEsLLAAgvENPANl+GAMINBtXd5GhPUWytT/JMv4vbl5gUTTMrMyCJYUL8JG2FKOk4fv/22MiGuKoKJRjjosfV8ZqsDQisv8IIjYOgFE1UxroolmLDiD1/AA1ytbsABbDmUcbSZ+Kfc0ABJu04UTCDQQwBKvsDCBIBwjDLiOW0iRjrLuLI4ow1A2FwIqogDXK3+8Jz2h8m/dwg0SS91gm9oW02LBY0xc1U5tf/++ydacIQLR4kDezv8z+UFE1XaKtJUNXzLB0JU4gYfv83G3qfv9dqNMv2Xb785bti3UWio5NX3RtoO0l+l/6LPYKxifaqvy3acbhoT/S8EhIAQEAJCoJUIdIRgAq2ILbfcMg6SzU6EDYDsziAtfUwlE0wGTFzWOdv39tzfUVtOOyaFrDLYdgTz7++kaezYsWmvvfJ/Jm6sTlv+mUgxWUFwlHZMihgAM8Hie1Rt+Z8LI4A4G6DxngEuxuNYETQDpXkDO6z8Wxq4//KXv4wng6DGT5ny7Mtf/nLNCi/aLTbhYq84kye2GmBJ34c1cODAdFaS/8kn6T/wwAMTP+xvt3whiEBDwMLjtBJzCCLIH+9sssnWDfuWOxMPJjyoR/ObZ3CXI/G8Y8WNfDJBYUX/vvvui9oKFpYXyqBObM+5G/Y+PP/bY873e+21Vzx5hO0ihi2DXFY2zYGtTWARsJCHm266KQpVCIOy/e9//2ufx7tNrNIaE/vuu2+SXlZ70dJhEmer1YTnBROs3PKMNF155ZVRzZ1tPWwDKeMaFUw0wkGPrRdMkEdTRUfwR35RuUbbAI7iGsG4Kpbwl/YOPMGVLTSkg0kXzxDIldkiY/WaMskS9nSiYIIygMPWl6B5wIo4AiUmw/QDaAzV00ginCo4o1kB9nZxGghbljD+iYDcniNgMIc2AIJ06y9//vOfx61ulCdptm1xVTmFlpcJN2jXaUNJx2qrrZakg/R4wUSVtqqR8C3P3v5RvS1w+KnXbpTpv7zQyHiBdgrbl9DYy6vvjbQdVfsvtESt/DEezcILfdspp5wS2xLDTXchIASEgBAQAu2CQEcIJlBvtkkMq8GsjDBJooNlULj99tvHVdL0nn62W7DvlcsPnFD/t+f+Pnr06LnKxSaSTKwQUqBhwUQc7Q0GH/jn/HrUfPuKe+mll+IpGUyKGYSyUsZEkZWxLGcTLlbf0+6II46oGdCyN9dsLfBt3sCOCYANyBmom3FMVM39ajtbfszBF0szK/42OIc3rIBaeEzy67ki45fYV7Cw/DGJaN/Yc9KPQ9vEnnEnv6yesy/ch8PKpzn2X7Olgu9Ry2XVDsdkx44yZAWVMHBwk/JhIrH22mvX3frkMWcrBYN8JlusBC+22GJJer0wDj+GLfWVfDGhYsJtz9NbW6xOe8EEqtGmdYHQC1V0JrbEjUqyYWWCCQbr1E2es33HtHe4e8FJBCLnT6OCiUY46LE1wQTYUi7kAayY7NmqO3k3rY+qGFfFEnjYg27lxQSWtFGOnu/YNqjndt5555gf6mKWa4VgAuElbbe/0vY7stLqnyFIpE6bgA7hoa2SI4wB8zKuKs4WHxxBEMmEmLLBBonVCYQP5tDssvqF8AJBgRkgpf0wV5VT9HsWH/mlDSUd/oQU3ptgompbVTV8ywd3FiIsbV5jzH9jv6u0G0X9FwIgi5M7AjwEv9jhoe5m1XfS0EjbUbX/8kJJL4xGuE6dlhMCQkAICAEh0G4IdIRgwlaFGDAPGDAgqgYzcKeDZZLMKgvGwPyAC6AZvLFqweUH1gcffHDy3N5ztwmALyQTTLAKzGAHdVmMATIAZfCBPyZPfc0hCGBgagNmBsGovnJ8aNoVDey8NXsEDDbJtjDyBnZ+33/aIr/XWGBibA4BEoNHeOTLjAE7W0tsgOkHceY3ffd8Sp/KwUTeVs9MMwL/TOgsDgyr4fxqKFocDJjNsbfcts3AQyZFOGxgWPgMPr1jZYw4WCnzq4Zs3+AUA59v78//9phTxt6x79rygEE+c7a/PB0vdZBtOfhhVdnXMZs4ecEEEyqbGG+77bY1A2hWiS1uE0ywTcCesbeciUJV16hgohEOemxNMEGZWDvDEbR5NnOqYlwVS3Cz4zCp1377EEJHwxmO1XPYPuF7VMmzXCsEE2i9IZzzV1mtGp8HVtJNa8Aw4U6bUNZVxdm0heAJfZ45+iNLg9nl4R1bG+05As48V5VTtpWFOurbeuq5F1qaYKJqW1U1fJ8vtq5Ynk3LyL/3v6u0G0X9F0IZi5M7GnveZdV33jfSdlTtvxDEWdp8P+jTp99CQAgIASEgBNoJgY4QTJjKJYOhtDp4WTAbNX5pEwY/eSobZ2//jsEdarq2Yo0tAFa10wKiooGdXyHLsluQN7Dzz9OCAQyQ2YAMA2TmTEUdbQJbWbd3aL6Yn3qrbfgpEkwwOTbOovpu2jQWB5MaEzIQlsWLTQQGut5h08TeIwTDeU0KMEPjw65f/OIXyfcI6xpxHtv0pMZjy7YJcyZ84J5W3d9oo42SNHlhSZZggi0rll87mcXiQAPK3plggnJEoMVzBDtoUJXVlLBwGxVMeJzKctD7McEE23YsXxhmzXNVMa6KJfEigCUt8BbNIeMVvy2N1PF6zoTJlH2Wa4VggrrE5M5fJlxD8ILGXNblNcGot2joWZvnuYM2H2VZxlXF2eoKbZdvI2hbTDjM1hJzpjmFMDB9Aod9w70qp2wrHOkwDQwLb4sttkg4YoKJqm1V1fAtbu4sUBhHfdvkv7HfVdqNov6L8CxO2p+0PZWs+o4f/7xs21G1/8KOhKWN7SVZNrQMD92FgBAQAkJACLQDAh0hmGCPu3WwqEpiHAtL86zSlHUSTJRFqtp3DHqx8G1bIRiwo6bsXdHAzgsmzK6E9+sHcDaR471/zhGW3vnVKPPDQNQmE5zCkXaeY6yI1nNFggn8YuMBziJMMw0MVsN5lp7YGbd5n3YmzOAb07LwmDFYZaXULm88ERsPjbiuYLviiivOFSWq85ZHywMf2WTLC/383mubNFqA2DawcEwwwTsG9jY5g2u8s4mR+S26+8llWqiCP88nP/GsihNheT/GTWwDWL68IM2n2fO3LMZVsfRxUFeMU3a3NDLJqec4xYPvmaxmuVYIJlhRRzvFX2YbhyN/aReyLrPdgECAbYRMQMkbdRPBDcJB02BCOOGFb1l5bwRnqyts4Uo706aweoRg1Npj0uMFGd6vT0cZTrE1zAzsYkw67Wz7DthY/avSVjUSvk8DuBtHs+xF+W/5XbbdKOq/CMfiZFtPGuus+o4f/7y7+i80nkxACD+pk/RbaYFSGhf9LwSEgBAQAkKgVQh0hGACdVUGTjYAwKYBe5dRF/b7sYtAlGCiCJ2uvWNwj+aElQ/CIz9AKxrY+YGrWbn3qfEDOJvI8T7ved471J8tfagvp93ee++dvG+GYALBmcXXr1+/aITTJhdMdL2z79CySDsTcPANkzmcF6IwAQHfrKvodJF0PP7/rmCLinraocVgebz22muT14aHTah44dWP0/v//cTDCybY1sWebVaHiYdw2UKAhkUZ1wzBhOcmceZhmPXccy9vVdPztyzGVbH0cYBjFqd4llV/0jiDP2Gk7YrYd60QTKQ1uSwt3M3Gh/GPEogBAAAgAElEQVTU3zHGi0PASP55R39kGkxsv9p9993jcwSR2B4qco3gnFVXLI70OyakpIN0Ylspz/l0lOGU/x680s4LUU0wUaWtaiR8nwZs3li5ldGsLNtuWJln2Ugifoszy55KVn3HT97zvHcem6z659sQ338hCLbtMaQTDRm03nz/7DHUbyEgBISAEBACrUSgIwQTdKJ0thi8xHClDQRYBWDFGNsG7BUuMugkwUT30gzDi6ZST7nwv7migZ0XTFxzzTXmJbnnDeDynuMx650/1i1rdTBvYJckJPWjnsYEwhqbKGPzgr3WxluMYHpnz7MEE17bABsROP+MI++YzGZdaXsdPs6i31n42fdZ7zA4annIGjTbMX5844Ul6QkVcdjxsXybnqTnCSbwB99YecRYJ36ZmDEptm00lv6su60q4s9vsbFv/Sk0nJJhLguLeu+y/LBaT9xc/hQXC4t7IxhXxRLtJ0vHj3/840xOUSYjR470Scv8zfGwhIXdjyznjSVi8yftWPW3EwVo87Mc9cHSm7YzY99jsNi+KRJMoE2BhlHWZXZZEDhYWBgi9I6JeJFGlv+2EZyz6oqFmX7nuZKHP379d2XqrW9DswQeWYKJKm1VI+EbBtyZhFv50N6WcWXajaL+izgszqz2O6u+4yfved47j02V/ot6NGrUqHjSlWn1cFpV1iJAGbz0jRAQAkJACAiB7kSgIwQTBgArHKxanXPOOfGIR5v40eEyIUnvSTd/3K+66qpkAGGquf593m/ZmMhDZu7nZtCNgZoN5vmqaGDXU4IJr96cpQ7NqqgNMP2K09y5fP9JPcEEwjSzD4HtiNNOOy2GDxbpLUgWL5omacd+dnv/2GOPxddeO8VrIKT9Nvp/1UEz2x9MvZ0JbdplTVj4Jj2h4pm3Vp8WVGFw1bDwGhMWH7hyHCIaGHyHinuZE1b8cbHEkXbeur2flFfFiXCz/HASjeULA59ZrhGMq2Lp6winvXTFWZl7uwc+POqY5Rm7KGnHhNHe59mpaKZggvpadJE+E7aQLiZ73lE+JpilXwLLPNcIzll1xcJPvyMtGPgknQju81xVTpFu2zaSNQmnHK3MTGOiSlvVSPg+bxh4tPjRsizr6rUbRf0XcVicWZhk1Xf85D3Pe+c500j/RbvmT8CizZMTAkJACAgBIdBuCHSUYMLAw7gdAx9W3XbYYYdEbRXhBPtmsxwrnTaAOOSQQ7I+yXwmwUQmLJkPV1111QRj7AGYs4Hd1772NXuU3HtKMEGENnFgIO9PHOCdn3RUFUxgZDDLcWwmnGNftp36kTUgNF5i+C3tmCDyHg0AW81HO8j8VBGypcPO+7/qoJlwTBjAhMifvME700hgBdyvWqcnVHzLEZWWN05s8Y79/PYuSzDBt0y2jjvuuOQ77J/Uc17wwEkWaYdGlsXrNYEawSnLjxeaMqHPc1UxbgRL9smTV4xf+rLKS1Pec05zIRxOwsja0+4FD1knd/gTFtInz1iczRRMWJhF99VXXz3hwfPPPz/Xp2Zwksl7kfYeHqvinFVXLAFZ7+yEDLQ4MAqZ56pyCqOXlCvCFztu2cLeYIMNEnxMMFG1raoavsXNnQUL0kZbiTZIFVfUbhT1X8RBnFzdKZggnq72X/R5ZoOI054QdsgJASEgBISAEGgnBDpSMGEAMvh78sknkw6bAUneIMyrefrz3i2svLsEE3nI1D7n6DgmMwzQOHUCQ2bmzNI6q+qsSnrXk4IJf4SeN9CJoMsGbKS/jGDCn3jAZDPLsbpug1bjUZZWj32DAMMG9ISHcMeM2PkTO/jGjD0iuCizXYFJHFbaEWSkhTLptGdNnu2bvHdmkZ86yJG+5tgbzeSUPCI49OWfNaHywgdUlv0Ez8fNsaV5DgOShumxxx6b91ny3LRZ8MP2B+84FtiObJ1vvvlqBvM+PV2xMcFRrrYNYIEFFgj+FAiflqoYN4KlaeggRCpjQNCnz//GkC14wgfPafuGSRG2gvgGfnhBJt/4bRNsV8pyPS2Y8O0HNmS844hX01KA5/VcVZyz6orFkfXONFbAF5sCea4qp0z4QLmyMGCONnT++edP6p0dJVq1raoavsXP3bTesk4G8t/l/c5rN4r6L8ICY67uFkx4/jXaf6HBRFrpaxDGyAkBISAEhIAQaCcEOkIwweT13HPPDahnpqX8HO9mk0omcXn76tmfbnuWWQFhr7tNkliJZqXUVOV9AdmEkpUluRCwj4B6LpN3BqOsTIGdNx5nxuIML7YoMBhiMIvRO8Od9z0pmPD72ilP9vPDKWwgGDdIZxnBhLdZwvGDWbxDYIDBNMLkYsuRGcwzbLjbe+677rprFDSwGumNF6KGaw6hj+HNAJN3fvWSSV5a+MCqNCtuHFOYlVYLm3sjE26MzVk+MErLRI2VctJGufMurd2RNaFild5We6l7rLjCFybvtiJNWJtttllMMu/YL802Lxx89Crll19+eXxe9IfJkwmAaEuuvvrqqHkFhjbZIc600KIRnLL8oOVl20nACsEpvCRv5MdW56tiXBVLMLrrrruS8kLo5ffqw7sydYNwKC/jQ/rUASsLf4rDdtttF/MJFth5sOM0EV5k1RnC6GnBhNdAQYvGVuURnqEdZTw/8MADLYu596o4Z9UVCzzrHeVmwksm1ggl6eeYjCLMNy2Wqpy66KKLknJFgwTBHX0yWkqWf8qdfhlXta2qGr5hwJ1tZMSddxKM/7ZKu1HUfxGm8by7BRNV+y/KAM0jHPmFE7b9NS0k9tjotxAQAkJACAiBViHQ9oIJBlBM7lgFwZAXBu122mmnsM8++4Rtt902Hu9mAzAGSn6F1YPKgNdbp+ZoRlZnmOBg+ItBxVlnneW9xN8STNRCwkomkzeO1VtjjTWiHQWwsxVfJsxpAY+fgDDpZOBok5WeFEwweSfNDCQZRMMBOGWqujbATO8fr0Xg/f/8KjeDPTjE9oK04AzDlxYuOKXfE5q9547WCZzEXgeaJ/bsqaeeqkkG+6ltkIkxM+oFFvCpGwgh/PYSJg8IMAiLOpCVBh941uTZ3ue9Q0hlhmmpM6SfcjahISranF7gXdaEivf+eE4G0GhHkG4z3kY+7LQHhAqsAoI/PONuGg60G2hs1HO0Mb6cCA8eszXJVsG5p1f+87Agvrx3ec+xjWFxgQu8RFiBnRJOZsE1gnEVLImD/fa2ak27ymSPlVq4xXYn0mWT2pionD+0t7bSjAHELIe9ILNZAJfZ7gTuTARtkku8eSu7PS2YoB7Z1iq0vxAgYRiVNJoAEoGKaQtk5dmeVcU5r64QXtY7tlNtueWWSduCUBIBKvY60ETiBAtcVU6xBceERpQd/KR+WllTN7m8gd8qbVUj4ZMPjA2bcLHM9q0q7UZR/0XclufuFkxU7b8w6MxRv/CAsZIJbkhvGU2ySBD9EQJCQAgIASHQgwi0vWCCiYVtEaBDZcDKQAz1X5sM84xBcz1Dd6zEoRJvAwn8+clO1v5uCSZq2ciKvuGXvjOBweglqzPeceyjTRbxw4TnoIMOip/0pGCCCFnxZZJrEx/SwzFvZqiS/8tMLJh4+ZV5woOPaAp4d/rppyd45Z0cYDgiiEDIAD6mwYHQBIOI6ckZq5+sLpr6NN8zubNJCscXmkMzxOLgZJt6Lm/yjL+id/fee29YcsklY1ykx4QhaKdgpDPNC0trWhuJOm+q7qSbcMCXVWoG/zxDaIBDu4F3XExMuPN+2WWXjSvv6Tjz8s5EzbQWDCu7Y0AQzY10GRRhkfcu7znaNQjrbNJH3NY2IcwzVxXjKlhaHByz6ie1lBPcIj1caJ+VcUyGyAfCJepL2vEMI7Jw3rC2O+VI/crTliCsnhZMECcCJIQzpJP6Ttptq9Kiiy4atXfqCf4Mhyo459UVwsp7h4CYPs3qBHdrV7BrYq4Kp6hPGKVlWxMYECY40E/6U2DAyVyVtqqR8InHtmGQnjKC5SrtRlH/RdzG2e4WTBBXlf7LhGi0nzZWoo087LDDwosvvmjFo7sQEAJCQAgIgbZBoO0FEwzY2SqA5Xomxawmc1QZK2usDh966KGB/ZZMJtMThzTKrFKx/x0/GM1k9ZwVVgbQrHyZ2qP3h2V7vmcfulyIggfwRrCA+jVlgBovA11UhLMc6rwYH2XllFV0Js12zjyTC7ZScKGFkHbYBrH3Xo184MCBmc/x7/3YyqCFy8CXgSvppczRLGB1j1U/G2Bmncxg/v2d/HJsIBiw4o4KNxzzbv/990/CTR9/ad9ZvKzUgxMr5GyHQJBx3XXXJUYv7Xu7M+C/4447AiuEbDlAY4PJAZNfj5Xt12dwWjTRs3AbxZYJ2dChQyMfSAsrygyCqXNpg5jExTYPypb0ph22YsgXdXPzzTcP/fr1i6u8qKTjx/ZYM8C+8MILAzhThrvttls82YPV+DIr+xYvvGAVFXsGrIAjBKGNgCOo3WcZgmwEJ89NX0akA+4woSPfe+65ZyxPuOBtPVTFmHDLYmlYcGdSS7yUH2XJBPf3v/99YGtMFhber/3GDgPcRtDmJ6r2njuCPDhv8cB7ypLyTWsJeX/8pp5a2+DtHfjvsOnCN7Th9foH7y/vN5zCdgwCR7ZawRP6JTRTmMCWsffiwy6Lc1FdwUgsecwSOlLffTlSP+C0b+Oqcoo8siWPPoD8w1HKkD7YyiNtM6RsWwU2jYRvQkU0+bLaGo85v6u0G0X9F2HBLfKNkC3t8up7I20HYVfpv6hzlDV1lzpMeSH8TG/zS6dZ/wsBISAEhIAQaBUCbS+YABg6Y1Q1GWQxeWDvJCvzDFxZEWTQU9ax1QM/TCofeuiheDFwnzhxYubAFfVdvvfW+MvG1Vu/A2/U8sGNMgCbrBVRn38G9M8991yc8DAoNs0CwmKQyJUVBpM1e+8H/UyOsp4Tp/fDoDLLERdlbtxB2MUkihU3b68hy69/Bi/BAKEKtgD8ViIGgGxBIlxW0ywu75/fJpjgG3AiHAb53LMw8f6Jj73uYEoawBgbEtQZc6huEwfbH8pMzrqCLemBD6QFOwlg4DGxNHHnHWVIOWQ58gXHCMf4At748XYySC8GI5nkgUNX6irxoBGAQIs2Iq9dIL2N4OS56fls+bfyZGJnnErzpgrGFm5ZLO177kzwKCPSQdtLO1hm0mdhUI/MLkiWNpp9B+ctHnhPWabzbN/6O3XD2oC87+EJ35D2ZjrwpIzgCdik61yVuMrgXFRX4Ch5nDJlSma0PnzqB31auk5W5RTY0weQf9ophBuUo5UHv9POuF3UVpmfKuFTDmZINc9QqoXr71XaDfKT1X8RHtwi375Nsnjy6nsjbYeFyR186vVf9AF8Az+pw5RXVpvjw9VvISAEhIAQEAKtRKAjBBOtBEhx934EGFCanQmONE0P2htBgEEhK4mmOs0Ka57zgom8bxp9zoSG/fDEwXYKOSHQkwig/QH3qF8Ik+WEQLMROPjggyPHEAIjIOhrrjv6r76GofIrBISAEBAC7YGABBPtUQ5KRQ8hgHaDX11l5YmtDmhKMIFie0pXHUIJth6YsANjfkUrtt0pmEB1l/CxuYChOzkh0JMIsDpvRvfY8iAnBJqJABpVZmcHbQmvKdbMeNolrJ7ov9olr0qHEBACQkAI9D0EJJjoe2Xep3PMXlvbF82+bWwYLLDAAnHyjmGwPDsQZUFjqwSCDjNiyP56DLMVue4UTGDYjuNd8/b4F6VL74RAMxDAjgzHPV955ZXNCE5hCIEEAbYqwK3zzjsvdytL8nEv+NHd/VcvgEhZEAJCQAgIgQ5GQIKJDi48Jb0aAgxi2dbA9gr2JGNZ3o4r5DdaDl3dg8s2EFshRiiBYdB6Niu6UzDBXmb2nmft+a6Gnr4WAo0hAPfQ1qlXDxoLXb76MgIIgvsKt3qi/+rLXFLehYAQEAJCoPUISDDR+jJQCnoIAYQOZ555ZrRQjrHLpZdeOh4TikV1jpJ99dVXm5IS9jxzPCqW+lFlr+ew7o9xQDQt5ISAEBACQkAIpBHoqf4rHa/+FwJCQAgIASHQUwhIMNFTSCuetkAA4QMWyjnZhSMlOZkFg2lYlW+W4zSHW265pbRqMVblsZyOdXs5ISAEhIAQEAJZCPRE/5UVr54JASEgBISAEOgJBCSY6AmUFUefQoDtHGWO5exToCizQkAICAEhIASEgBAQAkJACAiBHAQkmMgBRo+FgBAQAkJACAgBISAEhIAQEAJCQAgIge5HQIKJ7sdYMQgBISAEhIAQEAJCQAgIASEgBISAEBACOQhIMJEDjB4LASEgBISAEBACQkAICAEhIASEgBAQAt2PgAQT3Y+xYhACQkAICAEhIASEgBAQAkJACAgBISAEchCQYCIHGD0WAkJACAgBISAEhIAQEAJCQAgIASEgBLofAQkmuh9jxSAEhIAQEAJCQAgIASEgBISAEBACQkAI5CAgwUQOMHosBISAEBACQkAICAEhIASEgBAQAkJACHQ/AhJMdD/GikEICAEhIASEgBAQAkJACAgBISAEhIAQyEFAgokcYPRYCAgBISAEhIAQEAJCQAgIASEgBISAEOh+BCSY6H6MFYMQEAJCQAgIASEgBISAEBACQkAICAEhkIOABBM5wOixEBACQkAICAEhIASEgBAQAkJACAgBIdD9CEgw0f0YKwYhIASEgBAQAkJACAgBISAEhIAQEAJCIAcBCSZygNFjISAEhIAQEAJCQAgIASEgBISAEBACQqD7EZBgovsxVgxCQAgIASEgBISAEBACQkAICAEhIASEQA4CEkzkAKPHQqBTEZgzZ054991348XvvuRmz57dJ/PdqjJ+7733Eq61Kg2dFq/VTbDrDtfOZWJ5p552urN2tjfkpdPLQukXAkJACAiB3oGABBO9oxx7NBcTJkwId955Z7j66qvDxRdfHP7xj3/E/x9++OHQiYO0N954I1xzzTXJVSYPzzzzTLj11ltDv379wrnnnhuuu+66MGnSpMJymDx5chgwYEC44IILwp/+9KdwySWXhNGjRyd+hgwZkqSBAbw5wrX0jRkzxh7n3i+//PKwzjrrxGvw4MG53/W2F/By/fXXj/keNmxYj2Zv6tSpSRk9+eSTmXHfdddd8Zvbb789830nPjz99NMTroG/XDEC1GWrm3/84x+LP27wbTuXieV9r732ajB37eNt5MiRsSzXW2+98MQTT7RPwpQSISAEhIAQEAIdioAEEx1acK1M9p577hmWWGKJsMgii4Tvfve74fvf/378f7nllgt77LFHuP/++1uZvMpxDxo0KCy66KLJ9fjjj+eGwSrZeeedF1ZaaaWw+OKLh2984xvhm9/8ZvS75pprhrfeemsuv/i54oorwhprrBGWXHLJ8O1vfzssuOCC4Xvf+17YcMMNk++33377JA0zZ85MniNcsPSdeuqpyfO8H8ccc0yYZ5554oVAo6+43/zmN+FDH/pQxHfixIk9mm0ETlZGZ599dmbcyyyzTPyGiUxXHHw67rjjwpZbbhl51ZWwuup3l112Sbj2yCOPdDW4Xu9//PjxCV5bb711t+S3ncvE2iX6j053U6ZMCYsttlhsc3bddddAvZQTAkJACAgBISAEGkeg7QUTrF6zIs/qEqvMcq1HYIUVVkgG11/+8pfDF7/4xeT/z3zmM4EJGKtJneJOPvnkJP0MnNE4yHLvvPNOOOGEE8K3vvWt5PuPfOQjcWCKv4UXXngujRG0MY488siw0EILJd/x7cc+9rEYxsYbb5xE5XHFnzlW2G1A/9vf/tYe5977omDi0UcfDXARnM4444wenyRcf/31SRlR3lnu4x//ePwGnnTFMbldYIEFwkc/+tEoEPTaNV0JtxG/7TwJbiQ/3e1Hgon3Baa9QTABV84///xYp+edd94wYsSI7qaPwhcCQkAICAEh0KsRaHvBxKxZs+KK/Fe+8pWw2mqr9erC6JTM+Qn0bbfdFvr37x+FR8suu2wyOdtkk03i3vNOyBPCAZv4c993330zk33DDTcEeMg38803XzjppJPido7//ve/4fDDD4/Cs7THE088MZkwf/jDHw777LNPXOW+4447/p+9M4HXb6r+fym/pCKUolFJkxIhlTlTklkIKTLPZJ5pMg+VoRCKNFEpNAiJoiSiVCLJVAmhaDr/13v/+5zXuvu7z3n2Ps/z3Ps89671ep17nnvO2dNn7732XmuvvXZ1xhlnVJdcckkdxOI66ooJtrJ88pOfrLCeGQWSMoZ66bWlZhj5nUzFxH333VehEKMdohScypVaV0yUtSZXTAxXMTHZfOnBBx8M1m/0xZ133rmsMfjXjoAj4Ag4Ao6AIzABgZFXTDz++OO10LjEEktMyPxk/oPlxl133VUxEZnplBKgUSBde+211XzzzRfqa84556zatkSMCoasNrP6zMSSPHNffPHFk9nbaKON6rZ44IEHVvgVQCikbSAs3nvvvRPC4Q9iwQUXDGEQJDG/RzB58sknw3coH6wCIoUrH46ixQTbEdjCgvXIVBNtD4sU6m7zzTefkuxMpmICyx2sfNZbb73qlFNOmZLyKlFXTAiJvLsrJoarmJgKvrT99tsH3rPAAgv4/CCvG/hXjoAj4Ag4Ao5AEgFXTCRhmfjwuuuuC74All122eCwcOLbmfdfkwCNN/hNNtmkFt6xJBh1Yl/8bLPNFvIsy4lnPvOZ1V//+tdZso5vCIRfTOhvv/32Wd7HD9h2wfdcOGXE+WUbNeE6iooJKaBe9KIXtRVpUt7hNFQWBNYCZVIS/18ik6mYIEmUYmxfefjhhyezmLOk5YqJWSBpfeCKieEqJqaCL+GjCB6Pfxv4gJMj4Ag4Ao6AI+AIdEPAFRMZuOFAUMLrsDypZ2RjZD5pEqDJ4JFHHlkL45j6i7AswILg3HPPDT4AeIcQ+dBDD+mTcL/hhhvCc9498sgjE95hacBzLgQzS6ya692tt95qX7X+Puuss0J+2WZB3qRIuOKKK2YJJ18a+Apg1bqNyCsOLhUf20B6UROu/SomOC3hS1/6UoW3frbePProoxOyYjGPFTLUm3DlBBEccfL/c57znFA2BAG9Jx5LhOWkFnA98cQTKzCN09b3bL8gHvxDnHbaaRUnWMiyRN803Y866qiQFyxe4jajMOSFPeBnnnlmOEmFrTQpof6mm24K+QBziHzh7LSXZUJXxYRt0witsjzipBcuhJ4UUY/gFWNuv73nnnvCN2D/mc98pkKBYykXE4XBuofTeKij888/v6Jd9VJMlLQBpZO6Y6lGneFnCJ9DKWss2hqYkEcICzdODjrmmGPC9qleikEc14InPIHTdr785S9XODi0RHu4+OKLQ3vGFw1pttFtt91WnXPOOeF7trz97ne/q3lCk/PLnLIqzS51orC6U0c5vFnfY2UGTpzIBE/Bse+dd96p16138UN8TMBDr7rqqrAljG1tKNoskYZ4yyD5EmnkYpxTVqw6pRDZc889bRH8tyPgCDgCjoAj4AgUIOCKiQywEOo0oXLFRFU1CdBAud9++9VYMSEXsfVh6aWXDidRsMrONoDXv/714WQBK2Tss88+4TnvYuXAjTfeWL9DaLBk3x1yyCH2VetvThGhbhdaaKEwuVY94xsiJpx68h4lFUJGGyHgsoLG95zW8Le//a3t8/CuCdd+FBO0V04L4QQVcOckEfxC2FM/9t9//xrXWIGC8EldcO2+++4V21n4jSKHsmGpoPfrrLNOXUasZ9huwEktnD6CkoYTSTbbbLNZrFGoO44RJB7yyPaQN77xjUEAriNs+UG65IX6SRHCPwoz3lPPnKSCYLTxxhtXd99994QgtB3yQV5x4IppOPlpiluBuyomUI4IPxQItEe2EtE/uN70pjcFoVbp6M62NsJZzPUOYYr2u/zyy4dvwJ5ycyqMqAQTwqDw0Wk81BFbZ8CGtgX2XPGpHCVtQPlK3RFYOb2GOqMsnAJEX4l5AG0dTMAGgRYLN9o926nIL1ihGEgRgvm6665b4SeHk4ZoI4S1p9r87Gc/q9Zcc83qda97XZ0P2jfKrhR961vfCvlU+6dNI7gKr5RiIrespNelTlL5zOXNhKVt0UeEk9oCpxTFSpxUWio7fIg+SfumndM+l1lmmVqpRNhh8CXizcW4pKwrrrhiqFfK4OQIOAKOgCPgCDgC3RAYS8UEe/kR/FilYbVn2DQIxQQrxQjgOOdiwpNLrKBSTsrL5JnfqZXe3PgG8V2TAI0ggoNSTT5//OMf18m9733vC88loD7rWc8K/2N9wDGZIq1+EweCrSWsLBT3TjvtZF8FR5J6d9JJJ0141/YPx70RDmedrODhPJH/7WkZCs9EWWm87W1vqxBUmghhRd+yqpxDTbj2o5hgwo8SQaeAkCesHayCjdVh5XWvvfaakFUrcB9++OFhSwp1KKUL4fifa7nllqvDnnDCCRV7rnk///zz17422CZj6w7fHAg1UnTYbz/96U/X8TX9oP8rnW233Tb5GSepyI8IOAiLOeaYI9QzfUyEAzvyTPkQ5JUvhKc2sjiVnMphfehQV5xqQ9rkTXUCtvFqst4jcFuiDe+77761k1bimGuuuUKZrWKiBBPi32WXXWorGeIEQ5RSc889d53PWDGR2wZs/uPfKMbIN2lxoeRjKxV54Le1GNl7773DcxSHKCj4hvbGXXnebbfd4iQqtuqhxCB+vqPO55lnnvD7Bz/4QfgevovQqW/Ev/ieesMywxK8QXngG/JMvYq/8CxWTJSUlbS61InNo37n8ma+R3lGHyX/YEH7oy2izLH9SHHHd8Jx0c5xJEwcskbkOUo5LF2gYfClEoxLyqpte5SLPu3kCDgCjoAj4Ag4AuUIjJVigkkwkyhWAll9R6BhlQuBKSWsY8KLgzguBIcUYb7LKjDfcBa5iInl+uuvHy7S0oSKiZie23u8uk88COqki2DKyiKCJ3nG345BqQAAACAASURBVAATmT/+8Y9KbpY7pqacNMAKHWHIg8rMRB0nfzJZniXwkB80CdDnnXdemHCCFaub1myfFUzqg4k+JvUoe2T+iqAsk+gf/ehHNdbUi6VNN920fhc7qOQkDdURSpwcQijWEY60IWillVYK8TBpxqmlJfxK6KhQJtSsln7zm9+0n9S/Dz744Do/mDvnUBOu/SgmwARFAHHY1VoEbdUPAqUUDfGKny0HdUe/4I6wS9zUIf9z/eQnPwnFxGReONEOsC5hawYrzYThaD0EPYh2IMFkq622ClYymHejoGrrH8ITSxQpDxBkYiIOOSBlFZxVdupMWCNgW18oEm7JJ+/YHoIVw9lnnx1HPeH/rooJeARp6cKPCSbyl156aWhfeo4iwVKTYoJtBupXbD1COQD2WMKwFQIqxeQ3v/lNLahT72xtIX9WCUk+rWKipA3YcsW/UaDR12ifnIIDf7DbxayiwbZV8oOiii0v9D/i4BlHytptASiJV1999boNMg6gZKDNsr1Alk7ErT5CfwJTtrSo7cKjLb+w/IgxinqhLsRvyEusmCgpa5c6ibHV/7m8me/pz+Qd5cQFF1wQHB6Dl7WOU7ypO2F1wSO++MUvhng4QpfnYIxCABo0XyLOEoxLygp/ULnYkuXkCDgCjoAj4Ag4AuUIjJVigoHfroDxP0IJkyTMsrFGsMREkAkpFwqNFCFMsZrFNyg8RAhyCivBRxMPPbd39tFbYuWSbQmsyOu0B4Vn8sWK3KqrrppcdUdo23DDDUO5NPFVWN0RTNjjPBUkoY68YBXB5B/zXpQ2PEN4sSbQ5BEh2AoEKITWWmutejKHUgNiz7RWKzGBFrEyjjCt8tMOUN6IEKh5hxCas3JHOARUxYfZNaSVL+qc/eGWyMOFF14YzLwJRz0ibCPAxJY7VjDJrSeLqz2tox/FBIKuViARSLH0IO+0K23bwKwfrHnOSrD104ASjecoE6TIABMJv5hyx4SPCAlxwgYB/BOf+ESNN/4TIIuTFBs8p24J04voK+SPKzbtJyxWN8oL2xsoK/EiKOo5WxJEmLUrPu5HH3104Cu27PrW3rsqJogDPqI0Eb5ZcaU94RdCzxGYLaUUE4SBpxCGsqFAkA8XhGb1i1JMdBQr8aK4QVgnLZQTyh93q5goaQO2XPY3fYBtG8TNNgj5lUHpIUEWaxJ4CWQVFrR7xgPyCd+x1gtWcYlyV1iiaKQM8G5IfZB0UWqRD+KV4Em8q6yySnhOHCjUIPxQyEIHBSeWbuBPXbBlSZhZxURpWbvUSchc4k8ub4Z/yNqIbTH0JYi75RmJJOpHKjt32jphueD/esc2EeqN54PkSyUYl5bV8mhrxVMX3H84Ao6AI+AIOAKOQE8Exk4xgSksJz8gQKKMQGBiQsPE0Fo8UHJWlWT2ywRWE06LCqv4mhBZE2xW8LF04LIrg+xf1nN7xzGgJYQg6yyRvfWsemJmLQEe4XeDDTYIk7A4rCbLmCtTVpy+sYpMeLY+EAeWB1NBVoBm7z37hVmJBEfMmlk90qS+LX9WkLBbCzTZZxIsh3XsDUeAAxdhw6olhGCiFXysWHLpgAMOCHlGSMd6AmIFT+0hVjbxHuGOFUat/qvMCLB2iw71rXguuuiirCxZXC1+dtJLW+hFVmiJnbHZ9s7WFNHWW29d5xfrBwgBXgIWdWKpTTHBCjRlp76EK2ExoxYmWEdArGrrGcqCUkKZofApCyL5QKCOJVCSBsK/FF2YX0toP/TQQ+v4EEIlDPfKVz+KCa2io8C0R86yfUNli31cqA/AB0QIwFKC0idTVmR8W4oJ2xzIB8oO61gWDLUVivdWMVHSBpT/+I7jTymFUWBZov2Qpq1XBF3htccee9jPw1ihd7adYXmm502+IlA4SIlFP7Fkt5fJqoV2qO8Zq6yCDWsYpWcVE6Vl7VInNt+9fqd4M85UlXcUwZbf9YpP7xUeKzmEfxHKLpQ4vKdtS9ExSL5UgnFpWdkOpLLJMkll87sj4Ag4Ao6AI+AI5CEwVooJ9pKzSofCgYkDPhtYjZYCgK0e1q8BEycJe0xw7TvBw1YJTSis13om3QjDXHallz34em7vEmyIl1Vc7XtHUGDV+Le//W1wDobggeCHYzXSRSjSSpvyxMod75jcXnnllaGsrLaxikx4yn/ttddmCf+Kc5B3YSrc7J3JJXlrInDF2SGe3FHKKCzWJaIjjjiifn755ZeHx1pRQxCSMMR3EEokCQLUVS7JYRnKFJlhU6fK0w477JCMCgUXdbbUUkvV32KpIasPAklwIq54/3ky0qrZqWg/iolYuYIyS+Wzvj2sQka+PcBCgqFVHJH/NsWEVpdRGmJ6T5pcdpsOK8cQfiSUH1ZKU1uimvDiuV21x1llTFI+cFcd6xtrsSOlRZtSR+FS934UE1IyoDxlpViEg1JZU8AvLCmMVUxwUoawxAltE5ViIl6WUu7aPmwVEyVtoCmf1k8LCja1I+7yi0B5xW9otyo/1iaWpITkPbxHJMsL+HCT80ad3EPYOF7anNJEUQ2dfvrp9bP4NBd4lb63ionSsnapE5W56d6LN2PBgLKO/GNZhZJcCoSmOOPnKjuWELat850dixnjoEHypRKMS8tKflU2trg4OQKOgCPgCDgCjkA5AmOlmMCcNxYumEwhQGpSEK8Qs5Ktd5hpW2LiLwELgZq4UlTq/BJrCaWJM73YDJwJGQ4a9Y38Gyht7W1F2Lb73/V+qu9WMYH5PJN1vOZTHgQpVtetokb5RUDH1ByBHoFKWzYIZ50uoowRNtQfpDpGmObiPauyEMK3vpevivCi5Q91Lcd9KDqwguACbyk58BjfRLRDFF1auSR92qe2q9gtAQg2OWRxHZTFRKwUwcxcWOFPQ2T9bcjxJ2H1rYQ/fa9+E2/lYEIvc2/urPTbS/GhhIBIV4o4lCCchoFyKWXdpLTtHWsUxRnXvc0LW1hiwleAwnIMKmQVE738Stj4BqGYYNtCTLKmsAoIvkkpJlixV3ms8G3jLMUEayRZneHjJqYtt9yyTlOKCZtGThuI49T/ti50MoraklbXKa/8vFjFBEeKWrLWFFIgorjW1kAs02JBWeGtFU28Go4yQ5jLqsj6uoCnWLJbj6xioqSsXerE5iH1O5c3w+ulLIMHUAbVeyre+JmwwqInJvF4vpGyflB8ibRKMOb7krKi2FTZYmVwXE7/3xFwBBwBR8ARcATSCIyVYoJtFClCQNSkgFVwS1gqaGLNPmOr2CCchFA7SbTh+V2qmJAZM3liLz0mpPGFFYXybFeuSW+77bar37FlAO/r+EBoUpzE+R32/1aAxgQXIRoTbwmYCCPWXJoJP44JWfUFb1bbcOCpLRvgYBUTxImpL89xeAkh9PM/Ch0pddjWg3Ahp44Iydpv3gsDTG9V9+SHtqFL9YLQIkVDKj7KxYopQg1hEKwl9LDHXvEg2OSQxXVQionY1wf4KF/WgSjm5qo/tm+Aq45+RQCx+aEsTYoJLHoUP3e+S11sJxChFLAKHlb0WeFuEhQVjjtm80ovtoiyeZESy4ZlxVdh8R0CWeEl5bPChre/B6GYiJUPxJ9SQDQ933777evyNFmelGJiv0epGBNWAsJQAqoNk9sG4nj53/JB+mKqHfEMiyLIKibUDxVv6h1Cr3gA2/WayG43wurHEgpYlR8eBdnvrRUe76wAa8eckrJafHPrxObZ/i7lzVjusc0DCxPKTfvE8WesFLRp2N/CCuV7TOI3fEN/ggbFl4irBGO+LynrLbfcUreDUVxMCGD6H0fAEXAEHAFHYMQRmBaKCQR29hozocHc2JLdzoHArP3zfGO3DLD3t4lKFRMcnaYJGIoFVt7jS9sR+C5ezWVvuZwU8p6VfYRmrBKsQ7um/A77eZMAbfdPMwkUoZSRabc8seOAzpqeW8UE4XBEStmZwLLPXwIaPgUw5eYddY7iSQ7lcBiaS3h+Jw4uhB6UE7poJ3rXJOApHSb21m/DrrvuGl5Zx5o4isuhJlz72coRKyZQ+qhssTAmc3dwRdEkXwTWOaTKgUBIPLHFhF1Bps2DX+qy2y7oo2zv4fQLbR3BZ0mOYgBHcyoPTlgtoVTSO6sI0TdydMo3Em6tYiLGTuFSd7ulJG7LfE8ZxaNiBavadr+KCdqeyhtjoTyXYkLfU5xxeyHOlGKiSxtQ/uzdWrTQX1PtiGfyA5JSPii+1DuLRXwajcJxt7jCyyyhsBM+9F9IR87ynPxZalJMlJS1S53YPNjfXXgzfn+wSJFjSpQ78AgsEHuRsEopJqRgjnEbBF8iXyUYqxy5ZUW5qrLFbURx+d0RcAQcAUfAEXAE2hGYFooJhEMJkwiZMXFcnCYN1kGmfARgUXH33XfHwer/SxUTdouC0m27o6SwRHk4lhGHlwgxCovQhmDPSQkcz2adqtnww/7dJECzAinrFFsmO1HHWZysGlASqWyxMIcjUt7ho0NCPhYSKKG4hDF1gzKKb3XSQ075Wa0kDJNqVudYeddlTbHZltOLrO8EOd9EsFfZEOKto7em+Jpw7UcxEW/l4IQO5Su21LFbaDBjlu8WnK7G1KSYQACnD5KGVpDjsE3/c4qC3QKz9tprN31aP7eCXrx9AesolE3kJbUtJyVUd1VM0F+Fa+oEIAQcvce3haVBKSbstrUmRWspJtSntpOkhEnr60EWE/20AYsLfk2EmSxa7Pv4d0r5oG9S78BCTnPhq01kw8ar4bb9yQLCOo6MlVu0cZVJ35NuSVm71ElT2brwZuKCB3OkKso0ykMbia1JUmmq7KmtHIzNei8fE8QxCL5EPCUY27znlBULQeWdhQUnR8ARcAQcAUfAEShHYFooJlhB0mokK/MxIYxJkEK4RUi8/fbbawFqueWWm7DFIw5vHXDJ83r8jf1fpv1MVDApRvBtu3S6hI2D35iSYiGAMI+QJvNZFBSsVsWO1eLww/q/SYBGUaKyM1GVYzRZf1BHmCGLmNhqMhcrJtjLrXdyJIlzNJG2gWyzzTb1nmd7YoC+S91R/MiCA8eXTPQtWQd18rdg38e/bTnYcw+xeqjtJ5SDo2t7UROu/SgmYmUNW4KEq3U4St7whaJ+gv8Jmbmnjr/Tdzj9jAlMSQPnl/EWkPjb+H+UW/IfgGIkrpv4e/KsfCJAxiTBCQE09nuirSu0S+Wzq2LCKh4wbY/Jeu2PT5gYlGLC8ik5Yozzwf+lmEjxB//B4saSdVgoxQTv+2kDih/lq9pqDt+1CoScrRykI8s1FNtWGFYeuBOX8hErKq2ljPqT3aYXb+OStRfxWcVEaVm71Iktk3534c0Ki2LHWh0ed9xxetV4F4708VixroUC+rP6IxENii+VYmwL0ausOp2FvLdt/7Nx+m9HwBFwBBwBR8ARmIjAtFBM2MkhWwBiYgKEMKBJET4KEOr1fy8B/xvf+Eb9rSafcRr2f0z3FTdKByY1bVc8QbNx8RsBn0k/5eQYSgliKCdwNDfZ1CRAkw9ZIlB+JuEQq9X8jwBohUO7whs7LWVyp5V3HUUqR5jEicNQ4px//vnDHUWDLDFCoi1/OG1CDtyscKAg5FFpMoHuJRyjHFF92zza01zwr5ES8JUm9yZcSxUT1lnfuuuua5OodttttzqvKe/xOqlCx06ykmzrTJHpVAAsElD0WJJzUuq7iyM4nViD9Q39po3oO9o6xdGMMenUCPoMK68iFGTyY2JPCOiqmKCNyJkq8eLk0JIsgGgnbEuwNCjFBKcUyXIMPyEcz5qiUkykfABDeJAIvqT+R7msYrDfNkAa8Dz1U5R8vbYKdFFMWKsZtgykiG1n4rn4xrHt3W4HQvCFrPIBwd/yd5vHjTbaqE6utKxd6qROzPzowptN8HDCiXhf7MTZfsdvcNO31CtKdxGLBbJuQllkMeabQfClUoyVN92xyFL+47KyDY13qdN/FN7vjoAj4Ag4Ao6AI9COwNgrJhDM2d+qCQOCRYpYBZewxSSXCSZhWNW1q/ipsHb/6HrrrZf6ZMIzK3Czss+KzyCICS4+FXRkG5PlplW+QaTXFEeTAM331owZB5CQJpXkl60XECvj+N9Qve2xxx7huf4wMdWKtr6RooNvrJUC71MKBsUV361viyZLBvmtwDrltttuC1EwGWVrBNt+ENZRcFBerHDIAxNrhEMRJ2BoZZN42MdOeARGlCiY/LIFQNSEa6liQnuyyRPtW8IkjviwcOA5igVW+WPCSSnvdckCJP5OdUedYg1kBQmUcRLk6Gt2zzXltmX++c9/XmFNABEH38oyyCoM4vTt/zhIJb+pUy0wvVdZ8NHy8MMPhxM/2DKiPNrV+K6KCfJjT6ggT7QT+BNbkWShg/KCdmNpUIoJ0sKyivJSNngVbQxcUfRpu1opJva4TJwL065RxLBaLgxJk7oUlbQBhYnvtBWcOxI3SirqzFpsoPyBj4is0J9rMUF7k/KDPsHxtfBrFGLwWk6HQSGivonSiZNgIPq6jl6lfpUXVvtlicGYg8KCOuB7HU9KmazSsLSsXepEONl7CW+mDPh9wZIPok3ZrTwc3d1GYEm5daEgA2suu3Bg+6PiGwRfKsG4tKxS8FAmJ0fAEXAEHAFHwBHohsBYKSbYlyohn4kxK3R4QJfCASGMLRop4ntWVDXJlfCz8cYbTxCqUmHZR8zqL2ExYUdQZOICkR98E0h45RmCJ0IV3yN0IKQwUUcoggjLaiOTYiu0hZf/OxkAE3yECvJticm/TN2xKJDjN/vNsH9rkk75rMkt6VrrEpmTW+sUVsMR4NgqgLBOHFw4Jotp7733rt/Lv4S+AUutsBEep6C5ZPdVxyc5KA5rdcCq/4MPPhhWh8k/W38QmFgNZWWa9NkqgIVEXF8ISKovhDjCcwIF4VFUbL311kqyFn6Iz+JaqpiwTuQQuug3tH1O4SBuLrBNEauKVthMWVUQzgrhCGFMyHVEI3uytaJL+kzaN9988+AVn60xlFvHgXKSBEdA4riUPGqCTx7jVclUfnkmyxSsBWJfHvQz+WmBT3A6B3lVnaA4smH6UUywAix/DPAXtROUOMIUp7CxFcigFBNggcJOfhOIF6xRVtDfsJaBSjFBgSXFCuUjLlb7ZTWjNmX7UkkbCJlq+MPeffFqrJhQQoPhFltsEU6DOP300+uQXRQTKBhpeyoDSl+UyQjs9G9OW4DgARoDaO/wdN6rXmmrGhP43h5PylgAXvR7y/Nip7IlZe1SJzVQ5kcJb4Y3wL9wJEv/5y4/NDjB7aXgt453wZt6hR+Ag+KhjhlvYxoEXyLOXIxLysrYIOu+nO0scdn8f0fAEXAEHAFHwBH4/wiMlWKCiQyTIRwM4gCSFXWZYyOU4OTSms3GlcyKsVbHNBFlz30vYiXSHmeIoIfgxYoX+cEpHNtDRExQzzzzzFphwqRFVhqEYeUWiw2EMCuYEh6BjUkeK3EIFUzamIRzxjuCG/twVQZWL9vKq/wM+t6mmGDVUA4wMbFHUL///vsnHA0KHkzoUQrpW7aoxGQdioG3JTC2+WAimUsSVGk7UnTFYTnVQG0E7BFQJCDpue5YIbBaqJVEGxcKBpQ1nKqi7+2dvfgiW55+FBM6NhJFHe2L9GTiz2+sS/C7kiLauoQE6om6SxF9Sd8RJ23SbsfBQskKfAjJ4IdgxiXhg35BeNqB8ki6+++/f3XPPfekkp7lGQpKCXw47YwJJ6uLLbZYSAfhUm0OXws4VbQCZT+KCbBDSaJtQJRLF+2d1eXYWoK8DlIxweo+CiIpEkhf2CBQi0owAR+cOMoyiLJQVyh6rJIPpYil3DZgw8S/6Z9YB2jLCPVHOxJmln92UUyQHkpllKhSMnCXEgK/HRDWATjFVduRAgps4Q9xW0VI13YWtW/iZdxivOBZvO2wpKxd6yTGt4Q3Y+1FGbjEwynHkksuGayCbD+K0+F/0uJ7LvoCSn74hrDmf6zZUmPaoPhSLsYlZdUWD3DhdCEnR8ARcAQcAUfAEeiGwFgpJjSpYTLDJED/IxhyckAv6wFMOVkxVTgEZ2sa3AYh5tjay0540teEn/9lHaA4EFKZZEkIVpqEsXlHYLLEhBaBUt/zLZNwhGgJbjxjpSnHC7qNe1C/WWVjb/W+++47y+ovq8GY4vIe4VIr4zfffHOFFQJKJQRjtrtg2szee76NTa/JK8cO8o4L4T4m8FU6TFxzSflDkGkimzZKB1aZUWIhuGKlw6o7K9BYtnAkICvETUTeWE0mHrZZUH4sCAhvzZ8RailPjCsm68IBp6C9CFN9vmebCacA4JgNpRaKII42tdtN4rgQsCT0tSm+6EvUCZYuYIGAGJ9YgMDHSjPtgDLTR/bbb79QZileEGYPOeSQ8I5vUG4gWMssPs5f6n/wxeEkfQaFX0wox6699tqw9YA02OJAnvA5EfvPuPzyy2us23CK09D/WPKAi8qMEnKXXXap2NbUZM3FFgXqK9Ue6TO844QeS3qeCqNTBFi9xf8JZaatWX8fJZiQLgoPtuxQPwjXxEc5UQqpbcZ+NQiX0wZsuVK/ESZp95SHvfyUB4UIZbfbgq666qo6L/Y5cbIdT/mUFYRNC4WRbas43KVd0n9ECNZnn312SBsMwBaLDSnZ9J3ubLMjz/Q9+B7bEUib7SLkRVvd9D333LLybdc6senxO5c3wxtQuNOesQABI3gMlkLi83Hc9n/apeqA+oCfYrmF0nn33XcPW2Sa+Ogg+VIOxiVl1fYpFg1ifmLL778dAUfAEXAEHAFHoB2BkVdMIOiyIsFqFYINFgcIHyussEJYkWWCjoDRSykhGKz/ByZJucSEiXQQGlndJw9YSzDpZAKrffI2PiYpTNoQODl1AgEO824mtZgCI5THFhtMNtkaQj45Po3yUlZM/7GcIH0mtAgEsUm4TXuYv8GaiVuT6S5mxrznsqto7E1newoCH+avEAIo36WsDQireJhMxoQQyPsSIdammfKxoDRYtVPayit4UwYEMAQu9uyj2LJlVPjUnfZAXik/+9cJbyfiwi3GlUm/8pLCIU4LJQrfy9qB/xGSSJeV3zayR+ohhLUR+cLyAiwQ4LRVyYaxZUb4o2x28g525JN35I9tFfSBUkJARDHB9h76RkzUJ/iSBm2QekitzIKvsC5Rdtn0wEX1TF7Y2tVWb3xr68vGBTa8Q1FmSc9Vx/YdvykbdU1bpcy0tTgPuZgobvCgfhCuiQ/lhm2b/E5RrzaQChM/U3loZ5SHdgcfsn0PZZfqLm5D9DO9Q6mWIptP0qGvx22EeEgbDMA2xjSOlzqg79Hm1D/gJ+SlaczKKavS6VonCq97Lm8GY9qz+nwbD1Xcult+Tv3QfsBB7amtvw2aL+VgnFNW2oCc3sZObVVuvzsCjoAj4Ag4Ao5AHgIjr5igGExYJLwwwcNLOr4WmBwxobKT07ZiI6ChUECAYTJB+BJiMoNghVBJHriYdJK3NiUB6TKhJz1MPZmIKVxqMk95mLwirLFFgbKyqsWKK+n3mgyXlMm/dQSEAG1MWwA4jUMKGb0f5Tt8AOeX9G0sWpwcAUdgeiAwynyJBQd4DlsvUbI4OQKOgCPgCDgCjkB3BMZCMdG1eCgOWN1BoGevMPta2RvLRAJz1DZlQtc0PZwjMI4IYI6OBRB9g2vcVv9Q5mEiT97xfeF7vcexFXqeHYGJCIwyX2JxQb5P4Je5CyQTS+j/OQKOgCPgCDgCjoAQmNaKCfb14rQS7+kc06ZTHHhm9w4LDL87AjMRAbYbcTyqHPuxdSjeOjAOuGA2zzYn/H5gbeTkCDgC44vAqPMlLCXhNZwINY78cnxbhufcEXAEHAFHYLoiMG0VE+xhjU9RwHkkJwVcf/31vroxXVu0l6sYAayJdNILzljpH+NKbHNi61TbfvVxLZvn2xGYSQiMOl/C4hJek+tAeybVnZfVEXAEHAFHwBHogsC0VUzgWAsP4jiYZB8op3ZwBBh+HmKHZl2A8zCOwHRBAGd+88wzT/C/cvXVV/sWp+lSsV4OR2CMEXC+NMaV51l3BBwBR8ARcAQ6IDBtFRNggQd1zC1xPIkjv5SjyQ6YeRBHYFohgKKOoz7xyeJ+V6ZV1XphHIGxRcD50thWnWfcEXAEHAFHwBHohMC0Vkx0QsQDOQIzEAFX2s3ASvciOwIjjoDzpRGvIM+eI+AIOAKOgCMwQARcMTFAMD0qR8ARcAQcAUfAEXAEHAFHwBFwBBwBR8ARKEPAFRNlePnXjoAj4Ag4Ao6AI+AIOAKOgCPgCDgCjoAjMEAEXDExQDA9KkfAEXAEHAFHwBFwBBwBR8ARcAQcAUfAEShDwBUTZXj5146AI+AIOAKOgCPgCDgCjoAj4Ag4Ao6AIzBABFwxMUAwPSpHwBFwBBwBR8ARcAQcAUfAEXAEHAFHwBEoQ8AVE2V4+deOgCPgCDgCjoAj4Ag4Ao6AI+AIOAKOgCMwQARcMTFAMD0qR8ARcAQcAUfAEXAEHAFHwBFwBBwBR8ARKEPAFRNlePnXjoAj4Ag4Ao6AI+AIOAKOgCPgCDgCjoAjMEAEXDExQDA9KkfAEXAEHAFHwBFwBBwBR8ARcAQcAUfAEShDwBUTZXj5146AI+AIOAKOgCPgCDgCjoAj4Ag4Ao6AIzBABFwxMUAwPSpHwBFwBBwBR8ARcAQcAUfAEXAEHAFHwBEoQ8AVE2V4+deOgCPgCDgCjoAj4Ag4Ao6AI+AIOAKOgCMwQARcMTFAMD0qR8ARcAQcAUfAEXAEHAFHwBFwBBwBR8ARKEPAFRNlePnXjoAj4Ag4Ao6AI+AIOAKOgCPgCDgCjoAjMEAEXDExQDA9KkfAEXAEHAFHwBFwBBwBR8ARcAQcAUfAEShDwBUTZXj51yOOwL/+9a+K69///nd2ThXmv//9b3YY/3A8EaCOS9vHZJRU+SJvw2yH9ItBpvHQQw9Vt9xyS3XrrbdWf/rTn4aa98monA8yDQAAIABJREFUB0/DEbAIaGwoGU9s+Mn4Ld4xynkcJg6qo2HyzWHm3+N2BBwBR2AyEBj0/G9YeXbFxLCQncbx/vGPf6yuvPLK6vOf/3x15plnVl/+8pera665prrrrrumvNSrrbZaxbXddttl52WttdYKYXbZZZfsMP7heCJw9NFHh7reaaedRqoAn/vc50K+aLs//OEPh5a33XffPaRzyCGH9JXGd7/73eq9731vtfLKK1dvectbwrXiiitWm2yySXXeeef1FbcHdgRGBYEu48lk531Uedpk4eDj92Qh7ek4Ao7AOCMwqPnfsDEYS8UEmnEE4WOOOababbfdqn322ac66KCDqk984hNBYP7b3/4WcGPyfOSRRyave++9d9jYTtv4t91222qxxRarFl544WqhhRaqXv3qV1eLL754teyyy1b77rtvdeedd05Z2Z/ylKdUXG94wxuy8zDHHHOEMK997Wuzw0zXD+lbRxxxRLXhhhtWX/jCF4qK2U/YooQ6fvyrX/2qetGLXhTq+qijjmqNhW/hL9tvv3213377tX7Ly8ceeyzwmcMPP7z67Gc/2/P7+IPDDjss5Iu2+9WvfjV+nfz/5z//eVAE7LzzztV9992X/CZ++MlPfjKkM//881c/+clP4tdZ/19wwQWhfz3jGc+o86x+x7N3vvOdWfFMxkddMJqMfE1mGqPeLycTi9K01K5LxpPSNPr5voSn9ZPOKIedDuO399FRbmHjn7fvfe971XHHHRdkpSeffHLKC8TKPQubH/nIR6rjjz++KD8u1xXBNeHjQcz/JkQ4pH/GTjHxj3/8o2LyjyC84IILVnPPPXc177zzVs9//vOrl770pUFgZgUBOvTQQ6sXvOAFyeuqq64aEqTTP9q3vvWttUDy3Oc+t5p99tnr/+ebb75queWWG+qqbxvCXSaSmti86lWvaot6Rrz7/e9/H/oLdcpkHDPZXOonbG4a/XyHAE/7oJ6bBHkUlig5l1lmmcBfnvOc51RvetObeiZ79tlnB9wQ+FHQlVIXxcSee+5Z/d///V8111xzVWeddVZWkn/+859DvYIDFg+lBG6LLrpowJG0sTxBIbz//vvXPODNb35zabRD+74LRkPLzBRFPOr9copgyUq2y3iSFfGAPsrhaQNKamSjmQ7jt/fRkW1e0yJjG2+8cViUQVZ65JFHprxMyHEsbL7whS+sVlhhhaL8uFxXBNeEj/ud/02IbIj/jJ1igtVIJv+aMLz85S+vllxyyeqVr3xlpRW8j3/84wEytEOsgutCaFa4Sy65ZIiwDi5qNItskXjwwQcHF2mfMVnFBDh+85vfDKvLr3vd6wK+T33qU6ull166UfjrM/nW4KrfkhWu6TCxaQWl4CWC59Of/vRQjwxirOTkUj9hc9Po+h3+D8Q3Dj744GQ0bFFab731gpKTdkQ7XmKJJapeW3weffTRoLxQ22PALaUuigmUAkrzxBNPrJN84oknqm9/+9vBmuzSSy+tn+sHilvCodS9/fbb9TjrjhXJ0572tBAeaxJ4ExOdu+++u87LZCsm7rjjjgpev80228xShiaMZvlwGj8YdL9sw3u6waj+VTKeTBYGOTxtmHnpxWcGlXavdKbD+D3oPjoo7D2e/hDo1Xb7iz0/tJ2z//Wvf80POKQvH3/88Xq+wByrhEZRrhunMbGf+V9JPfXz7VgpJv75z3/Wq3VMGNjGwX7sn/70p2Frx8UXXxxW7vgfuueee6of/ehH9bXlllvWnWEcFBPXXXdd9a53vSuswLIiOypkmRwm7P/5z38qmN0VV1wRlEDUzWyzzVb1u4+9S3m7TCSnw8SmC1apMPQxFHsI6Kecckrqk8Zn/YRtjHRAL84444ygaEDp8stf/nKWWFH8rbPOOrVyc5VVVgn+U9ju8Lvf/W6W7+0DrBWkzKH9TZZigry9//3vr7baaqsJebzooosCn0Tx8JnPfMZmNfxmq9Uzn/nMwAs/+tGPzvK+7cGaa65Z89DLL7+8/pS6V9+bbMXEGmusEazlXvayl9X50Y8mjPR+JtwH3S/b8J5ueKpNj6JiohdPG3Zd9OIzg0q/VzrTYfwedB8dFPYeT38I9Gq7/cWeH9rO2cddMTGKct04jYn9zP/yW1x/X46VYgJzN63WsTrPKp0lrAvQPGMmlCJrbjwOign2miPgMzliL9aokGVyKCZEmP1/6UtfqgWUl7zkJRWa0cmkLhPJ6TCxGSTGf/nLXyr2Lj/88MPF0fYTtjixggD4PaBtvO1tb6uYBMaExYEsrvCvcfPNNwe/EfF38f9YS7zxjW8McbO1gTQmSzFBOVCaoK23li1srVA/SCkm4JOrrrpq+KZ0teIVr3hFCEef4UQOEXlRmpOtmJAlHP5DYmrCKP5uuv8/yH7Zhvd0w1FtehQVE7142rDrohefGVT6vdKZLuP3IPvooLD3ePpDoFfb7S/2/NB2zj7uiom41KMg143TmNjP/C/Gflj/j5Vi4vvf/349+cX6oZRGoQGX5NkK+eOgmKBsCGrs4WdCh1LFrqqq7AhR119/fViRPvnkk6vvfOc7SSH4tttuq1AgcWG2aumGG24Izy+77LLKOvOxE0mEEnyJYPrF6hLCdop6TWxYTSePOOnBYc+vf/3rVDQ9n910000hz5jZQ+TnnHPOqU466aTqBz/4QYXZn6W///3vdfklfOL4B1MsBGdLpXkkLTBktZ864GQV9p9BYArmvI/pgQceCO9wpHTaaadVOFWy+LeFJS7CY9mEIoCTKH7xi1/ESYT4VO8oI1E0XnvttdWnPvWpcF199dWzhGl7QPh55pkntEn8R8TEQL3IIouE92xBamoncTj+51QarCWIf/nllw9xDEIx8Yc//CEo+Y499thQH/SrmNiGIZxw+Ku6YYuF+sGuu+464RvFgfNPvqHtx31L39g7/Zi0nvWsZ4Vw+CD51re+FZ6hDO6lmMjt86TJt7Tvc889Nzjsov+StlWE8B3WcjzHDwhlYXIgPNR2Y4xUJtod39KfILakfOUrXwlb0nD62oYJClj6K/2GvN14440VQoXSTtWV0o3vcR8nLLyG/kU+aP9NVIJpql+WYpCDd1NeS9MinlL+Dx9SHYAbPO7HP/5xqCP6qeWZKNSpQ3jvpz/96QonqSlSP0IxkTueEA91Q5lpw/A6rAnjdhHXPWGa+HuctzaeFuNQyj978egSPpOLRVw+/s9Nx47f9E3GVzCnf3J6WBvljJvxuE2+Tj311FksCnPqvC0vqT6q74VF07ir7+x92O3AptX0m/qAF7MFm7EMnpZyjp6DXdxfcnkl4ztjFXXG3Ik5HDw7Rb3qmnzmjE2qr5yxmHzktMNUfnOfuWIiF6my73qNiWxz1ZiEzBMTsoTeMyZ1bePEm9OHlH7p/E/hJus+VooJLAg0UeiyTaAfxQRMnskrExgmobnEpIBJ0q233houzJDQWOXQOComKNcee+xR11OsUAFHTkphVZUTPbCqYNKHc57YAuaEE06oXv/614eLSaQl9v3zDkd8YCpS++A56eC4EKeopIVDQwki+p67ndjY5/xGSGU7DXl88YtfHFbDYfII8qVEmyXPrLBzsgH5wTcKGJDPvfbaa8JqPoObys+gesABB4R84PTVnphRmkcG1nXXXTf4ZmEFnPQ5WUWnQbCKTrpsbbDEYM7xebxjdRrTecrCZEnUFJb3P/vZzyq2AmDtJCw5ahKhwRKWGio3E8wPfvCDwdkt9cgFVjzPJdLFXwRt4xvf+MYswVB4yBKLesklJka0C+LlpBrw4ne/ign6zDve8Y5QJ+BMW8Z/AoOWJZRtwonJOMIP/+NQSv2AtmK/UXgm7PqGCXEvWmmllUI8suACT8V7+umntyomSvo8+TjwwAODjxr6BuWnzkkLSxarFNxoo43Cc9UdCiLlSW03xkjlBGO+pb0yMcBhKX0AvFCsEj61hQd+zikttEH6DXlbaqmlqg9/+MN12iWKM9vHiWOzzTYLbYpykw+UXWzpi6kU01S/LMUgB+84n/q/NC3ClfJ/yzdYqaRPUm7qCP6P0vHrX/96EAI23XTTug7xU8U7FFMxqY+UjCdsbWQ7HLyNNgyv4xQr6tauVtq6b+PvcZ74v42nWRxK+WcOjy7hM7lYpMqYm47Gb+qYMZK6AnP6J7ijfEpR7ripcZu42CaM2TZjn7UM66ecyluqj/IuZ9xVHPY+7HZg00r9RikBdviAY54hnvb2t7+9XgQhXC52tr/k8kqUg1gHwuupM/g74zM8G8UVwpylXnWdOzbltl3Szm2HNp9tv8Gd7arM81CwU8ZcxURXOactP6l3KR8TOB5HMYTiKq6XVBx61o9cRxzM45hXsPgHdiXUa0xEptGcBL4RE6cY6v1vfvOboIzV/7ltnDhz+5DSL53/Kdxk3UdeMcFAuf7664eLyYMmCkza9Nze7cAfg9ilAdNoWfVAkGPyCkNbccUVKyY2CFRtDXnHHXcMghzhmKRwMdFEOMMBHyuNMZWWFwY42WSZnN3KoXywEq562mKLLfQ43OlsnJTCe0zfZf7O5OLd7373hG04CACKB423JQmBvIehiPT9s5/97CCgIaxImOIdp7mgYLKkiQ1tyhKr1iuvvHJYESee17zmNfUJJPzWqqwN0/ZbHtQR6rRCr/KTN5xNWoEbBZjKgzD/vOc9r/5fpzCU5hEhh/ZIeYgboU7WBFL+pPCgrTKhkBCII0kGeeJgxVGUCss7BhsUMUpXK++EZ0JphQI7aPGOugQzxU0YJp4M6DnEpJ8wxGGVWIRlIJbTVpQMaLhRHOIIs5cCkW0SlAd/DQyoq6++ekinX8UEZQZn2zawCkC4s4TwQ7m4zjvvvKB0AxdOytFz8sczLva7irA+UPycctSLmIQTBxgSt40XxVSbxURJnycf73vf+0IapIcwoLbCVht7kgim7DZP5Iv/uTgZCIoxUjn33nvvkAa8gYkAYeV3g99ggw+jmMDK9kOFUV8grCyi4rCp/20fR5AiPrAVztzht/FYUYqp+o7lcaUY5OCdKiPPStMiTCn/t3wDQYg+Q/2q7NSNFAQ8A2f1Ad6hZEWYs8RzrpLxBIXKAgssEMJZPknd4oxVZOu+ib/r2/jextMsDiX8M5dHo9ynj+XwmVws4vLxf246ql/w5XQ2+oz6JXVHv/rtb387IYmScdOO28wHNAai8BL1U07FoXLYPpo77ioOex92O7BppX4zl5HDafoa5aKM9E0UvKJc7Gx/yeWV1Ds8gPaAwoq01aeJgxVvS73qOndsym27Je3Q5jP1G9kHn1HIKsy1kJeQVVCI2jErJSN1kXNQFEn2YpxNETIX3yDA24UV2zbxhQWuyEbkmXkmZWCsjflxUxqqUxYZcghBHiU1PrpYBGKMJV3GuA996ENh/pcTT68xkTKjkCN/tP3YEhN5hHecrIbVa5c2Tj5z+5DKVDr/U7jJuo+8YoJJHkyNSwOCGqGe23s8gbNAliomELpZdWHVgzSULncmyQz6MDIaU4pgxJpg2rA8YwBl9TkWlErLi9JksqmXYgKzb5XXHgWEsKcJPIMCVgec6KH4mCR+7Wtfq4tTOjEloNLljob8i1/8YrBOkCIA7K3wT5jUhIDnCILUO2E+9rGPBSeqWGEojZTgUmc+8QOLCIXlTnhWq7H+0HPajBi4Zd5q+6w+sB1Bq7kleUSJhvAsRQ0OLlEIsEWKlWUYI5TCA+sdhcPZIgoxtslgEka9ilJheYciTn2BybnO1VacDApSBDBoCA/urGhiCsoJEyj39A7hLIckFDFJUhoKh1JL2O6www7ByoZBEcEW5RenUKC8iAmsmOiQl0022SQI5gxw/N+vYoI4wAhewHGXKi8TYSYQoljoxhwU5dLuu+9eh8F6iWdcdlBkRUKTtA984AOKsvGOSTxxyA8Hg63iRdHXpJgo7fNkgMkFuBM/5o+0Pe3hRNhkFQxCics3DOpgxDfKE04voRij8PB/7VG4cofP0xcxNxavh0fbSRxlkcCJsgThkG0Xa6+9do03cZUcRU192nwwpsAXzz///DC+8I72iVWKqAumqX5Jn7Rp98IgB2/lMb6XpkX4Uv4f8w14Pkpy+AaKNcoKv5lzzjmDJQXtismp+gE4WwUpebD45Iwn9DG+IxyKTngrvE7KT4R5mbLn8PcYR/3fxtNiHHL5Zy6PzuUzJVioXPaem47aNpjTfxgr6MsIZ6q/WHAqGTeFNXExR6H9YMUnh+T9llNlVjmsYiJ33FUc9j7sdmDTSv2WNSHjLpaIbMekf7F9VVSCXRdeyXYu+AjzSsYwFBEslqldIJha6lXXuWNTbtstaYc2n/FvxgQWS7GW1PilMtKuNPfimR3TiKernAMfIy0urBlTpEUwtn7arZiW95Enq0jkf3gx7QZLarvwmEqjVK5jrrLPPvsER/30ZeHEHZxYqMPKhvGuF+WMiZRBaVjrVOaQSh+FJ9SljZf0IZWndP6ncJN1H3nFBJNQmAcXQq4qGLM3Pdcdc2cafBOVNmDMbDTppXOj9UObRifUIIK2jwE9RQhwMAvMv9jbhnBLHll9oRx0Pt5ZKikv5W7aG2vjHPRvKRIoQ8pigjLYelL6TA7EINHsIvAxeOJzQM+tuVPpxJR0lC538CYNLlaU9Q7h3pqKqS7thIByIWAShpU0KZ9gAlJysGoU+4VQWVN32/6YvGLmRT7QmpMn0qJNaMUVRYLyzJ3JLQLX/fffHwTs0jyixVdZEfAx94NJQ7Ye9Y3FA+sf5UVCH+EYgKlDUSos2KGIIjyTZO2bZ4Dk9AueE84KdHZwpR7p12CFlYLygWIlh3QaDyvjMYGJ4kNAwZpHaVMXKNIQ7m17IQ6sRPiOiSoTHojBhbj6VUyAkax6mHDgsJN4EarsVpQmoTvX4Zb6MZZKuaSBFGWtpSbFRGmfJ04GZzt5oo+ttdZadT3Rly1JaYGyJKYmjKyCEbyZ/FDHpCsLCjDHEkaEEk58CoWRFHkoT+zEipOgcgnepPbHnfyCJWXGIk/vmOCJumCa6pddMCAPbXgrj/G9S1pd+L/6LrjRD1iZpV4x2xaW1CHb1sAeRSVjsN7FPmj0nHvOeILfHbURlL2kDX+0fZKtY1Av/h5jaP9v42l8Z3HI4Z9deLQtU8rJbgkWtmzx717pqG1TRyg0NVagzFP9MXcTlY6btn0QH3M5+AV8ChpUOVWOLuOuyhbfJ6MdxGnyP+OWrJFQ8NPXIO5YJYpKsOvCK0mHLQLWsvmaa66p24XFmm971XXp2NTWdkvboTBL3ZErNAYhs7znPe8Jsgryh6xW1Bfs2EpcXeUc+oDibJqLaY7BdzbdWDGBRQcLPMhXCPKyxqJP9Fo4sfPqHIsJZA+sk8kTCy1YlLDIBQ60B54z99tggw1mmfelsOdZ25hox3ErKzJvFH6Mj1CXNl7Sh2z+VTcl8z8bfpi/R14xQQNmdZjLdnJWn/VcdzR4sQBhwStpwOz3kfkTHZ6jE3HGhYUDd/7XJB0t5S233GKTCr+JgwsrDgQ4Bn/ySEPV5AUB1VJJeSm3NYmz8Qzztxo0ncoKtErTMixMlURaUUbAknDKO8rMajDxobRRmbpMTNXRWVllcBQhRGjvPczODo6pCQH7xGFOxIdQbgmFE8/jcthvUr/tqiGr2paOOOKImkmJedGWVR7urOZaKs3j5ptvXsdHG2yiFB6spiovKJKaKBUWhYPa+9Zbbz0hKM4DFa+1gNDKPH2MiYWI7Rv63u7x1fvUHR8hhMEqIyY7eeUbTB+Z3DJAqixo0JnMiGg7El6xrtCka1CKCYReS+RHZYaHiZqEbssnUwKDwmOGSLwoPnJJPC9XMVHa55vyYQVbVpkstU0KmjBCWBOmKJ4s2RUO29alRKMtW0eKKBKwsFF8VnFn4039tquaWGFYnoUZqyZQ4C5BqAumast2It4FA8rQhneqjDzrklYX/i++wcRWznxJH98Aqh8UUcKSdyj79A6TYkt6njueaDsXAqG13kT5rLgYP6Be/N3mI/7dxtP4Vjjk8s8uPLoXnynBIi6f/b9XOmrb9B/My0X49RLmmIiLSsfNQw89tI6HtqNFCsU3qHKqHLaP5o67ykt8n4x2EKfJ/8yThT2WK1YxYL8vwa4Lr7Rp6TcWqfRn8gfm1oqyV10rDntvG5va2m5pO7Rp2t/4IGGBlPLA97AYwmcCdYD8wUKXFob4xioI+pFz7Dy/H8UEVohYtZEX8kzesXTT2EfZtPhjy63fJXId8pesHuGNKI/Z7sNYwTwTi0t8TYETsohdLFN6qXvbmIisI1lClhHEgYKadLi0pahLGy/pQzbvXeZ/Nvwwf4+8YsIWHrM2VWQ8ObXfNf0uacCHHXZYnRaaPCvIEj//W0EPhpZLTIpk5kaDtSZONo5+y2vjGuTvXooJFDeqJ+31Jn0pH7jbwYB3dkVUSosuE1Oli+AUK6nw7aH3MEFRakJgtZwIiqyK6tI+Q+LCPBHlDJYrTZfSsYOeNWfkPQxQebN+OfSMSRdM21JJHgknSw8Yrp202zj5ncIDCwHlBeuOJt8mqbD4w1DYWFC2AgMWQCLFg1WKrUcmFVoFYgDJIW3/oI3FhEmf8oZFCoM8AzdYW7NOCROER5lBvyUfduBKKSZy24blN/H2LNqd8mh9LDQJ3W2TIVt+4iJe/KXkUqliorTP23ygsKQ+cPTK6oUwoM4stU0KmjCyz+M2iQM9pWWdzMpEnzYpZZTyQdtVGPmeQRht4gm8EykcFju2rfMep6N6jyIa6oKp+pMVerpgQPpteIcMJv50SasL/1c5Y6sl+rRwhB9YYlFB71A0WtLz3PFEAgACApYzGjP4rbjYwinSsxR/1zepextP43vhkMs/u/DoXnymFItUOXnWKx2VlX5hyY4VlseVjpuWN8dKY9IbVDlVDttHc8ddW277W3EOsx3Y9PQb/ogSh/ZN22Y1Op5D820pduovubxS+YGvwnOxkKQ9yRIaJTPjjKhXXeu73LGpre2WtkOlHd8tn2SLkVW68i1zbVnkgp9VTNjylso5g1JMYJEcywPgy9Za1Xeq3wmHErkOawnFyTb8GCvaCc5y9U2O/y3y0TYmopSTvMe4oK3amjOw8GXzobRz23hpHxJuXeZ/CjvsuysmGhBmj5EaCPuIU2SPL0VrlSI6HObAxIGiAVMjVtS0+kYaHGmXonFVTNhJGPuvIQYqmfalVmjZUy+8pT20DLfU+SX7/2OyjM4KlBq87YTAMmwEElbndcnygvziI4P6xSlq06UVFhtnvJcZZYzKT9sQ6Rl7Z2OhxcbXK48wR5n6MUmL41J63FN4sPqnyTBCOU7kGHS1FUThU2GtQibuSyhIVEZbbsUTCxiko1UgW19KP3Unr6SBcBuTFXhRCFhcEASVD6XF5Er7xdE4y7qHeFOKiUG0DVYBhRGCqsgKe3Z7Q9tkSGG5a2BkAMylEsVElz6vfNA/4MH0KbCXg1ZwwFrOUtukoAkj+5zj4yzZ1X3hastCnmLabrvt6jrS3lSOam3iCdY6SHWb4lmqI76BL9p85PJR8hq3Y56VYqAyt+Gtb+J7l7S68H+VM8aSfiqc7bYY8okSUu9is1Y9j+MjXDye2LphrNN4obviQkgQ6VmKv+ub1L2Np/G9cMjln114dBuf6YJFqpw8a0unS1lLxk3it9/Lr4TyOshyqs401pBG7rir/MR3xTnMdhCnqf9R+GoRAZ7B9gK2j4q6YKf+kuqPMa9UOoyf8Gf6PQIiCizli/isUNhW14qvZGxqa7s2rV7zN6WdultZghX/FNnFRKuY6EfOGZRigm35KbJbHbBkbaISxYSsC6h3LBawWokvrCjUzuxCUFP6PO81JuJPjjhRhMmikjbMM6uoJi6lndPGu/QhlUP9pWT+p7DDvrtiogFhJgpqIBIs408xtZWJOtrhmHC8CDPGjBCGyAovJuBMVLRNhDSaThcYV8WE9eeABhfCTEp4ppQ4aNT1/sILLwxhukxMFQd4x2Tjw+mZSIO3nRBYQQOBHsaTujCTQxBRO1D69i7zbDsQ6WhO5QGrGYWx21/0LOUfoSSPTHCUR+uQVOnbewoP3iMYMbgrTwzwrC5bYT4V1pqjxvvvrcCA5lyUiifnnb6xd7ZwkGfrv0Tv7cBsV7F5j1IRpk1Y8oMShlUOmeUx2HO8mC7xDIR3niF8Ul7hLtzsPadt4G9AYWzbsMKeBGjy3TYZUrm54yuHeDn6MpdKFBNd+jxtCX8A8EpwY7UNhY+dfA1aMWGxA4cUrrYsbKWIyZ5XL8WEbVuqP93FF4lHz1I8SxMavoFn2Xzk8lHSSPWnVDlVrrZ3vSZhisPe2+Jremf5da5iWuWMsbR9yFrxkUd89qgOmhQTcXyEs/mL64b4UuMFz2z7Ubop/m7xi3+38TS+FQ52TFMcqXddeHQbn7HtNBcL5S++t6XTpawl4ybx23E7PiZ8kOVM1Qvp54y7MWb6vylO3qfedWkHSiu+M6dhm4N8qpEe7VbOi7tgp/6S6o8xryQ/WMayzUB5oD9gGSAeRnxNiom4rruMTW1tt7Qdxvjqf81RGC9TVil816SY0JwFHErlnGErJrCaYLs0ecPip4lKFBPCijhZYGLuE1+vfe1r6/EgpfxP5UPtKeXniu8Zv0iTi/kNyiH1PxZCLOm7nDbepQ8prS7zP4Ud9t0VEw0Ia4WOjtG0P479QBI6MNGxhA8KTOdlJUBjQ6CBQSqMGuB0U0xYE3idIW5Nae3ETJixp194yPmjnfjlTkwVR6pTYw6m93YrghiEncRZCw5O8eD71AUzx38F+cN6InVpVd1OcGLFhLUcsBNn5TdVnpI8WvzZ89lGKTz4nn6AaT1ClYRzTi6wA3gqLCvHKgfaaUtsddA7Bk9RKp6cd/rG3hE2SCNVbutPgP2HMdkBnbq2mNOXKb8u29cXw+PeAAAgAElEQVR5hmUNE6N+2wbtSxhZpVKTQNc2GbLlk7Cf6o/2O/u7RDFh21wqjVSfp33INJFVJJS7WJ1wSoUwmArFBHWv9FOTlZRigqN5U/yAZ9ZHheLt1cc57agLptRfqj81tR++b3vXaxJm24t+t8XX9K4L/1c5YyyHoZiIxxPLw5nspsYLnrF9TdRW9/omdW/jaXwvHOyYpnhS77rw6DY+0wUL5S++t6XTpayWh/ca24k/d9zOrfO4fPo/VS+8yxl3FUd8b4qT71LvurSDOE37P87CsUhjKxRtnbkvCwSYs3dpI239xdYrvBJixRsLS9JFEcDWW8ZkWX8SX5NiIp6jdRmb2tquzW9OO7S42t9WVoktWPWdnccwhohs2FI5xyomYoWu4m9KF6WD6rLJYgJFkOZULA42UYliQuVV2r3uKClyqNeYiI9BKceYc9KWlHbsP0PP4zGMfNg2Qxvv0odUni7zP4Ud9n3GKiZiQTcGWlozGBrMNUV2ksgkWoQgof11hMfrKwwKR2ocHcbRRfYoqybFBJNyNVJr+qt0pupumU3s/BJmwsq38s3kHGL1mdVPnjOAxySzIt7L3M8yHGvhQFh7RB8MUqR0U2ZQePfV+14+JvBhom9lwaE0UnfK3XTpezvBwRrGEvlRemj0RXqWYlIleQR/7au0bVXp2HtqwmLfg7f1Xq3tOnyTCmsFD3scLN/bLSxYF4lS8eS80zf2rraV8kmB40NhrLZqw2LdxHsUMUymKAtWI6lLDqjIu96zGtvULngusm0j3ubDCR3KozUttLjaVf+2yZDS466yMVDmUoliokuf1znylBfHqAiUECaqwmAqFBNM2rQVKmUWjbJO+ZPFRFu927pXOFZwYtI+UL7Bd08XTIkz1Z+a2g/ft73rNQmLy9Arvqa0uvB/lTPml/0qJnLGE9tGrPVXCg89U93H+dX7pnsbTyOMcMhVTNg6yOXRbXymCxZNZW1Lp0tZS8ZN4re8ORZWB1nOtjojH23jbhN2bXGm3nVpB01p6zlCKNueaYu0dxQFWBJ2wU79JYdXstAgJ5f0X7vwoG2XxJermOgyNrW13dJ2KDzju5VVYj9k+tbO2a1iwoYtlXOw9lR9LL/88kpqwr0p3RzFBIsBsphgsaKJ7DjRS65jG7PyzJwJuaLtQl7LoV5jIuO9/EVhtSGH5oQDC0vKX04b79KHlFaX+Z/CDvs+oxQT9uQDzlVuI8y/1EBY4UoRK/v6xq5yo8lCIcE7GCBeXzGxwsICYnJpJ5xNignrLTx2+JbKz2Q9s8wmVkxQdvkAQEtu32tgQkCWFYHyLA02jEhhUMYIX7z0WrIDS0oxwWq18FY49nsTH3WjNHiXGqBxTqm0B6UUshMcjvixhPJD6bGSLNKz1MS1NI8ahNBCW8WM0tI9hYfe6c7WEPnawHsyDBJKhWUAUDlwPmQJb8x6Z9t4Kh6Fa3unb+xdFjxMUuIVBVYqlD5OLWPChJD3HCPK4IKSAKuR1KX2xSCq9+wBzCHbNnScoMIx2CqPFiM7iWxSTKTKRLyURceIsUqWSyWKCeIs7fNYI1BW+ABmiiLrz6dJMcHRrjE1YdT0nPBN76Rspv3R/i1pBZu8SzFh37f9Vt3iLTwmKXnhWZpAl2JKnKk+01ROvm97p0lYCu84//q/Lb6md134v8oZ88t+FRO544lMo7GgtGOMcIjvqvs4v/F38f9tPI1vhQNtJabUuy482gpdKT5TikWcT/3fK51UeRQ29a503LS8OVZMkM6gypnKq8qhe9O4q/fxvS3O1Lsu7SBOM/U/c147/z7uuOPCZ6XYqb/k8Er8Wel7LNosIUjrnfgq79vqusvY1NZ2S9uhzb/9bWUVa71qv7FzdquYsGFL5RwWaqQ4SCnrSb8p3RzFhJ0bNik+SMO2q15yHUfXqt5ROtAu265YhrCY2t85Y6Icb84+++z1KV52UU/xKX85bZwwpX2IMF3nf8rjsO8zSjFhjyZkMtRGdrLEpFOCl8Lwv+3UMDSRNTu2e4n1nrvOIacRNikm2FuoRkpao0KW2djJF8KuZfixR1s5GmSSfeWVV9bFQQCRZtt6Pz/11FPr8uPLQARDlLk3+KD4gehswgvnRnIywzu0u7LYQEDnW1FqgMZqQw6SEA5Is1+ygx5WNJasKbh1sKXypCaupXnUKhtxWjxtPvidwiP+hv+xQCAuGC3MvSkspvhWUWext+b8DNSitjy0vVN4ewdP8kkeZI2j93jkVz1zaosl3smUMLUVwX7LbynLmgbp+Hv7v3U+F58MYPfO2oHX8iirmEBIULtp4nP2CCs8v+dSqWKitM9jTUXemfBY5eXRRx9dlyn20M0AThj6t21blKkJo6bnbWHsKUxWsYjSWUo68tFVMUE/su2TFT5ZabDKorKVYkqZUn2mCwbE1YY371PUJa1S/k+6KmfML7soJsBb/Sh3PNGCA+03Pl0nhYvij/Ob+tY+a+NpFodcxUQXHt2Lz5RiYctnf/dKR3WeW9bScdOO2ynFxKDK2VYOi0dq3LXv7e+2OFPvurQDm17bb044UnvX3LAUO4XP4ZVY/uh7O9+BX4uH8R4LZ1FbXXcZm9rabmk7VB7ju+WtzL9Tc1U7Z7eKCRu2VM6BP2pxg7Yk3yE2f03p9lJMsKDDlh/Vn5WvbPz8LpHr7DyCrQxWKRXHW/K/2lNqDqJ47Al0mkex5T8mlTmnjRO2tA8Rpuv8L87rsP6fUYoJtlKo0nFIKcdzNE60Z5jKipgUSvhlbxCrdDjHozOyasr/EqaxAJBwTHgmpkoHIYX9RHEHyFFM0HikkUQjh4WGJqfEx9FHNs/K+7DvltmgmECLz6oupkoS5HDSJ3yVHztQcA47zkNZwWZbgARXa51gNd6YNWGmRvlxHiNhEpw1mScu4c6dCTw4ce244471O5sGeUsN0Exk5bwOBkEe7QBG+4hXTVXOprsd9HB+SruAUNKwIk+e8U1gV4pVntTEtTSPpCfcYKQIpGCDUoH2K2uCFB4ce6itDtQBcWnPnFUmpcIyUKrN0GcuuuiiUG7Oq9bRh/Q1i2cqHuHa9k7f2DvpCMf4BAYGQKydeE8/1ooDz7feeus6HMfp9aJ+FBNMnJRHVltZLYCuueaaipVp3lFn1tzSTiqsYsI6zWXwxSQyJtsXUxOK+Hv9rwGVOrdk+x4mgiKbTk6f17HB8ANtd6Jd0P+FD9tvLOkdYTDLFI/kmyaMmp63hbErOAhBl112WVAqo1wTnyaPXRUThGW7Gf0FXmMd0cF/RKWYEi7VZ7pgQFxteCuP8b1LWqX835Yz5pddFBO2TVM3OeMJ8wiNZSi0xePJG3mI24badJzfGL/4/zaeZnHIFda78OhefKYUi7iM+r9XOqm2rbCpd6Xjph23U4qJQZUzldfccVflje+pOPVN6l2XdqD47B0ezFiKA0wIYdgesy4L2FLs1F9yeKUVBJl/yGoZv2fykUU8PBe11XWXsamt7Za2Q+UxvjMXZXsuZaFOWYDCh5EWU5nLyGyfb6xioh85h3ywwEacXFgjsMgqKwMWFprStYoJttkwD4XI86233hrGPs01mA81nVxImBK5DhmOuYuw2nTTTYPshywC0W5pD/Bty7vDy5Y/OWMifQvnmMKLNqgjwG3Ues89Zz5Q2odIy84hSuZ/Np/D/D2jFBM4CpGGj+0GCCR0JlZDmUTIUSOA00Ax85Ygh7k6+8Y5IpA7/9NweI9XVa0YE5YGKLN5Gh+aVgSELbbYIgjIMGgpPYijyWIChkJaaqh0YFZ1WVElz0xmbJ6H2VBs3BIyyRdaTbS0eBUXs+e9nA/ZcHR4HN0QDqaDV3kme1ptxGzeKjNgoBLYwRnHf5RdTFi4YDYPMZnXM+4IzmiByaPqC8EfhY+l1ADNexiehG/CEQ8OlKhHvEujDS8hO+iRP9oF/iR09BvPdtlllwmClcrTNHEtySMDhTzxEi+m6bRLBlzMFLEQgFJ4YNHBIEN48qzVA+LR6kdTWJ6zeijhjb7BgECamsQThxUoU3kImWvIn96l7vQjabRxHhQT22hkTcNqFAIh+ZOjJAadlHAfx9OPYsI60qOt09fBGQWf2gDm25aahD2EFikIab/wCvx3aKJCHDoFh3ZtLRNs/KnfmizkKiZK+zwrCCovdYECF4WneAvv4jq0Sl7aFjxFCqgmjJqeU+amd/AX1THtljrCV5DMOJVv8aMUfqlnCsedSRg8Dt6o9hdPzEoxJc1Uf2oqZxsGvGvDO1W+XvE15aOU/5OOyhnzyy6KiS7jCRNuxmjqkn4Mn8TShnGDsYj2IgUw+VXdx/ltwlHPe/E04ZCrmCDeUh7di8+UYqGyxfde6XQpa8m4acftlGJiUOVMlSN33I0x0/+pOHu9K20His/eWSyCfzP2wC+4aw6GcKbFl1Ls1F9yeCX9V0Iolmf0S8bUeP6IXCBqq+suY1OvtlvSDpXH+M68ibyxgAYuzGVYeKW866+/fjiOUv7FeG8VE/3IOeQD4V3pMjeAvzGfxMKbhT0t3sbpUu8849IchbwiX7GtW+GYxxx77LG1siMuO/+XynWcrKZ5DO0C2Y9xnXGXxRN+w7dZmMql3DHROluH59s5mdISLtxz5gOlfYh0us7/lMdh32eUYoJOSCOXEELF2wkvmkZLNHhW5yUc870EKX4zIYWR2VVMhUcwp+HxnS4GCTocncHG06SYIC72fdkjbgjXlmelP8y7VUzYcoArAtYNN9wwYfJl84ITOwniCKpiakygEBCtcEo49iJKyCItJnuks9FGG9W4sqoM2WPfUP5QP3wvgZj/2WYjja7y1TR4o8VlpVzKLOKBier7EsZFWnbQkzmmykYbgTFbfxmEUdtpmriW5hELG9q56o278MHZKqTy2UktzJu8UF/KM+0Yx0PW4VIqLHEyGB588MF1fcsPCW15hx12mBBHUx5C5hryp3dNdyYk5J+JCpN6S0xgMAekPHxj6xjc8aSfQxJau2zl0FYeBiJZaghn8oRiAUstS00CHeWzq1PUMXFpVQAlKopE4i3dIqYBPVcxQX5L+jx9GGUZeeMSr2RAF6+It0HR/zXpJQx9Xts9mjBqek5+296x4o2yWP2H9MBSjq34nxWfEiIMF4oIFEUxz/rsZz87QfFdiinfp/plWznb3rXh3VTutvja3pXwf1vOmF92UUx0HU9YgbIKYLCHp8DruKxiXHUf57cJR/u8jael6lthm96V8uhefIb0SrBQ/uJ7r3SaykM8Te9Kxk07bqcUE4MqZyqvueNujJn+T8XZ611pO1B89o4DZ3gkl3g4bX3JJZcMc1o7zytpI+ovObySNJi/SSin7zHvYB6IAKy4rLVzW113GZt6td2SdmjxjX9z6gMLZbGswFiicuouKxbF0Y+cw6IGMpLmyKTBfLJXulYxoXwRxo6rWIoeddRRPReFSuU6yo8coEVSpU/7sOkjp+RS7piI/Kn0YstPpaX3OW1cYUr6UD/zP6U37PtYKSYQ4NH0cOEMrQvRCVlNQxCAOa222moVk96DDjqoNlW38TKZx4QXhsVeHqwDcFjCVg62UjzwwAP28/o3mjBM39knizYNLSIWGkxgCc/kGhNgrDJYAWsiOjCm/pSZMAg/aJ+ZlBxyyCHJPDfFNajnMEDwQ8BFiGK1m8kzeFiLh1R64MKRTTisQdhCMEK4pYyplVvqi/S22mqroM0EB8yQ8OoMflx33313SAqs9Az/HGwvYZUZzfHuu+8ethDwTUyYSROOCXJMDByYFDNBxl8IecY7M9/GZrlx2Ph/O+jhlZc4Wd1ldZ69bykFFeUlbzhRaqLSPGI+xqoIuFMesKUtSSmCv4MYD/ob31DnhEHwox/Z7RfkLxVW+WZgZ280+NH3ttlmm1C3dqKub9vqRGkcf/zx+rznXQ4kGfxSvIPBim0AlBHNOX2NOmHASWm1UwkyCQK3+Fzq1LfxM9o0YTn3nXpAUUIfhzfRVlh5iYk2ThiuuC0y2WJQx7qHOGj/avvwJSk9mibacVr6nzacKiPKPuUFnmaptM9jhkodo6ijrVEPlB8eTRp22wrpIHTiKBhLCvoTPAk8oSaMrrrqqjq/MXY2jKyIVB4mQVhEoMSjrcCbOO7LKkrVjxSm110TEZSVlAOfIqzcMHFh2xP9O6ZSTNVnLI/rikEb3nE+9X/XtEr4P2mJb8T8ksmY2mfsXBZ89c5u2eo6npAPFMCWx8I3Of4UE3brlymHvwvD+N7G04SDrW+FV1tI8c8SHk18bXxG6eVioe9T97Z0upY1d9xkkUntI8WHld9+y6l6sXWWO+4qD/G9Kzal7SBOl8UKVqaxAIU3MsdgbMPvl7UYUrhc7Ep5JfN3eDVzDeYc8FYWwNiGpzqFx4h61XXp2ES8bW2X97ntUHlsurPAwjwaJ4vMVZETsDJmLGE+Q1uA/6Tw7yrnkBfCsoBK+0XWYWEBrKl3cGfrNP5FbLrwY56xWAVvZM6FbEN+UeoSF2XJsVQlD6VyHbIGbZFxAlmOeQPyGflmPs5cA/6aS7ljIv1BbbhpwUvvS+YD5DO3D/Uz/8vFo9/vxkoxgfYREzCu1GQtFwy2WiAMMelE08RgAyOms6SISSAKCJw7MinFTA0BPF55T4WFWbA/ilU0wuJciPAwK5g3ndpqj1NxkA5lJgzhuchLW55T8QzqGdpZ8EPAZRKOxYiEnpw0KA9hwB1hHOG2DUswJB0wBAcYHIwA/LgkOIKjnlHHPOd/6hnlBe0nRaTPd+CZIvLGKgJ5IM+sXMMwe9VbHJdVTCAQEifMhLoE0xRRXvLWi0GX5hHGTLkpD+WifasOwCHGg7LynDonDO0fjGNKhbXf0E7Ajzphf2NTP26rE6VhJxQ2jdRv2tAiiywSBgUGwhSpn6t/UicldUx9xril0kk9Qzlpw/I/7QKsiTdFYEkYrlRdkH94D3HQ/lW/OquerTzwnxIS9txjUl5SFmSkXdLnaY/wBvKuvqE2Ea/4kA94Au2K/kR7VrmaMEI4VH5j7GwY+EyK4CVgoPbLhIoJBSsutLUS0kSEVXPKQV3B69p4FvGXYJqqt34waMK7qdz9pJXL/0lbbSTml3ZsiPkGOKotqK0Rlw1TMp4IA8tj4Zvw8lj5nsvfFae9t/E04ZDqp2oLMQ6KO5dH6/smPqP33HOwsN+nfjel009ZqfteYzt9XO2jaQ6h/PZTTtWLrbPccVfpx/d+sCltB3Ha9Hn29Isnp8YFGyYHuy68kniZa9h5oOVHdt6fU9elYxNlbGq7Kn9OO9S3bXfigfcxBiIn4KOEsQTZgbYAFk2k+U8XOYfxAFyYb6C8AWvqHdzhM6l+ozEU3shYr/wSjrhK5l6UCR5dItcRhnkWc1nSRD4j35KtKFMJ9RoTwV8+1RjrNXeI0+jSxhVHTh/qZ/6ndIZ9HyvFxLDB8PgdgWEiECsmhpmWxz0rAliowPQx5WTwnInEBEU+XWInsDMRj0GUmYkgbYq2hfkpk8MSshORknD+rSPgPM3bwExCwHnlTKrt6VNWlCxY62jbNFs6mmiYbXxc5n+umGhqHf7cERgwAq6YGDCghdGhhZfTTrwdz0RiSwcD32te85qwgjsTMeinzKwI2ZUOVn0w+9TeVMxAS2mYE5HSvPj344WA87Txqi/PbX8IOK/sDz8PPfkIoJTAD4cWL3CmjqVcEw2zjY/L/M8VE02tw587AgNGwBUTAwa0Q3TsIWWP+QUXXNAh9PgHwYcB5WePrVM5Avi80F5l9uziB0TOkXHy1rRvtC2lYU5E2tL1d9MDgZnO06ZHLXopchBwXpmDkn8zKgiwTYiFC53CiI8zfGu00TDb+LjM/1wx0dZC/J0jMEAEXDExQDA7RsU+QPYVlvoB6JjcyAVj3zDlT+35HLnMjliG2PvNiUCYY84999zV8573vODlnYkEv1kVif1V5BRhmBORnPT9m/FGYKbztPGuPc99CQLOK0vQ8m+nGgG2dcpKF6UETv97zT2H2cbHZf7niompbrme/oxB4JJLLgkeiHG++NOf/nTGlNsL6ghMBwRQOpxwwgnhpBCcXXLcGKcs4d0dr+Qpp5w55d52220DX2BlxckRcAQcAUcgjYDzyjQu/nR0EeDUD44z57Q2tt71Im/jVeWKiV6txN87AgNCgJMC8EDMhVdoJ0fAERgvBFA+cFII3s45bgxP4njs18lAXUqD53J4AqdwODkCjoAj4AikEXBemcbFn44uAjicZFGy6RSkOOfexl0xEbcJ/98RcAQcAUfAEXAEHAFHwBFwBBwBR8AR6IwA2znskbSdI5pBAd1iYgZVthfVEXAEHAFHwBFwBBwBR8ARcAQcAUfAERg1BFwxMWo14vlxBBwBR8ARcAQcAUfAEXAEHAFHwBFwBGYQAq6YmEGV7UV1BBwBR8ARcAQcAUfAEXAEHAFHwBFwBEYNAVdMjFqNeH4cAUfAEXAEHAFHwBFwBBwBR8ARcAQcgRmEgCsmZlBle1EdAUfAEXAEHAFHwBFwBBwBR8ARcAQcgVFDwBUTo1Yjnh9HwBFwBBwBR8ARcAQcAUfAEXAEHAFHYAYh4IqJGVTZXlRHwBFwBBwBR8ARcAQcAUfAEXAEHAFHYNQQcMXEqNWI58cRcAQcAUfAEXAEHAFHwBFwBBwBR8ARmEEIuGJiBlW2F9URcAQcAUfAEXAEHAFHwBFwBBwBR8ARGDUEXDExajXi+XEEHAFHwBFwBBwBR8ARcAQcAUfAEXAEZhACrpiYQZXtRXUEHAFHwBFwBBwBR8ARcAQcAUfAEXAERg0BV0yMWo14fhwBR8ARcAQcAUfAEXAEHAFHwBFwBByBGYSAKyZmUGV7UR0BR8ARcAQcAUfAEXAEHAFHwBFwBByBUUPAFROjViOeH0fAEXAEHAFHwBFwBBwBR8ARcAQcAUdgBiHgiokZVNleVEfAERh9BP71r39VXP/9739HP7OeQ0fAEXAEHAFHwBFwBBwBR2AACLhiYgAgzuQoHnvsseqrX/1qff373/+eyXB42R2BvhFYa621qtVWW63aZZdd+o7LI3AEHAFHwBFwBBwBR8ARcATGAYGRV0wg6H7+85+vPvKRj1THH3/8OGBaffe7362OPPLI5HXvvfeORRlyM3n11VdXr3nNa+rr17/+dW5Q/26GITCT+kU/VTvHHHNUT3nKU6rXvva1/UTjYR0BR8ARcAQcAUfAEXAEHIGxQWDkFRP/+Mc/qoUXXrh64QtfWK2wwgpjAeyhhx5aveAFL0heV1111ViUITeTH//4x4MQhSDF9bnPfS43qH83wxCYSf2in6qVYuJVr3pVP9F4WEfAEXAEHAFHwBFwBBwBR2BsEBh5xcTjjz9eC75LLLHEWAD7yU9+Mqx2suLJNd9889VluOSSS8aiDLmZfPe7312XDcXEjjvumBs0fHfDDTdUJ554YtF1zTXXFKXhH8+KwI033piN+a9+9atZI+jwZCb1iw7w1EFcMVFD4T8cAUfAEXAEHAFHwBFwBGYIAq6YGEJF33PPPdWPfvSj+tpyyy1r4X06KSZw0IdlCAqJOeecM9wXX3zxIkRRSrz4xS8uuj72sY8VpeEfz4rAGWeckY35Zz7zmVkj6PBkpvSLDtBMCOKKiQlw+D+OgCPgCDgCjoAj4Ag4AjMAAVdMTEIl77///tNSMfHLX/6ymm222ULZZDnxzGc+s/rrX/+ajepxxx1XvehFL5pwzTPPPDVeT3/60ye849uTTz45O37/MI3ACSecUGMM3nEd2P9PPfXUdCR9Pp2u/aJPWCpXTPSLoId3BBwBR8ARcAQcAUfAERg3BFwxMQk1Nl0FsLPOOisIt0972tOqc889txZ0r7jiimxUf//731c/+MEPJlz77LNPHdfOO+884R3f3n333dnxj+OHDzzwQHXxxReHrRb47PjFL36RLMZNN91UYYHz7W9/O7wnHEqEU045Jfm9fWgVEwcccMAsGNs6GRbe49ov2H4E7lyPPPKIhTUc8al3P//5z+t3KOu+9a1vhfo5+uijg0NfttOkKKWY+M9//lOnGW9lIg9Ks2nbzYMPPlh95zvfCQ6EcSbsTmpTyPszR8ARcAQcAUfAEXAEHIGpQmAsFROcbIFQdueddwZBIBe8J598srrrrrsqBIa//OUvucHCd/2EHVcBrBdAH/zgB4MCYaGFFgp1IQeYH/3oR3sFbX3P1gHFhV+CUvr73/9e0Uaw6Lj11lur22+/fRYBsjTOXt//97//rf7whz9UCIYlFiNxvD/72c+qNddcs3rd614Xtlrg+PUtb3lLdeaZZ8afVoccckj1+te/vlpsscWqn/70p9Uaa6xRvexlL6ve/OY3z/Jt/MAqJs4+++z4ddb/OKZFsQTGXGzVKDkutp9+Qdr0f/jAzTffHH4//PDDWfnmo0cffTQI53fccUfFlqQS2m+//QLuYI+wb4k88Zxrjz32CK9QLK266qrhGfWz4IILBoe+Sy21VLD+oe1YSikm4D+Kd+ONN7afhzandwcddNCEd/xDm3zXu95VveENb6jb1Fvf+tbqy1/+8izf+gNHwBFwBBwBR8ARcAQcAUdgKhAYK8XE3HPPXb3vfe+rll9++WrppZeu3v72t1frrrtudfjhh1dtQglCCCv6fLvssstWCAQrrrhitemmmwaBr00w6SesKrQfAUxxjOIdx54oENZee+3qn//8Z/W85z0v/M+2jn6oVDHxpz/9qbrwwgurww47rNpggw2qVVZZJbSRZZZZJgj1b3vb26qVV165whLDEltC1l9//XAhUMaEAkvvaT8pwpqAdNdZZ53QtkhzpZVWqt7znvcEwS8WOlNx6Bl5IDzbV8D1Wc96Vq2gQfnzla98RZ+GO9YkfPfUpz41lA/LFf5/6UtfOuG71D/9KiZwcrraaquFMqM44aJfolQ5+OCDq/vuuy+V7IHG9KkAACAASURBVIRnXfoFK//gTTr0f/iAeAF1vPnmm4fjeick9L9/sDr4+te/Xr3//e+v3vGOd1QI58Txzne+s/rQhz5U/fGPf0wFm+UZ24/AmYuyWvrSl75Uv+PIYOi3v/1t2PLENqdFF120esUrXlF/85KXvKT64Q9/aKNIbuV44okn6jDwL0tYXig/8EdLKMvAhTbFxdG+s88+e/ie31h/ODkCjoAj4Ag4Ao6AI+AIOAJTjcBYKSaYfDO51yScO8LY/PPPX7GKyOpnTI899li17bbbVq985StrgU/hn/GMZ1QIfAh4KQuKfsLafHQRwGz4UfyN4Al+YIliCEIg53+Odi1ZOY/LV6qYYLsDQhbtQEK96tjeURZY+sAHPlALbKy6x8RquAS6PffcM35d/fjHPw4KLtKVUkDp/d///V/16le/ujrwwAOzrXoQclEyEMdOO+1Ufe9736sQguXHAyHa4rr33nvXfYH0cECKFUuOBUS/igmOslReVWbuPHv+858flBZYULRRab9AcbPhhhuGehYmNm1+Y22QOrIWxRmKKZRpctSqsOQZPxtYNWCx0otQWCksSjBLtBO905YLlApYWXzta18LbQZFxBZbbFF/h6LEUspioqti4iMf+Uhow5QRp7E45UVhojzutttuNmn/7Qg4Ao6AI+AIOAKOgCPgCEwJAmOnmGBVfpNNNgkrnCgjnvvc54ZJNpN5BM2Y9t1332quueaqv9loo41CWAQcCQBYYsQrn8TTT1ibj1IBzIYd1d/f/OY3a+GGvfMQq84IPAjpt912W+eslyom2LMvQQtTeVbyOQmF+mN1HZN6rDpOO+20CXlidVnh2BIQE74b9H7XXXed8Pp3v/tdWHGXcI6Z/F577VV9+MMfDu1TChLa65VXXjkhbOofFGOsnpPey1/+8rBFgu/YFoLwy3Pa61VXXVUHR+mh/HEHB5RzWPn0on4VE1tttVWwOCIPpIvQu80221TPfvazQ55oA7xro9J+wRYh9VkUUbS3448/vjrqqKNCXb/3ve+tUJhcf/31syRL2HnnnTfkDYXaZpttFuqKNkIY8CPPWNz0snJhGwnOQQmDQoNtFiKsc3jOEcEoNkVsLbKWWSgt+I6L9C2pjPZ5F8UE6bMViDTe+MY31spXLIwWWWSR8JwTcYjbyRFwBBwBR8ARcAQcAUfAEZhKBMZKMbHAAgtUl156afWb3/wm7GfHgRuroxI4UDCwii3iO20vwNICp4AIzKzkcud/rZ6yyn/LLbcoaEija9g6kv/9KBXA4vCj+D8OExF4WLmW2f4Xv/jF8IznTVsfcsrSj2KC1WD29ONXAmEQh5Bst8DfxP333z8h+X4UE6y+y0qCrQCsRLMV4M9//nNoOyhEwIErZ2sLCgcpObbeeusJ+cTPhuJC8SE69NBD6+coM1JWP/o2vlvFBIoP/FWkrialCn2Li7pnewVpY9GALwyVAyVRG5X2C7aLgAPxky/68UMPPRTSp67Jz7XXXjtBIUD65AveQVj6O0elsr2CuiIcjj6xbuE9ihWr/GnKPwpO5QULCgiF0HOe85zwHJ8ObYQfFH2LIsJawgxKMXH11VfXbZStN5ZQLJF/+i9+QpwcAUfAEXAEHAFHwBFwBByBqURgrBQTrPrZCTzAPf7449UOO+wQJtlMtK3JvRUOsbKIPejzP3vSCceFoCfqJ6zi0L1UAFO4Ub7jowPM2AqjOsGKQFhSJ12pH8XEeeedl51sV8UEQrgEXZRXOJ6MV9lRiGhVGmGXdtpGOuEE/Ci/JeIXrtbs37ZR2+5t2KbfVjGB0o7tF6nrmGOOaYoi+RzhHOsR8oviBsVBE5X2C8WLYoJtEbmEtYTwY9tWbFFC3Z100kn1N9qa1BY/1jeKU5Y4KEX1jC04MZEOPh+++93vVp/4xCdqSy7KY9vHoBQTKImUH9oHliS6bNtHmePkCDgCjoAj4Ag4Ao6AI+AITCUCY6WYWGKJJZJYWYEAgVnEnnFNzGPv+frm+9//fv3N6quvrsdhv3nXsHUk//tRKoDF4Uftf4QorFPAhz37OqoQYVGr5W9605s6Z3vUFRMIcionwjIr7KxOxxdOGdWGWM1vI2v9ELdVVvYVj/VpYBUTOX4lbPpWMYG1BX0rdX3605+2wSb8RiHFFhjyi9NH2sFPfvKTeusJecZypYlK+8V2221X48CpJbvssks4gtMK9am06NfC71Of+tQs9US9YUWhb9gS0ouoT7UBhHzoxBNPrOOQFYXiQVFF/nG+S5vBQam2+5CuVZYMSjFh24dOa+HEFi4sxFRetmU5OQKOgCPgCDgCjoAj4Ag4AlOJwLRQTCCYyBkee6ZFrOZr8t1k5s5pHhIwENBE/YRVHLqXCmAKN6r36667rsaMkyN0VCF34c0qfNdjM0ddMcE2FZUTBQ1KmNQl5Q3fxsqGuG5x0Ko42RZiCZ8GeofVkMgKnqVHP1rFBEoRFAqpq8mBJdt2cCaK8gVBm60Q1D9Cr7ZAkWeOqmyi0n5BXPLhQNzgS5psmzj11FMbrTPsKRgoNFJ1pRNmiJc0ehHONHGoy/dYxkBYZfE//ieoMxFKjPXWW6/2v4HvCL7FDwXfcw1DMWEVOfRH0ktd+FJxcgQcAUfAEXAEHAFHwBFwBKYSgWmhmMBEmlMJmOAzARfhmI5nKC2s4zm9584RglJM4EhT1E9YxaF7qQCmcKN6tyvD4I1yQpfqAdyvuOKKTkWYCsVE6tjEJueX1uyfcuZcCPJthHNNxcMKviWcGOodR1yKrGLiq1/9qh5n3a1iotTaAt8sCOO2rtm2wZYV9SXld5CKCfo5p2bg8BLrDqVB2lgE4OvjnHPOCX3agqC+rO973VFS5BDbaogLHPC1IQUI/icsYYGBw02wQVmAxQ3KCvnMII5hKCY42UVlpc/SH1NXk9LWlsF/OwKOgCPgCDgCjoAj4Ag4AsNEYFooJphYy2KCkw1EWgVFIMATfYpY1dfk3Trr6ydsnI5VTOgEi/ibcfqflXIwA9evf/3rYc88++a5ON1EeLK3vwtNlmKCozWVV7b0xNSkmLjgggvqcDi2BINeF44x2+jjH/94HWfsPwHnhMqnPfJ0KhQTf/vb38KpIap/TrfAX8LFF18cjjcl78sss0yd31zFREm/wG8F1h04BeW0FXsSCFYMKE4scYKH8MMHSa+64pjWHLKWM7SJ2WefPaQjnxPEgeNNOblcdNFFw/+Ke+WVV67z1UsxwckfKsPiiy+uKMIdZY3eaVsJLzgqVM8vvPDCCWH8H0fAEXAEHAFHwBFwBBwBR2CUEJgWiglO6tAEfPnll6/xxXxaz5v2UVvhc7nllhtI2DqS//044ogj6nwgwIwzsWqtYy3Z7hJbonAihjDPOY0ihcVkKSaswojTXWKybcMeF3rjjTfWZVxhhRWC80/8LbRd4NZGCMzCLVbo2PbNaSCiqVBMXH755bVVBII1p1vgRBbLIwgMsBBQWdoUE/32C9LltBXwQUEiaw2UE/YIz3XWWafOD0qHtnrincoinJvuOLLUySzrr79+SIM8WH8ibOERFttvv/2EqOBVetdLMUGeZKFC+SxxqojisYoJrEf03J7mYsP6b0fAEXAEHAFHwBFwBBwBR2AUEBh7xQQCyBprrFFPwBHWRHYVGiE5FqL53yovBhVW6etuj3skT+NMnLwhp3129V5lYm89pzsgEOFgL8Zc37XdJ0sxgSNECW4ItjE1KSawGnjBC14QwrIaXurfIU6H/3EiKcEagd8qMj70oQ/V+UTYFE2FYuL888+v84LFSYq23HLL+ps2xcSg+gVCOwoSfMRQn7Fy4Oijj67zg/NQqwRI5T/3GUoMrCBIk21g3FEa4H9ChAWJ2hhH7IpQquhkF97TpkQp55e8U5tj+xThRRZH245R2qiv4puEI0qdHAFHwBFwBBwBR8ARcAQcgVFEYKwUEwgBEioQeG+99dYKp4FzzjlnLRzYUwAwo9bqPubee+21VziuD6HvrrvuCv/LzHquueYKwo0qqZ+wikN3zNwlnOAsUGb9lIUV3Ntuu02fjvzdCqb4KUjRaqutFsrLanKXsk2WYuKWW26pV6FxCsjximpftBEUDqo3azHBO3sEJVsFOFaTNiNFDMIp/2Mh0+vUCDBEaMR/BOnRJi+66KIA7a9//etwggPPacv4MhBNhWLCbhtYeOGFwwkXwkz5ylVMlPYLyosyCWWHcFaanIKhkyYQ3K3fBCwbUBiAIUL/pptuGvodjm8h6hNBX6eqKM6c+4477li3EeK3x7kS3h71Sv2SDooU/JTI2oJwVtHQpJiwjj8JT74pGw5HiYPLKgufeOKJ+nQhtpkceOCBExQgtE/bnnLK6984Ao6AI+AIOAKOgCPgCDgCw0BgrBQTKBfe8Y53VJhN4+gO53FSLGDmfOyxx04ww2bijtM3rRrOO++84bg+wnJsH/8zmef9xz72sWDiLZD7Cas4dOe4x/nnnz+khRM8toxgXk5ZWMlEyBgX2nnnnWshiGNaU2SPvmQffilNlmICaxtr5s/WFLUvTnpYbLHF6rJaxQTluf/++ytrir/gggtWb3/72yuOpsQKB+UM/+Mkku0tOQRW8pWCjxMEaIRRWVIcfvjhEywppkIxgQJF/lcQrDnhAiuELbbYokJIZyuBlIH0rTaLiZJ+gaKH0y44ZhMfFlhJkeYOO+wQTrhYaqml6n7OkcF2OwZ9GaWTFJgoLuh3WKasu+664VQPflOWrbfeOqeq6m9wOiqlAPe4vWMJIaUI6a655pohv/izseHAQtSkmLDKMMKTd9qgtngQH+3ZEsof+eDAkgnccMAJdrTP008/3X7uvx0BR8ARcAQcAUfAEXAEHIEpQWCsFBOayKNIkLDGM4TCo446asIqqdBkwn/yySfXZtB8b8OyUo6Al3KO2U9Ypc8dwQilCSdXqAx2tTReZbVhR+23TkNAIRSvlCuvl112WV1OBMdSmizFBPliCwUOFFUv3OP2xbPddtttlmLga4LnCJwKT9uSIkzPZP0wSwTRAxyx4jxUThRRYhEHbQUc46M7p0IxQZbxM8ERoSofd4Rp2gRY2P7Vppgo6Rf33ntvvV2C9EhDaUow5xlbtuLjVskzDjOx9lH7Vd7B1uYXZVQJoaBS+sSFBYMlynjWWWdVWGSRJt9Qr/AdFKTKB1tRRE2KiTvuuGOCdYTaKco0KYNWXXVVRRPu9FHSl2IUxReKCqVRqoiZELn/4wg4Ao6AI+AIOAKOgCPgCAwIgZFXTLCP+wtf+EIQ2BDgWSVkdROngxtuuGHF6vyVV16ZVEoII0y2cZCHIIdjPlYZEUbZ2sFJEg888IA+neXeT1gbGUqOz3/+8xUO8BBIWFHfeOONq4MOOqi67rrr7Kcj/Rsnevg8aPOVQVn5hivlVLJXAa+//vpq3333DRem8L2I4xf1PcqCEkJwZC8++/RRMtAusABg5Zn9+rQRtg+w7SNFd999d8Wq+ZFHHhlW2wm70korBasJthkRb6xQSMWjZwi6HN+JZQrtZJtttgmr2pzMERMKAuHMlo8Sos0Js9RRqW1xsY2C8KeeemrFto211lorWAFRbvADN/KFtZLdopCKM7dfYKlBX8VfxAc+8IHAB+ABCOKs/lMWTsNgexc8I0X4P+E0D04RoV432GCDkG9wxjqFvlhyOghpYJlB3VNeeFEqbXgIx8VSl6RFO+OUDBR4qj9wELHlgudxHyMttXX4IDhTFpRrYE0YLENiQjmBE87jjjuuwi8I2z1oX8TP1hwnR8ARcAQcAUfAEXAEHAFHYKoRGHnFBABhco/AhuNFVmCZiLOnHP8FKBUQLnsRwhTf4jEf4RVhFF8P1uS7KY5+wto4Ea4QMBFyMe9HmKRcKWHGhhul3+xJR9BOWZgon2DKN1wPPvigHmff8cnACjkXwmQvAld9z+8uhACNkoF2cfPNN4c7q9i0Ed61tTHaJ3iwok1Y2iftlD38vQTzVF4pPz5QaCfE0WSZwnPhTB5KaBCYsU0Bny4oA+hTlBv8wI18IZC34ab85vYL4qI9wQdIBx4A3uSB+m/CSenoTp1Qr/AP8g3O8AX6onVcqe973al7ykv4JqIdU5ekRTujvh577LG6/iwPUB9LxUffoqzCWe0LxUZbfyMcFjm0UfgO7Qs/HDn101Qmf+4IOAKOgCPgCDgCjoAj4AgMCoGxUEwMqrAejyPgCDgCjoAj4Ag4Ao6AI+AIOAKOgCPgCIwWAq6YGK368Nw4Ao6AI+AIOAKOgCPgCDgCjoAj4Ag4AjMKAVdMzKjq9sI6Ao6AI+AIOAKOgCPgCDgCjoAj4Ag4AqOFgCsmRqs+PDeOgCPgCDgCjoAj4Ag4Ao6AI+AIOAKOwIxCwBUTM6q6vbCOgCPgCDgCjoAj4Ag4Ao6AI+AIOAKOwGgh4IqJ0aoPz40j4Ag4Ao6AI+AIOAKOgCPgCDgCjoAjMKMQcMXEjKpuL6wj4Ag4Ao6AI+AIOAKOgCPgCDgCjoAjMFoIuGJitOrDc+MIOAKOgCPgCDgCjoAj4Ag4Ao6AI+AIzCgEXDExo6rbC+sIOAKOgCPgCDgCjoAj4Aj8v/bOBe6yqfzjlaS7qChJRaSrbkSFykcuJUKlJCWXRiWSUCJyaWJcZtwLSS6VqVAjGYXuNRiKjJkuiJjJJbcmt/X/fNe/37bePWvvs/d533fm7Dm/9fns2efsdf+utd45z7Of9SwTMAETMIHBImDFxGCNh1tjAiZgAiZgAiZgAiZgAiZgAiZgAkNFwIqJoRpud9YETMAETMAETMAETMAETMAETMAEBouAFRODNR5ujQmYgAmYgAmYgAmYgAmYgAmYgAkMFQErJoZquN1ZEzABEzABEzABEzABEzABEzABExgsAlZMDNZ4uDUmYAImYAImYAImYAImYAImYAImMFQErJgYquF2Z03ABEzABEzABEzABEzABEzABExgsAhYMTFY4+HWmIAJmIAJmIAJmIAJmIAJmIAJmMBQEbBiYqiG2501ARMwARMwARMwARMwARMwARMwgcEiYMXEYI2HW2MCJmACJmACJmACJmACJmACJmACQ0XAiomhGm531gRMwARMwARMwARMwARMwARMwAQGi4AVE4M1Hm6NCZiACZiACZiACZiACZiACZiACQwVASsmhmq4B7uzDz30UOB6+OGHB7uhbp0JLIYEtP4eeeSRxbB37pIJmIAJmIAJmIAJmMAgE7BiYpBHpwNtu++++8LUqVOLazRKhXe+852Ba5dddulAz91EE1h8CNx+++1x7bH+DjnkkMWnY+6JCZiACZiACZiACZhAJwhYMdGJYRrcRv7iF78Iq6++enHNmjWr78Y+7nGPC1yvfvWrG5Uxc+bMsM0224RPfepT4Z///GejPE40fgRGMx6PPvpoOOigg8LWW28dzj777PFr5BiX3NV2lzH8/e9/j2uP9ff+97+/HL3A99GM9QKF+YEJmIAJmIAJmIAJmMDQE+icYuLBBx8Md99999AP3KAA+OpXv1oINAg1Z5xxRt9Na6uY+OxnPxue9KQnhWc+85nh1FNP7bteZxwbAqMZDwTj5ZdfPiy55JJRMcW2gi6Erra7zLatYmI0Y12u299NwARMwARMwARMwARMoFOKCd7Svec97wkbbLBBOPDAAz16A0Bgs802G6GY2HXXXftuVVvFxCc/+cmi7qOPPnpEvX/961/DscceG3baaacRz/1l/AjUjUevWrF4eeITnxjHc9lllw1YInQhdLXdZbZtFROjGety3Xz3es1R8TMTMAETMAETMAETGB4CnVJMTJgwISyxxBLh8Y9/fFhuueXCtddeu9BGCt8JN954Y7jjjjsWWp2DXhFvtXnLjULhqU99ary/7nWv67vZbRUTf/jDH8JHP/rRsMMOO4S//OUvI+rdeOONw0orrRRe9KIXjXjuL+NHoG48etWKJRTWN+9973vD8ccf3yv5wMR3td1lgG0VE6MZ63LdfPd6zVHxMxMwARMwARMwARMYHgKdUky8613vKt6QI8T+5Cc/WSgj9bvf/S5Q91vf+tbwzW9+c6HU2YVKrrvuuvCEJzwhjoksJ57ylKeEO++8s6/mt1VMIBSikOBta/kN+7Of/ezYrhe84AV9tcWZ2hOoG48mpf3rX/8Kf/7znzu3Vaur7U7HpK1iYrRjndbNZ6/XMhF/NwETMAETMAETMIHhItApxcTJJ58cEHwRYF/ykpdEC4aFMVycOiEB3B7rHyOOXwfGAiuWb33rW/Ez33/+858/luh/nx544IEwbdq0eEmRcPHFF4evfe1r4ZprrompUsUEgs9ll10Wt2N84xvfiAJrudA5c+YUZd5zzz0x+pe//GV89oxnPCO2B4FH9V5xxRUxzdVXXx2fXXTRRfE7JxKccMIJI97Uo1z58Y9/HJ/Txm9/+9vhqquuKjch1PXrt7/9bVH373//+wXy4ihUbeN0k6pQruPee+8NP/3pT8OkSZOio0iEynJo0kfyoND54x//GMeP7TCMHeXXhVtuuSW2m/Rf//rXw69+9auYPDceKgfrGvifdtpp4Ygjjojt/tvf/qboeEfRCA+NUxpJO2F4yimnhMmTJ8f+53zN/Pe//y2YwuU///lP+PWvfx2OO+64eOGstW1gftAueJ944olh+vTpgXoU6tpNmptuuil85zvfCYcffng455xzAmP9m9/8JpaZzinGgXpYFwQstM4999yYD4egc+fOVZUL3NuO4/XXXx9OP/30wBj+7Gc/iwo+rb8mzi+rxrptH5qsV3W2bR+bclf53LGIY20deeSRcc3nnPk2XVtpuf5sAiZgAiZgAiZgAiZQT6BTiol58+aF888/PxxzzDFRgBrN0ZT1WEbGfve73y2EbismHmOz4447Ri4oiRAyJdgceuihjyX63yeEu1e+8pXxQgnwhS98ITo5XGGFFYpTGJT/Va96VfjKV74SXvva18btGJS/9tprFwKbCkdhoTKlZHjf+94Xn6EsoTz8FijN5ptvHrPuv//+8dkaa6wRZsyYEc3I2fLxhje8IcYjXG244YYxDc9p40tf+tKw5pprRqEYAUmhrl8Iw6obU/Vy2HvvvYv4G264oRxdfE/rOPjgg8O2224b2WENsuqqq4b11lsvYNWThl59JO0jjzwSt0+86U1vCqusskpYccUVA0woP2f1gnKBsaU++kV6xuYd73hHrDo3HkSQj/a88Y1vDCuvvHJQu9/ylrcE1rTC61//+liuxknPUQIwHxgf6nvhC18Y+/+BD3wg3HzzzUoW7ygrxByhmznK9iK29XAxp3jeNKA44AhNyqTdzIfXvOY1UUmhMqraTTzKKfisttpqcR5x/8QnPhG3rFDmBz/4QRUTj+nkGeWhoMBC62Uve1nMxzjDpbxlicxtxxGF2zrrrFOMOf3BmaXWXxPFRNVY8/exTR+arNd++tiGuwYAax0s4zgViLnNmofT9773PSWJ9yZra0QGfzEBEzABEzABEzABE+hJoFOKCXqDMgLhgx/jbQJv4P/xj38E3oDhmwLz66bBiok8qZe//OVRmMEhKXyf85znxO9s6ygHeEvwecUrXlGk5ZlO1FD805/+9PC85z0vKhVkqUIcAiZvkRXSE0HOPPPM+HiTTTaJQgV+SFQeQgbXuuuuG9NwvChxpEFolBIDwZUwe/bsaCGDdQ5KEoRplYVQzFtehbp+8XYdYZa8T37ykxd4401/iONUEVl8qNz0ntZB/bQLhYv6yB0BKj0ytVcfKf+oo44Kz3/+82Mb8NmCAob2UD7ODdPA+KJIYVzEgnZzKooUE7nxoAwUAZRPPtqNkA0PuGLRoMAz0hCfBpQx8mVCfVykIz1zLS3j/vvvL9qHEoO5BB+VTT7mAkJorwBPlCeaHykjrLcUVHa53SgRUGZpDtNuPsONdtEWxk1hr732is9Ig3BPvCzE+Ez+z3zmM0pe3NuM45VXXlmUTZmcggIfrV2eNVFMVI112z40Wa90tE0f23KnfKwrmMfMTy6OQIYNPPicWvE0WVvF4PiDCZiACZiACZiACZhAIwIDr5jA9HvLLbfMXpgj1wXe1B522GFh5513DvwARjBFEOAN8dve9rawxRZbRNNsTOXLgR/wqnettdaKP1D5kYrwoefpPbd9oVzm4vQdoW2ppZaKXHRCytvf/vb4HeG1bM2SCowS9HiDvt9++xVvgeGrizfTmL9j+s5bZp4jQKVvu3PCEeN2+eWXR+GPPGzl4DsXDvsIEp6IR9jDcSdv1uU/ZP78+WGfffYJP/zhD+MbbxQR2223XdE2HG4q9OoXb/XVp9QnCooIOQyVYK8yy3e2VqgM7gjcvMU966yz4meewfSkk04qsvbqI9sCYExe3hBjzs8WBZRGPHvWs54VrWBU4AUXXFD4AeDUDARF0mPBhOk7ITcePKd8ykSwZzzZWsEWBbYSpCEn4KNMlMIEpQz9/tGPfhTXMWUyfoyTAgpLnut68YtfHLePXHjhhXHd6znKjl4BhaSUCjhYZY2zvWjixIlRyan8uXYTx9xmzlLnu9/97rg1CEsDbTPiOWtG4Utf+lLRbuL4u8WcYesLwjLPnvvc546wZmk7jpyaQzlc/P1jXBlLrWWej0Yx0bYPTdZr2z625Q5/LD1gzHjxfwZbbbDSEatUIdRrbWk8fTcBEzABEzABEzABE2hOYOAVE5/73OeKt1h6m6W79mJXdReFA2+E9dZUPzJ1R5hDONt+++3jG/+0HLYGqB4J0sqn5+kdHwvDFBAOxQPTcAJjxTN4lZVGKImUnjsCMIqC2267rVBipPEIB5jwc2ENoTiUGdpKUSUI05Y6Z3pf/OIXi/IoFx8S+L1IfSvceuutcQuCxhQ/CmpD+ma8V7/wiaB8CG0KmJrrOQJQXYCB0nKn31gwoEBJy8f0X6FXH7HmkNCMsAxTk9RERQAAFw5JREFUhPopU6YUdbEVhUAcW1uomzxsxbnrrrtiHAooWSzkxgPFAsoD8rIVgb4QuP/73/+On/VPTsCnTLWTbSTko50I1Hpe3ibDuhQv5hHKI/qAPww95/SPXiEV4qXUIg9+CFKLrVy7sXLBMoP6UMjgl4A8+JdIlVwbbbRR0YxUEEahIl8sbKuRBQXlUZZCm3FkS5AsT1Ae4tuF8WMs2a4iNqNRTPTTB/pSt17b9LEf7owJ2zboP9taKIOAQkRKUcaS9UbotbZiIv9jAiZgAiZgAiZgAibQisDAKyZw+sYbal16+8qPSPZh14X0bTZvgBEIdt999yhAYwIuhcPTnva0ws+BysPPgOpcf/31ix/t7P/W8/Q+c+ZMZR2KOz4iGAPeKGsLARYOEm7KihoEQ8Vx5y1wOSieN8oItApYF2gLAUKgBNqcIKw8dYLOAQccULQFAVCCiPLm7ii59KabNsgipFe/cMCoeZZaRiD0q7/p1pBc3Qi0SstcTdmwrQkLBuKxwJBypVcfEYjJgxCv8aNuTNpVF1YCBARYWXewtSXndJJ0ufHAUabKw08IipyqkBPwN9hgg5ifeZY6+WRts/WGslE8SjlC2Xr7T5tRMCmwfUNtkT8RxeXuWCwoPYqQqpBrNxY6UpzgRyFVZGAFoXLxaaCAEkXP99hjDz2O99TyJm1Lm3FEkas2bbPNNiPahGWa6h6NYqKfPtDBuvXapo/9cMchqtYoyqg0sAbgks6/Xmsrze/PJmACJmACJmACJmACzQgMvGICoZE9w7omTJhQ/IBuo5jgDT2e5HGWh7CEnwl+/OvHeCo0gg7BR3Wmb5H33HPP4rniuaeCUTP03U7FVhjYsa1AQjocxJNxKgfFIVwzBuWgeBwxIvCnYdNNNy3KlqPInCCsPHWCzpe//OWiLJz+VQXagKCOQMccwDcAbUS4Y34oqN25fiGIS5mGckzbhlBqkW+ZZZYplAkqL3dXHfhlKLPRFhrSMAaEXn1kWwTpaRNm65x4wcVn1cVbdAJbRvSMLS5VITceWDig/CE/fPBTIcVSuZycgC/lA3fNM+Vje4TalSotVA5vuVNWsJc1BU4lewX8SKh8LHWqtmupvtSSJhX0ZXmi+miryk39saT8sO5IgxSB5ENZq9BmHNnqo3qPP/54FRHvKGIVNxrFRD99oAF167VNH/vhnlod8fdAa4H7Rz7ykYILW5AIvdZWTOR/TMAETMAETMAETMAEWhEYeMVEuTf77rtv8UOxjWICS4dywJHi0ksvHcvjngoxaVo7v0xp/L/SRtxwgMk4cLHXX29kOf2gHCT4oMzIsVY8b+XLIVVIsc+fkApBcn6pfHWCTipYyK+E8umO2fsuu+wST0ZAsYBgLKGWdsoygfRqd1W/2J9OGthoSwB95JmEf9VbdVcdOTZScpBG1hd1fURZoO0V3LEeSC/VhTBOwB+DnqVCcbmtVeOBkC12jAuC73XXXVfOXjiolICftvPNb37zAulx0Kl2qd8kkqIA8/xykDWF6ijHp9+xJMEfDXXwRp0TS1BQsY0mDaovLTPlr61OykO5ajeOYxVSfhxPm4bUEkFzPeXTZBxT/w/lv53pqTpjpZho0gf1sWq9tu1jP9zTPGztS9eCLLUYL7avEdL0VX8/1C/fTcAETMAETMAETMAEmhEYasUEwjF7ivnRiakue4pzwYqJkVQ4mlIKCN6Cs/9dlwQuThMoHzmpONLmguJRBJQDb+oVf95558XoVJCTsKZ8VYIO8algUT4KkHgsMvBBoJMTEDgxfVeZtCOnmKjqF4Kp2j558uTIRcIsAmeToPw5NlJ8kEZs6vrI9gaVx51+5S62URA43lLpq6wGSFc1HvgwwPeAeNJ3TrvgLX0axEQCftrO1BeD8mB9oXZ9//vf1+NCMaFyiohEaZGLS9PpMwoPfHeoHhRUWC+kirVyu8mLUkt52CqQBvyqKK5KMVGezzm2KR/Ky40hzzSO6dYUfKakIbXiGCvFRJM+qA20kz5wik0a2vaxH+5pHv5uVXHUkcR1ayttuz+bgAmYgAmYgAmYgAk0JzDUigkwscdbQoK2CJTxWTExkggnY4gZP+RRTujSm3jiy0Ks8uSEa2qoi8fEWvEqNyesqaVVgg7xqWAxdepUZSnuH/rQh6KfApQvCC2YcDM39PacduQUE1X9wlmihHJ8BSCoqi84wWwSlD5XR2o5cMkll8Ti6vo4b968on4sW+CZu2bMmBHL2m233Yr06cki5XbXjQdKP96gs02HvsAWp5Xa2kJZZQEfxZb6LeE6rVPOVkkjoTFXTpqnXEcal/vMVpyrrroqntoiPwScjJEqtHJl6khJ2qZTS1T+WCkm2o5j2iatIbVpUBUTo+ljU+7p+uFvW24t8Ey+aOrWlnj6bgImYAImYAImYAIm0I7A0CsmeDso4QfneLlgxcRIKmKGcMkbenww6ErNxTlFIQ3inBOuSaf43HaFj33sY0W8FEh1gnC/iglM2uXkknbwXQE/JGpjG8UEb9flBwIfEYcffngshzamvipUT+6uevGVUg4oUhSv01DqhCeEbRRK5MFiqFfg1BKVzx7+qlA3HuShrxxLirUC5bGtAp8WCmUBH58SKLxIm9salG5hSbeGlMtR+dzr4tJ05c+ckJGexpBaOuTKTLe/lLc04LxUPNNy6vjl4tqOY3piRlkhR//UpkGymGjbx364c1So+p5a3pTngL7XrS2l8d0ETMAETMAETMAETKAdgU4rJsp7t8tdRxDSD86cjwnSY6KvNFWKifS0CX74DnNAyJYzOnwqIDikIXWilzr2I40491JMsK87PcWAvGuuuWbMjzKE4/0IOWEtRiTO9FZYYQU9Ku51ggVvWdVOtjCkYb311ivi2igmKAMlDeUuueSSYd11142fU6E0rSf3WW3i+Nty0HYk2KhddX0kP2NHmTi/FM9yufqezn+UAVWhbjyUB2XDQQcdVHCcNGmSorJKAykxcDxadjArCxa2YaV9yCkKVEldnNJU3fENIZ8DnISiuZ8rE98DGjO22qThiiuuKOLSOVDHryquzThyLKzaxMkSacDRo+IWpWIit17b9LEf7qeffnrR9yZ/33utrZSrP5uACZiACZiACZiACTQj0DnFRCrUnHPOObW9HCvFxPnnn1/8cP385z9fW+fiHsmpD3JkmBNgEB4xdUfIQYiT8AYXCT45xQQKD8VTvpxEko83zHpzjrNN7e+vEtbIgwBPeeRTeo1NnWCBA0+1A18CCpwkoTKJ5whTBaXP9Utp2BahdDp6s3wygtLm7sqLYiO1DsCiQ9YP6YkddX2kfFlZINSXj3Yt1z9r1qzCWebyyy8fTyopp+F73Xik6XGgqf4ceOCBRVROwN9qq61iWpQul156aZEW3wOybCmf4pIrRxnr4pSm7s5pHrSdcdApIbkysVzROkG5ks6XiRMnFv0frWKizTimygeciabKv3TsON60V0jTp74kqp5TXl2c1lZuvbbpYz/cWU8aK5R86faiHIdeayuXx89MwARMwARMwARMwATqCXROMcHRexJqejkOHCvFBA7wVCdOEYc5pEdHHnXUUVkUnDQBL/bka2sBCcUwJ8Bz0oHiuSOQ8vafa9dddy3i0jeadYIOWx4oR9tNUuVEnWCRKhDWWWedeLQlAtwxxxwT+6M2pkde6lmuXwKEsINjP6WFjY72VJq6u/JxZ1sL5SHspg4N2WqgUNdH0kyfPr1wYIowljponD9/frjyyitVVOBkBARo6oYnawDrIpjiB4IjeAm58SAN/hhwgEkgfXoE4xlnnBGf809OwE8VRfiDufvuu+OpGPSVttCmdE5UlaNKcnUornyfOXNmwNErgX7ASL5CUmVIrkyYyWkmQi9HE6PgufDCCwOnhWg8R6uYaDOOWJWg2KNulGNYCtAv2rXaaqsVbdpiiy3KKBb4nhtrElU97xVXt17b9LEf7sz3DTfcMPYfhRNzK1UkofzDWkah19pSOt9NwARMwARMwARMwASaE+icYoIj2/SjnuMMb7rppthbfnTj+C8VhMdKMYFjON4sUy9+AXC0xw96AoIz/hXSepvj717K1IFeleNGzMQ1RunbeD3LCfAIAornjgDIVhAcJGI2zzMsMRgLhTohaPvtty/KQxhD0aG9/nWCBe2Qg0YsETbddNO43YdjBNP24ZRPQc9z/VIa7ji+TNOm1iRputxn5ePO9guER06qWGaZZWKZPJszZ06Rta6PJGJt0DfKQ3DGh8OHP/zh6OwT7muvvfaIYzHxDcF2CtIjiBOPUI3vDG1VyI0Hb6OxMsB5JWPCXeOJogbLB4WcgI8CiG1Y1IswTZ8ZS22pWHHFFaNFjcrgnitH8XVxSqM7W3k4OnLrrbeOcwBGtIOrl6UHZZx77rmFNQt9RtGF3xL9LaGczTffXNX1JdS3Hcf02FHmOdYRKFDk2JM2seZ6hdxYk6fqea+4uvXato9tudO2Cy64oFA68XcGBji+3W677eIJMieddFKBpNfaKhL6gwmYgAmYgAmYgAmYQGMCnVNMIBBKKMF5Hj+q+XGPwMObX95sK4yVYiJ9C8cPd4QLhDqEQ+pFIE3rVf2L411CImb08mdQ7icnN8CJa8KECUW0nuUE+PSkAt6oowBCYJYQx3esNarMz1NzcirkOEQJwNRLWZzsQagTLFA4nXrqqYUQjsDGPKP+TTbZpOjX7NmzG/WrSBRCOOKII4r8vEFvE8QORQSCU5kNTim1tYBy6/qoevEHgtCtshHaUQjRZ65UCYSFBood+Rchj4RZFD+EnFCKkIhlAxeKHlk5oFREySgFH/mrlAaXX355WGONNWI7mQ+81aZ+tkjgrDAto66cXnHEp0G+O6hPp83Qh3333TfccsstRdKqdqNUwXHo0ksvPYLxTjvtVHxPt03k+KmSurg244giSFsjYEjfGBPmNuuSZ/hS6RWq2lP1nPLq4urWK3nb9LEtd8rnbxnrfrnllosMmGesBY3txz/+8QJJk7VVJPYHEzABEzABEzABEzCBRgQ6p5hACGELgUyqUwGJz6lzvrFSTEASIYo9/NTBxY95CWblehuR72gizOY5phEhoyqgPCINV2qqv/fee8dnU6ZMWSArY6U8bJ3Bselee+0VFUC77757+MEPfrDACRakU5506wGFY56NbxCOAuQNO4IF2wIIWNYoH2bs5cB2ARw+IkAisGERgACMwkX5UouJun6lZX/6058u5k/5uMY0Xe6z5h3WB/SLNrG1AQUHbMpKol59VB1Y+mDVgrCNzxDWzz777BPHLXUoSXrGCMsJHFbChvS0Q1YxufFAgD/llFMCfUcI32GHHQKnQ+BDhO07acDSBr7luYVlCUe24l+GOtlKQnvxOVF2iEl5mOLnyiFOdRx55JFp1dnP9HX//fePTKgXxRbKmdSsPy2z3G7iOGKSrQj8zcLKgjfzlKvxRAmncNlllxXzqzyfU7Z/+tOflKW4txlHTrVhDHH8u+WWW4bJkycHyjz55JNj/SeeeGJRbtWHtD1pW/vtQ916VRva9LENd5XPGsL5LWx23HHHONewEGNc0z42XVsq13cTMAETMAETMAETMIHeBDqnmKBL/Ojk7Tlv47FcWH/99eOPSJwVptsLEGgQYBAc+fGdC5RDPJf2wefSIZQhCJFu2223DRwdibUEP+4RXrQXPZd3cXqGUIawOXfu3MpuYdVAGq477rijSMfbWp4xfuWAwkl5eDvP2PEdgQkfBlitlANjkuYpxyP43njjjXGbDcchonAgIIAoX65c0iDwsrc8rR9BXflS64S6fqlNcFtppZWiQMqb6bIiQemq7hJkyUu/YHLttddWsmnSR9VFX2kfShr8XtCfnMBPesYWPxGwIT3tUF+qxgNubLlCsGQcquYOVjPw5V4O1Es+6sS/Be1NrWfS9JqjuXJUR6pYSvOmn5mTpIcJ9eKElblZDiozVx9pKYe/LbSfeYNSSuO55557FsWl86tcT8oWIT4X2owjY4iCApZaF6xV+OfWZ7m+tD1pW0fTh6r1mtbdpo9Nuafla34zTxlz/n7Ag7IU2qwt5fHdBEzABEzABEzABEygnkAnFRN0iR/DmJojOOKkjh+RCCSpwMiPSZ4haFUJIggMxHNVCTpCSDzpMOO/+uqr48WPewSStF6l990EIMA8xLJA21LY0tE2SJDNbYNpW5bTL1oCqQ+WE044YdE2ZohqN/chGmx31QRMwARMwARMoHMEOquY6BxpN3goCaCUwFoHHxUoFzh9AOVW22DFRFtiiz49ylMUl2m45pprom8MxpOtYFi9OIwtAXMfW54uzQRMwARMwARMwAQWBgErJhYGZdcxlASwotlvv/0Kh5E4rDz77LP7YmHFRF/YFmkmfEtwEgcnTrClDF8pfJdvGpz2Vm0lWqQN73jl5t7xAXTzTcAETMAETMAEhpKAFRNDOezu9MIgwNYfHTGJUgLnjRxH2k+wYqIfaos2D/4jGDdO8sBihiNddSoJjkuxnnAYewLmPvZMXaIJmIAJmIAJmIAJjDcBKybGm7DLH2oCCEkcW3rYYYeF22+/vW8WO++8czwdAgsMh24Q4CSR3XbbLTroXWuttQIXznI5WpgtHL182nSjl4PXSnMfvDFxi0zABEzABEzABEygFwErJnoRcrwJjIIAjlKnTZtW6Xy1adGcgsHpEJyC4dANApwywWkkOOidMWNGvPA5oVMwutGL7rXS3Ls3Zm6xCZiACZiACZiACVgx4TlgAuNIgLfiPrFlHAG7aBMwARMwARMwARMwARMwgc4TsGKi80PoDpiACZiACZiACZiACZiACZiACZhAdwlYMdHdsXPLTcAETMAETMAETMAETMAETMAETKDzBKyY6PwQugMmYAImYAImYAImYAImYAImYAIm0F0CVkx0d+zcchMwARMwARMwARMwARMwARMwARPoPAErJjo/hO6ACZiACZiACZiACZiACZiACZiACXSXgBUT3R07t9wETMAETMAETMAETMAETMAETMAEOk/AionOD6E7YAImYAImYAImYAImYAImYAImYALdJbDQFBP33jAnzJk0xdeAMJg98ehw/QGHejwGZDy8Nvy3wXPAc8BzwHPAc8BzwHPAc8BzwHNg0OfAvOmXjov2Y6EpJubPnRfmXnSJrwFhcNu0i8OtU8/zeAzIeHht+G+D54DngOeA54DngOeA54DngOeA58Cgz4H7Zs3utmLi0YcfDg/f/4CvgWFwf3jonns9HgMzHl4b/vvgOeA54DngOeA54DngOeA54DngOTDYc+DRBx/stmJiXFrvQk3ABEzABEzABEzABEzABEzABEzABDpNYKFt5eg0JTfeBEzABEzABEzABEzABEzABEzABExgXAhYMTEuWF2oCZiACZiACZiACZiACZiACZiACZhAEwJWTDSh5DQmYAImYAImYAImYAImYAImYAImYALjQsCKiXHB6kJNwARMwARMwARMwARMwARMwARMwASaELBiogklpzEBEzABEzABEzABEzABEzABEzABExgXAlZMjAtWF2oCJmACJmACJmACJmACJmACJmACJtCEgBUTTSg5jQmYgAmYgAmYgAmYgAmYgAmYgAmYwLgQsGJiXLC6UBMwARMwARMwARMwARMwARMwARMwgSYErJhoQslpTMAETMAETMAETMAETMAETMAETMAExoWAFRPjgtWFmoAJmIAJmIAJmIAJmIAJmIAJmIAJNCFgxUQTSk5jAiZgAiZgAiZgAiZgAiZgAiZgAiYwLgSsmBgXrC7UBEzABEzABEzABEzABEzABEzABEygCQErJppQchoTMAETMAETMAETMAETMAETMAETMIFxIfB/GZv1/xonFw0AAAAASUVORK5CYII=)"
      ]
    },
    {
      "cell_type": "markdown",
      "metadata": {
        "deletable": true,
        "editable": true,
        "id": "lY-R5c6pZWXk"
      },
      "source": [
        "### Numeric types"
      ]
    },
    {
      "cell_type": "markdown",
      "metadata": {
        "id": "ztBttPFIM7E3"
      },
      "source": [
        "The primary Python types for numbers are **int** and **float**."
      ]
    },
    {
      "cell_type": "markdown",
      "metadata": {
        "id": "G-VGrbC7M1Ck"
      },
      "source": [
        "An int can store arbitrarily large numbers:"
      ]
    },
    {
      "cell_type": "code",
      "metadata": {
        "deletable": true,
        "editable": true,
        "id": "HuZCYG0eZWXk"
      },
      "source": [
        "ival = 17239871\n",
        "ival ** 6"
      ],
      "execution_count": null,
      "outputs": []
    },
    {
      "cell_type": "markdown",
      "metadata": {
        "id": "46GxBj8GNUwc"
      },
      "source": [
        "Floating-point numbers are represented with the Python float type.\n",
        "\n",
        "They can also be expressed with scientific notation."
      ]
    },
    {
      "cell_type": "code",
      "metadata": {
        "deletable": true,
        "editable": true,
        "id": "YhpsEcRdZWXk"
      },
      "source": [
        "fval = 7.243\n",
        "fval2 = 6.78e-5"
      ],
      "execution_count": null,
      "outputs": []
    },
    {
      "cell_type": "markdown",
      "metadata": {
        "deletable": true,
        "editable": true,
        "id": "RVtBQJ6lZWXl"
      },
      "source": [
        "### Strings"
      ]
    },
    {
      "cell_type": "code",
      "metadata": {
        "id": "YUzYSwDNNvXW"
      },
      "source": [
        "a = 'one way of writing a string'\n",
        "b = \"another way\""
      ],
      "execution_count": null,
      "outputs": []
    },
    {
      "cell_type": "code",
      "metadata": {
        "deletable": true,
        "editable": true,
        "id": "zi6XeVf5ZWXl"
      },
      "source": [
        "c = \"\"\"\n",
        "This is a longer string that\n",
        "spans multiple lines\n",
        "\"\"\""
      ],
      "execution_count": null,
      "outputs": []
    },
    {
      "cell_type": "code",
      "metadata": {
        "deletable": true,
        "editable": true,
        "id": "Nryyg-4bZWXl"
      },
      "source": [
        "c.count('\\n')"
      ],
      "execution_count": null,
      "outputs": []
    },
    {
      "cell_type": "code",
      "metadata": {
        "deletable": true,
        "editable": true,
        "id": "FYPchHacZWXl"
      },
      "source": [
        "a = 'this is a string'\n",
        "b = a.replace('string', 'longer string')\n",
        "b"
      ],
      "execution_count": null,
      "outputs": []
    },
    {
      "cell_type": "code",
      "metadata": {
        "deletable": true,
        "editable": true,
        "id": "Fr0kzVhKZWXl"
      },
      "source": [
        "a"
      ],
      "execution_count": null,
      "outputs": []
    },
    {
      "cell_type": "code",
      "metadata": {
        "deletable": true,
        "editable": true,
        "id": "4tKX1w_UZWXl"
      },
      "source": [
        "a = 5.6\n",
        "s = str(a)\n",
        "print(s)"
      ],
      "execution_count": null,
      "outputs": []
    },
    {
      "cell_type": "code",
      "metadata": {
        "deletable": true,
        "editable": true,
        "id": "2q7NA7gaZWXm"
      },
      "source": [
        "a = 'this is the first half '\n",
        "b = 'and this is the second half'\n",
        "a + b"
      ],
      "execution_count": null,
      "outputs": []
    },
    {
      "cell_type": "code",
      "metadata": {
        "id": "BVP1Hn5wqZkE"
      },
      "source": [
        "b = \"Hello, World!\"\n",
        "print(b[:5])"
      ],
      "execution_count": null,
      "outputs": []
    },
    {
      "cell_type": "markdown",
      "metadata": {
        "deletable": true,
        "editable": true,
        "id": "bpuiwYsAZWXn"
      },
      "source": [
        "### Booleans"
      ]
    },
    {
      "cell_type": "code",
      "metadata": {
        "deletable": true,
        "editable": true,
        "id": "U-L7_rm4ZWXn"
      },
      "source": [
        "True and True\n",
        "False or True"
      ],
      "execution_count": null,
      "outputs": []
    },
    {
      "cell_type": "markdown",
      "metadata": {
        "deletable": true,
        "editable": true,
        "id": "W2ejgn1wZWXn"
      },
      "source": [
        "### Type casting"
      ]
    },
    {
      "cell_type": "markdown",
      "metadata": {
        "id": "A0WU7tMCThFU"
      },
      "source": [
        "The str, bool, int, and float types are also functions that can be used to cast values to those types:"
      ]
    },
    {
      "cell_type": "code",
      "metadata": {
        "deletable": true,
        "editable": true,
        "id": "JQkxis3OZWXn"
      },
      "source": [
        "s = '3.14159'\n",
        "fval = float(s)\n",
        "type(fval)\n",
        "int(fval)\n",
        "bool(fval)\n",
        "bool(0)"
      ],
      "execution_count": null,
      "outputs": []
    },
    {
      "cell_type": "markdown",
      "metadata": {
        "deletable": true,
        "editable": true,
        "id": "3HCsRzxiZWXn"
      },
      "source": [
        "### None"
      ]
    },
    {
      "cell_type": "code",
      "metadata": {
        "deletable": true,
        "editable": true,
        "id": "dsOEmmB3ZWXn",
        "colab": {
          "base_uri": "https://localhost:8080/"
        },
        "outputId": "8a5997e9-10eb-494d-f09f-4356bc7fefa5"
      },
      "source": [
        "a = None\n",
        "a is None\n",
        "b = 5\n",
        "b is not None"
      ],
      "execution_count": 26,
      "outputs": [
        {
          "output_type": "execute_result",
          "data": {
            "text/plain": [
              "True"
            ]
          },
          "metadata": {
            "tags": []
          },
          "execution_count": 26
        }
      ]
    },
    {
      "cell_type": "markdown",
      "metadata": {
        "id": "y3aIeSNkngOd"
      },
      "source": [
        "## Exercise 2"
      ]
    },
    {
      "cell_type": "markdown",
      "metadata": {
        "id": "W5vBcOOeljSz"
      },
      "source": [
        "1. Complete the following code."
      ]
    },
    {
      "cell_type": "code",
      "metadata": {
        "id": "pQSIlnenm7fy"
      },
      "source": [
        "year = 2020\n",
        "month = 11\n",
        "day = 26\n",
        "date = month + day + year #display date in the format of \"MM/DD/YYYY\""
      ],
      "execution_count": null,
      "outputs": []
    },
    {
      "cell_type": "markdown",
      "metadata": {
        "id": "UrvfatEfo_xz"
      },
      "source": [
        "2. \n",
        "- Count the number of \"d\" in the str variable a\n",
        "- Replace all of \"d\" by \"e\".\n",
        "- Get last 5 characters of a."
      ]
    },
    {
      "cell_type": "code",
      "metadata": {
        "id": "6m6tm8wco_Lf"
      },
      "source": [
        "a = '''Lorem ipsum dolor sit amet,\n",
        "consectetur adipiscing elit,\n",
        "sed do eiusmod tempor incididunt\n",
        "ut labore et dolore magna aliqua.'''\n",
        "a1 = a\n",
        "a2 = a\n",
        "a3 = a"
      ],
      "execution_count": null,
      "outputs": []
    },
    {
      "cell_type": "markdown",
      "metadata": {
        "deletable": true,
        "editable": true,
        "id": "Z9OgLxKdZWXp"
      },
      "source": [
        "## Part 3. Control Flow"
      ]
    },
    {
      "cell_type": "markdown",
      "metadata": {
        "deletable": true,
        "editable": true,
        "id": "tN064sNFZWXp"
      },
      "source": [
        "### if, elif, and else"
      ]
    },
    {
      "cell_type": "markdown",
      "metadata": {
        "deletable": true,
        "editable": true,
        "id": "GmDIxYLDd2Hd"
      },
      "source": [
        "```python\n",
        "if x < 0:\n",
        "    print(\"It's negative\")\n",
        "```"
      ]
    },
    {
      "cell_type": "markdown",
      "metadata": {
        "deletable": true,
        "editable": true,
        "id": "cdauKImFZWXp"
      },
      "source": [
        "```python\n",
        "if x < 0:\n",
        "    print(\"It's negative\")\n",
        "else:\n",
        "    print(\"It's positive\")\n",
        "```"
      ]
    },
    {
      "cell_type": "markdown",
      "metadata": {
        "deletable": true,
        "editable": true,
        "id": "0f_cLf6jZWXp"
      },
      "source": [
        "```python\n",
        "if x < 0:\n",
        "    print(\"It's negative\")\n",
        "elif x == 0:\n",
        "    print(\"Equal to zero\")\n",
        "else:\n",
        "    print('Positive')\n",
        "```"
      ]
    },
    {
      "cell_type": "code",
      "metadata": {
        "deletable": true,
        "editable": true,
        "id": "h9SPfCd8ZWXp",
        "colab": {
          "base_uri": "https://localhost:8080/"
        },
        "outputId": "bff4d9ff-97ea-48f1-b75f-bc134a631b7e"
      },
      "source": [
        "a = 5; b = 7\n",
        "c = 8; d = 4\n",
        "if a < b or c > d:\n",
        "    print('Made it')"
      ],
      "execution_count": 38,
      "outputs": [
        {
          "output_type": "stream",
          "text": [
            "Made it\n"
          ],
          "name": "stdout"
        }
      ]
    },
    {
      "cell_type": "markdown",
      "metadata": {
        "deletable": true,
        "editable": true,
        "id": "GyUINGNhZWXp"
      },
      "source": [
        "### for loops"
      ]
    },
    {
      "cell_type": "markdown",
      "metadata": {
        "deletable": true,
        "editable": true,
        "id": "qJwM0FQ3ZWXp"
      },
      "source": [
        "```python\n",
        "\n",
        "for value in collection:\n",
        "    # do something with value\n",
        "\n",
        "```"
      ]
    },
    {
      "cell_type": "code",
      "metadata": {
        "colab": {
          "base_uri": "https://localhost:8080/"
        },
        "id": "fBkzVjeUflwe",
        "outputId": "9f87dc2c-707e-4556-9866-5121d11b87dc"
      },
      "source": [
        "sequence = [1, 2, None, 4, None, 5]\n",
        "total = 0\n",
        "for value in sequence:\n",
        "    if value is None:\n",
        "        continue\n",
        "    total += value\n",
        "total"
      ],
      "execution_count": 40,
      "outputs": [
        {
          "output_type": "execute_result",
          "data": {
            "text/plain": [
              "12"
            ]
          },
          "metadata": {
            "tags": []
          },
          "execution_count": 40
        }
      ]
    },
    {
      "cell_type": "code",
      "metadata": {
        "id": "GDOb-JDFgpSX"
      },
      "source": [
        "sequence = [1, 2, 0, 4, 6, 5, 2, 1]\n",
        "total_until_5 = 0\n",
        "for value in sequence:\n",
        "    if value == 5:\n",
        "        break\n",
        "    total_until_5 += value"
      ],
      "execution_count": null,
      "outputs": []
    },
    {
      "cell_type": "code",
      "metadata": {
        "deletable": true,
        "editable": true,
        "id": "CvfyA6lxZWXq"
      },
      "source": [
        "for i in range(4):\n",
        "    for j in range(4):\n",
        "        if j > i:\n",
        "            break\n",
        "        print((i, j))"
      ],
      "execution_count": null,
      "outputs": []
    },
    {
      "cell_type": "markdown",
      "metadata": {
        "deletable": true,
        "editable": true,
        "id": "e2GJTAOJZWXq"
      },
      "source": [
        "for a, b, c in iterator:\n",
        "    # do something"
      ]
    },
    {
      "cell_type": "markdown",
      "metadata": {
        "deletable": true,
        "editable": true,
        "id": "FPrFyR7sZWXq"
      },
      "source": [
        "### while loops"
      ]
    },
    {
      "cell_type": "code",
      "metadata": {
        "id": "ezwcrWUgiciC"
      },
      "source": [
        "x = 256\n",
        "total = 0\n",
        "while x > 0:\n",
        "    if total > 500:\n",
        "        break\n",
        "    total += x\n",
        "    x = x // 2"
      ],
      "execution_count": null,
      "outputs": []
    },
    {
      "cell_type": "markdown",
      "metadata": {
        "id": "6t2_OOMOj8T_"
      },
      "source": [
        "## Exercise 3\n"
      ]
    },
    {
      "cell_type": "markdown",
      "metadata": {
        "id": "mAIwVQjdrrZD"
      },
      "source": [
        "1. Read code and think about the output."
      ]
    },
    {
      "cell_type": "code",
      "metadata": {
        "id": "SPT7xwgkrwyA"
      },
      "source": [
        "x = 41\n",
        "\n",
        "if x > 10:\n",
        "  print(\"Above ten,\")\n",
        "  if x > 20:\n",
        "    print(\"and also above 20!\")\n",
        "  else:\n",
        "    print(\"but not above 20.\")\n"
      ],
      "execution_count": null,
      "outputs": []
    },
    {
      "cell_type": "markdown",
      "metadata": {
        "id": "eXgVExKJr31Q"
      },
      "source": [
        "2. Write a for loop to print all the fruits but \"banana\"."
      ]
    },
    {
      "cell_type": "code",
      "metadata": {
        "id": "B9Te8fcpsXYX"
      },
      "source": [
        "fruits = [\"apple\", \"banana\", \"cherry\"]"
      ],
      "execution_count": null,
      "outputs": []
    },
    {
      "cell_type": "markdown",
      "metadata": {
        "id": "v2sGGVXbsgyG"
      },
      "source": [
        "3. Exit the loop when i is 3:"
      ]
    },
    {
      "cell_type": "code",
      "metadata": {
        "id": "uSTF8tcEs5Vp"
      },
      "source": [
        "i = 1\n",
        "while i < 6:\n",
        "  print(i)\n",
        "  if i == 3:\n",
        "    break\n",
        "  i += 1"
      ],
      "execution_count": null,
      "outputs": []
    },
    {
      "cell_type": "markdown",
      "metadata": {
        "id": "de9FCj-ttDa9"
      },
      "source": [
        "## Part 4. Data Structures and Sequences"
      ]
    },
    {
      "cell_type": "markdown",
      "metadata": {
        "deletable": true,
        "editable": true,
        "id": "vSeoyCPavX3-"
      },
      "source": [
        "### Tuple"
      ]
    },
    {
      "cell_type": "markdown",
      "metadata": {
        "id": "1csAKSC9zopy"
      },
      "source": [
        "A tuple is a fixed-length, immutable sequence of Python objects. The easiest way to create one is with a comma-separated sequence of values:"
      ]
    },
    {
      "cell_type": "code",
      "metadata": {
        "deletable": true,
        "editable": true,
        "id": "EGBIR1fevX3-",
        "colab": {
          "base_uri": "https://localhost:8080/"
        },
        "outputId": "9dfe6feb-3033-4209-8403-2cd9d0a88cb1"
      },
      "source": [
        "tup = 4, 5, 6\n",
        "tup"
      ],
      "execution_count": 48,
      "outputs": [
        {
          "output_type": "execute_result",
          "data": {
            "text/plain": [
              "(4, 5, 6)"
            ]
          },
          "metadata": {
            "tags": []
          },
          "execution_count": 48
        }
      ]
    },
    {
      "cell_type": "code",
      "metadata": {
        "deletable": true,
        "editable": true,
        "id": "4NiDkIN6vX3_"
      },
      "source": [
        "nested_tup = (4, 5, 6), (7, 8)\n",
        "nested_tup"
      ],
      "execution_count": null,
      "outputs": []
    },
    {
      "cell_type": "code",
      "metadata": {
        "deletable": true,
        "editable": true,
        "id": "bvVThZw0vX3_"
      },
      "source": [
        "tuple([4, 0, 2])\n",
        "tup = tuple('string')\n",
        "tup"
      ],
      "execution_count": null,
      "outputs": []
    },
    {
      "cell_type": "code",
      "metadata": {
        "deletable": true,
        "editable": true,
        "id": "FUs65DWpvX3_"
      },
      "source": [
        "tup[0]"
      ],
      "execution_count": null,
      "outputs": []
    },
    {
      "cell_type": "code",
      "metadata": {
        "deletable": true,
        "editable": true,
        "id": "LdO0kcAwvX3_"
      },
      "source": [
        "tup = tuple(['foo', [1, 2], True])\n",
        "tup[2] = False"
      ],
      "execution_count": null,
      "outputs": []
    },
    {
      "cell_type": "code",
      "metadata": {
        "deletable": true,
        "editable": true,
        "id": "d5IM-18MvX4A"
      },
      "source": [
        "(4, None, 'foo') + (6, 0) + ('bar',)"
      ],
      "execution_count": null,
      "outputs": []
    },
    {
      "cell_type": "code",
      "metadata": {
        "deletable": true,
        "editable": true,
        "id": "n7LPs-B5vX4A"
      },
      "source": [
        "('foo', 'bar') * 4"
      ],
      "execution_count": null,
      "outputs": []
    },
    {
      "cell_type": "markdown",
      "metadata": {
        "deletable": true,
        "editable": true,
        "id": "19yYrmD5vX4A"
      },
      "source": [
        "#### Unpacking tuples"
      ]
    },
    {
      "cell_type": "code",
      "metadata": {
        "deletable": true,
        "editable": true,
        "id": "9x-k3f4IvX4A",
        "colab": {
          "base_uri": "https://localhost:8080/"
        },
        "outputId": "ea72e223-1dae-4df5-97d6-1da2c5ea9943"
      },
      "source": [
        "tup = (4, 5, 6)\n",
        "a, b, c = tup\n",
        "b"
      ],
      "execution_count": 49,
      "outputs": [
        {
          "output_type": "execute_result",
          "data": {
            "text/plain": [
              "5"
            ]
          },
          "metadata": {
            "tags": []
          },
          "execution_count": 49
        }
      ]
    },
    {
      "cell_type": "code",
      "metadata": {
        "deletable": true,
        "editable": true,
        "id": "nQvrXqUGvX4B"
      },
      "source": [
        "tup = 4, 5, (6, 7)\n",
        "a, b, (c, d) = tup\n",
        "d"
      ],
      "execution_count": null,
      "outputs": []
    },
    {
      "cell_type": "code",
      "metadata": {
        "deletable": true,
        "editable": true,
        "id": "w43llKFfvX4B"
      },
      "source": [
        "seq = [(1, 2, 3), (4, 5, 6), (7, 8, 9)]\n",
        "for a, b, c in seq:\n",
        "    print('a={0}, b={1}, c={2}'.format(a, b, c))"
      ],
      "execution_count": null,
      "outputs": []
    },
    {
      "cell_type": "code",
      "metadata": {
        "deletable": true,
        "editable": true,
        "id": "MPeilplKvX4B"
      },
      "source": [
        "values = 1, 2, 3, 4, 5\n",
        "a, b, *rest = values\n",
        "a, b\n",
        "rest"
      ],
      "execution_count": null,
      "outputs": []
    },
    {
      "cell_type": "code",
      "metadata": {
        "deletable": true,
        "editable": true,
        "id": "L_XjTk-avX4C"
      },
      "source": [
        "a, b, *_ = values"
      ],
      "execution_count": null,
      "outputs": []
    },
    {
      "cell_type": "markdown",
      "metadata": {
        "deletable": true,
        "editable": true,
        "id": "Gitf3sEIvX4C"
      },
      "source": [
        "#### Tuple methods"
      ]
    },
    {
      "cell_type": "markdown",
      "metadata": {
        "deletable": true,
        "editable": true,
        "id": "S-BnuGu0vX4C"
      },
      "source": [
        "### List"
      ]
    },
    {
      "cell_type": "markdown",
      "metadata": {
        "id": "fuuDmG9x9ZtQ"
      },
      "source": [
        "Lists are variable-length and their contents can be modified"
      ]
    },
    {
      "cell_type": "code",
      "metadata": {
        "deletable": true,
        "editable": true,
        "id": "ToHyBtZ6vX4C"
      },
      "source": [
        "a_list = [2, 3, 7, None]\n",
        "tup = ('foo', 'bar', 'baz')\n",
        "b_list = list(tup)\n",
        "b_list\n",
        "b_list[1] = 'peekaboo'\n",
        "b_list"
      ],
      "execution_count": null,
      "outputs": []
    },
    {
      "cell_type": "code",
      "metadata": {
        "deletable": true,
        "editable": true,
        "id": "BT_GlrWxvX4C"
      },
      "source": [
        "gen = range(10)\n",
        "gen\n",
        "list(gen)"
      ],
      "execution_count": null,
      "outputs": []
    },
    {
      "cell_type": "markdown",
      "metadata": {
        "deletable": true,
        "editable": true,
        "id": "LE_G1SQyvX4C"
      },
      "source": [
        "#### Adding and removing elements"
      ]
    },
    {
      "cell_type": "code",
      "metadata": {
        "deletable": true,
        "editable": true,
        "id": "89JNAU21vX4D"
      },
      "source": [
        "b_list.append('dwarf')\n",
        "b_list"
      ],
      "execution_count": null,
      "outputs": []
    },
    {
      "cell_type": "code",
      "metadata": {
        "deletable": true,
        "editable": true,
        "id": "DD2wgTrLvX4D"
      },
      "source": [
        "b_list.insert(1, 'red')\n",
        "b_list"
      ],
      "execution_count": null,
      "outputs": []
    },
    {
      "cell_type": "code",
      "metadata": {
        "deletable": true,
        "editable": true,
        "id": "s23LHjB-vX4D"
      },
      "source": [
        "b_list.pop(2)\n",
        "b_list"
      ],
      "execution_count": null,
      "outputs": []
    },
    {
      "cell_type": "code",
      "metadata": {
        "deletable": true,
        "editable": true,
        "id": "Uw8A9nVnvX4D"
      },
      "source": [
        "b_list.append('foo')\n",
        "b_list\n",
        "b_list.remove('foo')\n",
        "b_list"
      ],
      "execution_count": null,
      "outputs": []
    },
    {
      "cell_type": "code",
      "metadata": {
        "deletable": true,
        "editable": true,
        "id": "VWq6vWdgvX4D"
      },
      "source": [
        "'dwarf' in b_list"
      ],
      "execution_count": null,
      "outputs": []
    },
    {
      "cell_type": "code",
      "metadata": {
        "deletable": true,
        "editable": true,
        "id": "-Q3Fxee5vX4D"
      },
      "source": [
        "'dwarf' not in b_list"
      ],
      "execution_count": null,
      "outputs": []
    },
    {
      "cell_type": "markdown",
      "metadata": {
        "deletable": true,
        "editable": true,
        "id": "5X0wR2grvX4D"
      },
      "source": [
        "#### Concatenating and combining lists"
      ]
    },
    {
      "cell_type": "code",
      "metadata": {
        "deletable": true,
        "editable": true,
        "id": "3SXBiEmOvX4E"
      },
      "source": [
        "[4, None, 'foo'] + [7, 8, (2, 3)]"
      ],
      "execution_count": null,
      "outputs": []
    },
    {
      "cell_type": "code",
      "metadata": {
        "deletable": true,
        "editable": true,
        "id": "SZFd-ZbNvX4E"
      },
      "source": [
        "x = [4, None, 'foo']\n",
        "x.extend([7, 8, (2, 3)])\n",
        "x"
      ],
      "execution_count": null,
      "outputs": []
    },
    {
      "cell_type": "markdown",
      "metadata": {
        "deletable": true,
        "editable": true,
        "id": "d_QbeVvuvX4E"
      },
      "source": [
        "everything = []\n",
        "for chunk in list_of_lists:\n",
        "    everything.extend(chunk)"
      ]
    },
    {
      "cell_type": "markdown",
      "metadata": {
        "deletable": true,
        "editable": true,
        "id": "dlBJB2iPvX4E"
      },
      "source": [
        "everything = []\n",
        "for chunk in list_of_lists:\n",
        "    everything = everything + chunk"
      ]
    },
    {
      "cell_type": "markdown",
      "metadata": {
        "deletable": true,
        "editable": true,
        "id": "geZ5OSo1vX4E"
      },
      "source": [
        "#### Sorting"
      ]
    },
    {
      "cell_type": "code",
      "metadata": {
        "deletable": true,
        "editable": true,
        "id": "0znOnG7yvX4E"
      },
      "source": [
        "a = [7, 2, 5, 1, 3]\n",
        "a.sort()\n",
        "a"
      ],
      "execution_count": null,
      "outputs": []
    },
    {
      "cell_type": "code",
      "metadata": {
        "deletable": true,
        "editable": true,
        "id": "UjwNrcZEvX4E"
      },
      "source": [
        "b = ['saw', 'small', 'He', 'foxes', 'six']\n",
        "b.sort(key=len)\n",
        "b"
      ],
      "execution_count": null,
      "outputs": []
    },
    {
      "cell_type": "markdown",
      "metadata": {
        "deletable": true,
        "editable": true,
        "id": "l09Gwce9vX4F"
      },
      "source": [
        "#### Slicing"
      ]
    },
    {
      "cell_type": "code",
      "metadata": {
        "deletable": true,
        "editable": true,
        "id": "l9bkOBoXvX4F",
        "colab": {
          "base_uri": "https://localhost:8080/"
        },
        "outputId": "77ee4292-1b10-44cc-bd1a-854fe0800ff6"
      },
      "source": [
        "seq = [7, 2, 3, 7, 5, 6, 0, 1]\n",
        "seq[1:5]"
      ],
      "execution_count": 54,
      "outputs": [
        {
          "output_type": "execute_result",
          "data": {
            "text/plain": [
              "[2, 3, 7, 5]"
            ]
          },
          "metadata": {
            "tags": []
          },
          "execution_count": 54
        }
      ]
    },
    {
      "cell_type": "code",
      "metadata": {
        "deletable": true,
        "editable": true,
        "id": "9TsKwCVFvX4F"
      },
      "source": [
        "seq[3:4] = [6, 3]\n",
        "seq"
      ],
      "execution_count": null,
      "outputs": []
    },
    {
      "cell_type": "code",
      "metadata": {
        "deletable": true,
        "editable": true,
        "id": "cBO89IHzvX4F"
      },
      "source": [
        "seq[:5]\n"
      ],
      "execution_count": null,
      "outputs": []
    },
    {
      "cell_type": "code",
      "metadata": {
        "id": "utj6RUDc-ee4"
      },
      "source": [
        "seq[3:]"
      ],
      "execution_count": null,
      "outputs": []
    },
    {
      "cell_type": "code",
      "metadata": {
        "deletable": true,
        "editable": true,
        "id": "-LqEZ4hQvX4F"
      },
      "source": [
        "seq[-4:]"
      ],
      "execution_count": null,
      "outputs": []
    },
    {
      "cell_type": "markdown",
      "metadata": {
        "deletable": true,
        "editable": true,
        "id": "K5zxOruxvX4G"
      },
      "source": [
        "### Built-in Sequence Functions"
      ]
    },
    {
      "cell_type": "markdown",
      "metadata": {
        "deletable": true,
        "editable": true,
        "id": "8WkGyiVFvX4G"
      },
      "source": [
        "#### enumerate"
      ]
    },
    {
      "cell_type": "markdown",
      "metadata": {
        "deletable": true,
        "editable": true,
        "id": "cXQjO_v6vX4G"
      },
      "source": [
        "\n",
        "```python\n",
        "i = 0\n",
        "for value in collection:\n",
        "   # do something with value\n",
        "   i += 1\n",
        "```"
      ]
    },
    {
      "cell_type": "markdown",
      "metadata": {
        "deletable": true,
        "editable": true,
        "id": "zvbrpIBFvX4G"
      },
      "source": [
        "```python\n",
        "for i, value in enumerate(collection):\n",
        "   # do something with value\n",
        "```"
      ]
    },
    {
      "cell_type": "code",
      "metadata": {
        "deletable": true,
        "editable": true,
        "id": "qO1eqeMIvX4G"
      },
      "source": [
        "some_list = ['foo', 'bar', 'baz']\n",
        "mapping = {}\n",
        "for i, v in enumerate(some_list):\n",
        "    mapping[v] = i\n",
        "mapping"
      ],
      "execution_count": null,
      "outputs": []
    },
    {
      "cell_type": "markdown",
      "metadata": {
        "deletable": true,
        "editable": true,
        "id": "cJ6P9El0vX4G"
      },
      "source": [
        "#### sorted"
      ]
    },
    {
      "cell_type": "code",
      "metadata": {
        "deletable": true,
        "editable": true,
        "id": "dU-0fE5ovX4H"
      },
      "source": [
        "sorted([7, 1, 2, 6, 0, 3, 2])\n",
        "sorted('horse race')"
      ],
      "execution_count": null,
      "outputs": []
    },
    {
      "cell_type": "markdown",
      "metadata": {
        "deletable": true,
        "editable": true,
        "id": "i2HsjxXxvX4H"
      },
      "source": [
        "#### zip"
      ]
    },
    {
      "cell_type": "code",
      "metadata": {
        "deletable": true,
        "editable": true,
        "id": "GbNgDb1KvX4H"
      },
      "source": [
        "seq1 = ['foo', 'bar', 'baz']\n",
        "seq2 = ['one', 'two', 'three']\n",
        "zipped = zip(seq1, seq2)\n",
        "list(zipped)"
      ],
      "execution_count": null,
      "outputs": []
    },
    {
      "cell_type": "code",
      "metadata": {
        "deletable": true,
        "editable": true,
        "id": "pdBe82HsvX4H"
      },
      "source": [
        "seq3 = [False, True]\n",
        "list(zip(seq1, seq2, seq3))"
      ],
      "execution_count": null,
      "outputs": []
    },
    {
      "cell_type": "code",
      "metadata": {
        "deletable": true,
        "editable": true,
        "id": "mOER9lEgvX4H"
      },
      "source": [
        "for i, (a, b) in enumerate(zip(seq1, seq2)):\n",
        "    print('{0}: {1}, {2}'.format(i, a, b))"
      ],
      "execution_count": null,
      "outputs": []
    },
    {
      "cell_type": "code",
      "metadata": {
        "deletable": true,
        "editable": true,
        "id": "PF3J9yxxvX4H"
      },
      "source": [
        "pitchers = [('Nolan', 'Ryan'), ('Roger', 'Clemens'),\n",
        "            ('Schilling', 'Curt')]\n",
        "first_names, last_names = zip(*pitchers)\n",
        "first_names\n",
        "last_names"
      ],
      "execution_count": null,
      "outputs": []
    },
    {
      "cell_type": "markdown",
      "metadata": {
        "deletable": true,
        "editable": true,
        "id": "2uEe38ERvX4H"
      },
      "source": [
        "#### reversed"
      ]
    },
    {
      "cell_type": "code",
      "metadata": {
        "deletable": true,
        "editable": true,
        "id": "BFF1Y49QvX4H"
      },
      "source": [
        "list(reversed(range(10)))"
      ],
      "execution_count": null,
      "outputs": []
    },
    {
      "cell_type": "code",
      "metadata": {
        "id": "B99dOLYU-gMw"
      },
      "source": [
        "seq[-6:-2]"
      ],
      "execution_count": null,
      "outputs": []
    },
    {
      "cell_type": "code",
      "metadata": {
        "deletable": true,
        "editable": true,
        "id": "pC1vheZsvX4F",
        "colab": {
          "base_uri": "https://localhost:8080/"
        },
        "outputId": "1f366eb7-b211-4e52-a4f6-7c480a514a6c"
      },
      "source": [
        "seq[::2]"
      ],
      "execution_count": 56,
      "outputs": [
        {
          "output_type": "execute_result",
          "data": {
            "text/plain": [
              "[7, 3, 5, 0]"
            ]
          },
          "metadata": {
            "tags": []
          },
          "execution_count": 56
        }
      ]
    },
    {
      "cell_type": "code",
      "metadata": {
        "deletable": true,
        "editable": true,
        "id": "lZ-bEqbVvX4G",
        "colab": {
          "base_uri": "https://localhost:8080/"
        },
        "outputId": "7440cdaf-ffcc-4d75-cdba-571cbcf5fba9"
      },
      "source": [
        "seq[::-1]"
      ],
      "execution_count": 55,
      "outputs": [
        {
          "output_type": "execute_result",
          "data": {
            "text/plain": [
              "[1, 0, 6, 5, 7, 3, 2, 7]"
            ]
          },
          "metadata": {
            "tags": []
          },
          "execution_count": 55
        }
      ]
    },
    {
      "cell_type": "code",
      "metadata": {
        "deletable": true,
        "editable": true,
        "id": "rOUXpmT8vX4C"
      },
      "source": [
        "a = (1, 2, 2, 2, 3, 4, 2)\n",
        "a.count(2)"
      ],
      "execution_count": null,
      "outputs": []
    }
  ]
}