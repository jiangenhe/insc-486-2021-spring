{
  "nbformat": 4,
  "nbformat_minor": 0,
  "metadata": {
    "colab": {
      "name": "INSC486-Lab-10.ipynb",
      "provenance": [],
      "authorship_tag": "ABX9TyPEW5ZX8ZTndfiSg7GLcZKE",
      "include_colab_link": true
    },
    "kernelspec": {
      "name": "python3",
      "display_name": "Python 3"
    },
    "language_info": {
      "name": "python"
    }
  },
  "cells": [
    {
      "cell_type": "markdown",
      "metadata": {
        "id": "view-in-github",
        "colab_type": "text"
      },
      "source": [
        "<a href=\"https://colab.research.google.com/github/jiangenhe/insc-486-2021-spring/blob/main/week10/INSC486_Lab_10.ipynb\" target=\"_parent\"><img src=\"https://colab.research.google.com/assets/colab-badge.svg\" alt=\"Open In Colab\"/></a>"
      ]
    },
    {
      "cell_type": "markdown",
      "metadata": {
        "id": "VijLSn5pjNCk"
      },
      "source": [
        "# INSC 486 - Lab 10"
      ]
    },
    {
      "cell_type": "markdown",
      "metadata": {
        "id": "1e3lNteBjddJ"
      },
      "source": [
        "## 0. Load data"
      ]
    },
    {
      "cell_type": "code",
      "metadata": {
        "id": "paQXOcOZjINw"
      },
      "source": [
        "import matplotlib.pyplot as plt\n",
        "import seaborn as sns\n",
        "import pandas as pd\n",
        "import statsmodels.api as sm\n",
        "import numpy as np\n",
        "\n",
        "url = \"https://raw.githubusercontent.com/kshedden/statswpy/master/NHANES/merged/nhanes_2015_2016.csv\"\n",
        "da = pd.read_csv(url)\n",
        "\n",
        "# Drop unused columns, drop rows with any missing values.\n",
        "vars = [\"BPXSY1\", \"RIDAGEYR\", \"RIAGENDR\", \"RIDRETH1\", \"DMDEDUC2\", \"BMXBMI\", \"SMQ020\"]\n",
        "da = da[vars].dropna()"
      ],
      "execution_count": null,
      "outputs": []
    },
    {
      "cell_type": "markdown",
      "metadata": {
        "id": "h5Q-ATbAqpLa"
      },
      "source": [
        "## 1. Generate a binary variable reflecting whether a person has had at least 12 drinks in their lifetime, based on the ALQ110 variable in NHANES. "
      ]
    },
    {
      "cell_type": "code",
      "metadata": {
        "id": "RSFHy1bqqpuk"
      },
      "source": [
        ""
      ],
      "execution_count": null,
      "outputs": []
    },
    {
      "cell_type": "markdown",
      "metadata": {
        "id": "7FNDIRVyjgj_"
      },
      "source": [
        "## 2. Use logistic regression to relate drinking to age, gender (RIAGENDR), and education (DMDEDUC2)."
      ]
    },
    {
      "cell_type": "code",
      "metadata": {
        "id": "LyhKEPX-kDbq"
      },
      "source": [
        "# code for your logistic model\n"
      ],
      "execution_count": null,
      "outputs": []
    },
    {
      "cell_type": "markdown",
      "metadata": {
        "id": "nJXXd0xjj1kb"
      },
      "source": [
        "## 3. Interpret the result of your logistic model\n"
      ]
    },
    {
      "cell_type": "markdown",
      "metadata": {
        "id": "2nr5lFZAkRGR"
      },
      "source": [
        ""
      ]
    },
    {
      "cell_type": "markdown",
      "metadata": {
        "id": "y-8BF3_tkBVV"
      },
      "source": [
        "## 4. Create a visualization of the fitted model for the relationship between drinking and age."
      ]
    },
    {
      "cell_type": "code",
      "metadata": {
        "id": "UBsTTRHXq7yw"
      },
      "source": [
        ""
      ],
      "execution_count": null,
      "outputs": []
    }
  ]
}