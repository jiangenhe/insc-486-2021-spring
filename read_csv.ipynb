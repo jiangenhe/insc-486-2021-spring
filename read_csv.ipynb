{
  "nbformat": 4,
  "nbformat_minor": 0,
  "metadata": {
    "colab": {
      "name": "read-csv.ipynb",
      "provenance": [],
      "collapsed_sections": [],
      "toc_visible": true,
      "mount_file_id": "1I70-cNU_iml7kNBILoDkCmhI1ddd7aeu",
      "authorship_tag": "ABX9TyPxyTfZpyH8f/muQ2MXH4//",
      "include_colab_link": true
    },
    "kernelspec": {
      "name": "python3",
      "display_name": "Python 3"
    }
  },
  "cells": [
    {
      "cell_type": "markdown",
      "metadata": {
        "id": "view-in-github",
        "colab_type": "text"
      },
      "source": [
        "<a href=\"https://colab.research.google.com/github/jiangenhe/insc-486-2021-spring/blob/main/read_csv.ipynb\" target=\"_parent\"><img src=\"https://colab.research.google.com/assets/colab-badge.svg\" alt=\"Open In Colab\"/></a>"
      ]
    },
    {
      "cell_type": "code",
      "metadata": {
        "id": "pPJYT_tmJjWW"
      },
      "source": [
        ""
      ],
      "execution_count": null,
      "outputs": []
    },
    {
      "cell_type": "markdown",
      "metadata": {
        "id": "doiFHt0-5_3_"
      },
      "source": [
        "# Read csv File"
      ]
    },
    {
      "cell_type": "markdown",
      "metadata": {
        "id": "i-c5tftH77Ka"
      },
      "source": [
        "## import csv"
      ]
    },
    {
      "cell_type": "code",
      "metadata": {
        "id": "JI8K56D6zwS9"
      },
      "source": [
        ""
      ],
      "execution_count": null,
      "outputs": []
    },
    {
      "cell_type": "markdown",
      "metadata": {
        "id": "RoPRuqQn9gVR"
      },
      "source": [
        "## Average MPG"
      ]
    },
    {
      "cell_type": "code",
      "metadata": {
        "id": "fPNmDcH1C9hs"
      },
      "source": [
        ""
      ],
      "execution_count": 3,
      "outputs": []
    },
    {
      "cell_type": "markdown",
      "metadata": {
        "id": "YFmGmmQXFzsH"
      },
      "source": [
        "## The numbers of cylinders"
      ]
    },
    {
      "cell_type": "code",
      "metadata": {
        "id": "11yTZQ09F5_i"
      },
      "source": [
        ""
      ],
      "execution_count": null,
      "outputs": []
    },
    {
      "cell_type": "markdown",
      "metadata": {
        "id": "kju0gKj8F9pJ"
      },
      "source": [
        "## Aggregated data"
      ]
    },
    {
      "cell_type": "markdown",
      "metadata": {
        "id": "wQqnVmyhIPr8"
      },
      "source": [
        "Average city mpg for each number of cylinders"
      ]
    },
    {
      "cell_type": "code",
      "metadata": {
        "id": "XpGL82Z4IMA_"
      },
      "source": [
        ""
      ],
      "execution_count": null,
      "outputs": []
    },
    {
      "cell_type": "markdown",
      "metadata": {
        "id": "k2ZdV9ocIoHS"
      },
      "source": [
        "Average number of cylinders of the cars made by each manufacturer"
      ]
    },
    {
      "cell_type": "code",
      "metadata": {
        "id": "bUIyK_GVJkry"
      },
      "source": [
        ""
      ],
      "execution_count": null,
      "outputs": []
    },
    {
      "cell_type": "markdown",
      "metadata": {
        "id": "WZNm5kyFJlxS"
      },
      "source": [
        "## Exercise 5\n",
        " Find the average hwy mpg for each class of vehicle in mpg.csv dataset."
      ]
    },
    {
      "cell_type": "code",
      "metadata": {
        "id": "_tykwhxXJzOc"
      },
      "source": [
        ""
      ],
      "execution_count": null,
      "outputs": []
    }
  ]
}