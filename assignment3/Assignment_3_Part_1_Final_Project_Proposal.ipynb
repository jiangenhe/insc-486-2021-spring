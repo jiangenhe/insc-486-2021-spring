{
  "nbformat": 4,
  "nbformat_minor": 0,
  "metadata": {
    "colab": {
      "name": "Assignment 3 - Part 1 - Final Project Proposal.ipynb",
      "provenance": [],
      "collapsed_sections": [],
      "authorship_tag": "ABX9TyM4AT9+xrSSIkQBHyweaZMo",
      "include_colab_link": true
    },
    "kernelspec": {
      "name": "python3",
      "display_name": "Python 3"
    }
  },
  "cells": [
    {
      "cell_type": "markdown",
      "metadata": {
        "id": "view-in-github",
        "colab_type": "text"
      },
      "source": [
        "<a href=\"https://colab.research.google.com/github/jiangenhe/insc-486-2021-spring/blob/main/assignment3/Assignment_3_Part_1_Final_Project_Proposal.ipynb\" target=\"_parent\"><img src=\"https://colab.research.google.com/assets/colab-badge.svg\" alt=\"Open In Colab\"/></a>"
      ]
    },
    {
      "cell_type": "markdown",
      "metadata": {
        "id": "912N2NIP5uEA"
      },
      "source": [
        "# Assignment 3 - Part 1: Final Project Proposal"
      ]
    },
    {
      "cell_type": "markdown",
      "metadata": {
        "id": "EY7wGToTBK6P"
      },
      "source": [
        "- Due: March 12, Friday, 11:59 pm\n",
        "- This the first part of Assignment 3. You will propose your project dataset and questions for your final project.\n",
        "- Submit your Colab link or .ipynb file through Canvas\n",
        "- This assignment is worth 50 points that accounts for 5% of your final grade.\n",
        "- **Read [final project instruction](https://github.com/jiangenhe/insc-486-2021-spring/blob/main/final_project/final-project-instruction.md) first** \n"
      ]
    },
    {
      "cell_type": "markdown",
      "metadata": {
        "id": "sEjJCriB7ZJd"
      },
      "source": [
        "## 1. Proposed project title"
      ]
    },
    {
      "cell_type": "markdown",
      "metadata": {
        "id": "0ETR2vwECsYG"
      },
      "source": [
        "## 2. Overview\n",
        "\n",
        "A few sentences that describe the problem your analysis will tackl, the background of the problem, and your motivation."
      ]
    },
    {
      "cell_type": "markdown",
      "metadata": {
        "id": "TdiptLEaMpHj"
      },
      "source": [
        "## 3. Description of the data\n",
        "You can choose any public open dataset. You may find one of these resources useful:\n",
        "\n",
        "* [Kaggle Datasets](https://www.kaggle.com/datasets)\n",
        "* [Goolge Dataset Search](https://datasetsearch.research.google.com)\n",
        "* [Data is Plural](https://tinyletter.com/data-is-plural/letters/data-is-plural-2021-03-03-edition)\n",
        "* [UCI Machine Learning Repository](https://archive.ics.uci.edu/ml/index.php)\n",
        "\n",
        "The dataset should be complex and challenging enough to an interesting final project.\n",
        "\n",
        "To ensure everyone has different project dataset, please **list your dataset on this Canvas page** : https://utk.instructure.com/courses/121274/pages/dataset-selection?module_item_id=1821250"
      ]
    },
    {
      "cell_type": "markdown",
      "metadata": {
        "id": "w77V7Am9ST-T"
      },
      "source": [
        "## 4. Initial questions\n",
        "List several questions you aim to answer. You may revise or/and add questions after you learned about Statistical Analysis and Machine Learning.\n",
        "\n"
      ]
    }
  ]
}