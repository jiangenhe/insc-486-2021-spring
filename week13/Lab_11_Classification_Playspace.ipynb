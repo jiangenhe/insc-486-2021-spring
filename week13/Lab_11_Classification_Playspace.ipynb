{
  "nbformat": 4,
  "nbformat_minor": 0,
  "metadata": {
    "colab": {
      "name": "Lab 11: Classification Playspace.ipynb",
      "provenance": [],
      "authorship_tag": "ABX9TyNqRIg5besqlWeotPYVrugw",
      "include_colab_link": true
    },
    "kernelspec": {
      "name": "python3",
      "display_name": "Python 3"
    },
    "language_info": {
      "name": "python"
    }
  },
  "cells": [
    {
      "cell_type": "markdown",
      "metadata": {
        "id": "view-in-github",
        "colab_type": "text"
      },
      "source": [
        "<a href=\"https://colab.research.google.com/github/jiangenhe/insc-486-2021-spring/blob/main/week13/Lab_11_Classification_Playspace.ipynb\" target=\"_parent\"><img src=\"https://colab.research.google.com/assets/colab-badge.svg\" alt=\"Open In Colab\"/></a>"
      ]
    },
    {
      "cell_type": "markdown",
      "metadata": {
        "id": "TuKithfAwANL"
      },
      "source": [
        "# Assignment 6 Part 1: Classification Playspace\n",
        "\n",
        "This lab is worth 50 points and accounts for 5% of your final grade."
      ]
    },
    {
      "cell_type": "markdown",
      "metadata": {
        "id": "4IJZeCLIoaVd"
      },
      "source": [
        "In this lab, you will build classifiers to classify an iris species as either (virginica, setosa, or versicolor) for the iris flower dataset. You will use different machine learning algorithm to build the classifiers."
      ]
    },
    {
      "cell_type": "markdown",
      "metadata": {
        "id": "oftnB-oOpesk"
      },
      "source": [
        "## 0. Load Data"
      ]
    },
    {
      "cell_type": "code",
      "metadata": {
        "id": "rvlM9euBn85j"
      },
      "source": [
        "import seaborn as sns\n",
        "iris = sns.load_dataset(\"iris\")\n",
        "\n",
        "# X = feature values, all the columns except the last column\n",
        "X = iris.iloc[:, :-1]\n",
        "\n",
        "# y = target values, last column of the data frame\n",
        "y = iris.iloc[:, -1]"
      ],
      "execution_count": null,
      "outputs": []
    },
    {
      "cell_type": "markdown",
      "metadata": {
        "id": "bA70Sl8Mrbar"
      },
      "source": [
        "## 1. Build a Basic Understanding of the dataset\n",
        "\n",
        "Use head(), describe() and any other pandas features to explore the dataset."
      ]
    },
    {
      "cell_type": "code",
      "metadata": {
        "id": "qivOFPALr9J4"
      },
      "source": [
        ""
      ],
      "execution_count": null,
      "outputs": []
    },
    {
      "cell_type": "markdown",
      "metadata": {
        "id": "BG80-gyCrf3w"
      },
      "source": [
        "## 2. Visualize the Dataset\n",
        "Read the code and run it. You don't need to make any change."
      ]
    },
    {
      "cell_type": "code",
      "metadata": {
        "id": "CVY0m-JjsT6Q"
      },
      "source": [
        "import matplotlib.pyplot as plt\n",
        "\n",
        "plt.xlabel('Features')\n",
        "plt.ylabel('Species')\n",
        "\n",
        "pltX = iris.loc[:, 'sepal_length']\n",
        "pltY = iris.loc[:,'species']\n",
        "plt.scatter(pltX, pltY, color='blue', label='sepal_length')\n",
        "\n",
        "pltX = iris.loc[:, 'sepal_width']\n",
        "pltY = iris.loc[:,'species']\n",
        "plt.scatter(pltX, pltY, color='green', label='sepal_width')\n",
        "\n",
        "pltX = iris.loc[:, 'petal_length']\n",
        "pltY = iris.loc[:,'species']\n",
        "plt.scatter(pltX, pltY, color='red', label='petal_length')\n",
        "\n",
        "pltX = iris.loc[:, 'petal_width']\n",
        "pltY = iris.loc[:,'species']\n",
        "plt.scatter(pltX, pltY, color='black', label='petal_width')\n",
        "\n",
        "plt.legend(loc=4, prop={'size':8})\n",
        "plt.show()\n"
      ],
      "execution_count": null,
      "outputs": []
    },
    {
      "cell_type": "markdown",
      "metadata": {
        "id": "nBh1We45u88-"
      },
      "source": [
        "**For question 3 - 6, you are feel to set hyperparameters that you think is reasonable.**"
      ]
    },
    {
      "cell_type": "markdown",
      "metadata": {
        "id": "HT_b-HSGtGrK"
      },
      "source": [
        "## 3. Use kNN to build a classifier, including train/test data split, fit, and evaluation."
      ]
    },
    {
      "cell_type": "code",
      "metadata": {
        "id": "5nOziStQtqIO"
      },
      "source": [
        ""
      ],
      "execution_count": null,
      "outputs": []
    },
    {
      "cell_type": "markdown",
      "metadata": {
        "id": "g5R0t29rt2p8"
      },
      "source": [
        "## 4. Use logistic model to build a classifier, including train/test data split, fit, and evaluation."
      ]
    },
    {
      "cell_type": "code",
      "metadata": {
        "id": "qjwSGi2St-L5"
      },
      "source": [
        ""
      ],
      "execution_count": null,
      "outputs": []
    },
    {
      "cell_type": "markdown",
      "metadata": {
        "id": "XRn32_H4t_pZ"
      },
      "source": [
        "## 5. Use SVM to build a classifier, including train/test data split, fit, and evaluation."
      ]
    },
    {
      "cell_type": "code",
      "metadata": {
        "id": "3wemFEkeuWOx"
      },
      "source": [
        ""
      ],
      "execution_count": null,
      "outputs": []
    },
    {
      "cell_type": "markdown",
      "metadata": {
        "id": "SpigAbATuYo0"
      },
      "source": [
        "## 6. Use Decision Tree Model to build a classifier, including train/test data split, fit, and evaluation."
      ]
    },
    {
      "cell_type": "code",
      "metadata": {
        "id": "8uSEx_Dgujzd"
      },
      "source": [
        ""
      ],
      "execution_count": null,
      "outputs": []
    },
    {
      "cell_type": "markdown",
      "metadata": {
        "id": "4BhhUIKZuvB7"
      },
      "source": [
        "## 7. Select one of the models to set different hyperparameters to compare the performace difference."
      ]
    },
    {
      "cell_type": "code",
      "metadata": {
        "id": "XotBM2VXvrXq"
      },
      "source": [
        ""
      ],
      "execution_count": null,
      "outputs": []
    },
    {
      "cell_type": "markdown",
      "metadata": {
        "id": "CG0_ENtKuu-H"
      },
      "source": [
        "## 8. Select one of the models to apply cross validataion."
      ]
    },
    {
      "cell_type": "code",
      "metadata": {
        "id": "tbOcIO41v9Wt"
      },
      "source": [
        ""
      ],
      "execution_count": null,
      "outputs": []
    }
  ]
}