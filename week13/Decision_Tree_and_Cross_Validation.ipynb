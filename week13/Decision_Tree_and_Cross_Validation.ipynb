{
  "nbformat": 4,
  "nbformat_minor": 0,
  "metadata": {
    "colab": {
      "name": "Decision Tree and Cross Validation.ipynb",
      "provenance": [],
      "authorship_tag": "ABX9TyPZvTDyPQ0Xtrkkj4P2OOwW",
      "include_colab_link": true
    },
    "kernelspec": {
      "name": "python3",
      "display_name": "Python 3"
    },
    "language_info": {
      "name": "python"
    }
  },
  "cells": [
    {
      "cell_type": "markdown",
      "metadata": {
        "id": "view-in-github",
        "colab_type": "text"
      },
      "source": [
        "<a href=\"https://colab.research.google.com/github/jiangenhe/insc-486-2021-spring/blob/main/week13/Decision_Tree_and_Cross_Validation.ipynb\" target=\"_parent\"><img src=\"https://colab.research.google.com/assets/colab-badge.svg\" alt=\"Open In Colab\"/></a>"
      ]
    },
    {
      "cell_type": "markdown",
      "metadata": {
        "id": "K9doLIx3ITz-"
      },
      "source": [
        "## Decision Tree"
      ]
    },
    {
      "cell_type": "code",
      "metadata": {
        "id": "owZ1DyutH5Su"
      },
      "source": [
        "from sklearn.tree import DecisionTreeClassifier\n",
        "from adspy_shared_utilities import plot_decision_tree\n",
        "from adspy_shared_utilities import plot_feature_importances\n",
        "\n",
        "X_train, X_test, y_train, y_test = train_test_split(X_cancer, y_cancer, random_state = 0)\n",
        "\n",
        "clf = DecisionTreeClassifier(max_depth = 4, min_samples_leaf = 8,\n",
        "                            random_state = 0).fit(X_train, y_train)\n",
        "\n",
        "plot_decision_tree(clf, cancer.feature_names, cancer.target_names)"
      ],
      "execution_count": null,
      "outputs": []
    },
    {
      "cell_type": "code",
      "metadata": {
        "id": "dj0vCFMMH5Su"
      },
      "source": [
        "print('Breast cancer dataset: decision tree')\n",
        "print('Accuracy of DT classifier on training set: {:.2f}'\n",
        "     .format(clf.score(X_train, y_train)))\n",
        "print('Accuracy of DT classifier on test set: {:.2f}'\n",
        "     .format(clf.score(X_test, y_test)))\n",
        "\n",
        "plt.figure(figsize=(10,6),dpi=80)\n",
        "plot_feature_importances(clf, cancer.feature_names)\n",
        "plt.tight_layout()\n",
        "\n",
        "plt.show()"
      ],
      "execution_count": null,
      "outputs": []
    },
    {
      "cell_type": "markdown",
      "metadata": {
        "id": "Ei6z_tiEIXJX"
      },
      "source": [
        "## Cross Validatation"
      ]
    },
    {
      "cell_type": "code",
      "metadata": {
        "collapsed": true,
        "id": "QZee5PA1H5Sr"
      },
      "source": [
        "from sklearn.svm import SVC\n",
        "from sklearn.model_selection import validation_curve\n",
        "\n",
        "param_range = np.logspace(-3, 3, 4)\n",
        "train_scores, test_scores = validation_curve(SVC(), X, y,\n",
        "                                            param_name='gamma',\n",
        "                                            param_range=param_range, cv=3)"
      ],
      "execution_count": null,
      "outputs": []
    },
    {
      "cell_type": "code",
      "metadata": {
        "id": "LOU-F1gkH5Sr"
      },
      "source": [
        "print(train_scores)"
      ],
      "execution_count": null,
      "outputs": []
    },
    {
      "cell_type": "code",
      "metadata": {
        "id": "nhaLk06oH5Sr"
      },
      "source": [
        "print(test_scores)"
      ],
      "execution_count": null,
      "outputs": []
    },
    {
      "cell_type": "code",
      "metadata": {
        "id": "oaI4NEYQH5Ss"
      },
      "source": [
        "# This code based on scikit-learn validation_plot example\n",
        "#  See:  http://scikit-learn.org/stable/auto_examples/model_selection/plot_validation_curve.html\n",
        "plt.figure()\n",
        "\n",
        "train_scores_mean = np.mean(train_scores, axis=1)\n",
        "train_scores_std = np.std(train_scores, axis=1)\n",
        "test_scores_mean = np.mean(test_scores, axis=1)\n",
        "test_scores_std = np.std(test_scores, axis=1)\n",
        "\n",
        "plt.title('Validation Curve with SVM')\n",
        "plt.xlabel('$\\gamma$ (gamma)')\n",
        "plt.ylabel('Score')\n",
        "plt.ylim(0.0, 1.1)\n",
        "lw = 2\n",
        "\n",
        "plt.semilogx(param_range, train_scores_mean, label='Training score',\n",
        "            color='darkorange', lw=lw)\n",
        "\n",
        "plt.fill_between(param_range, train_scores_mean - train_scores_std,\n",
        "                train_scores_mean + train_scores_std, alpha=0.2,\n",
        "                color='darkorange', lw=lw)\n",
        "\n",
        "plt.semilogx(param_range, test_scores_mean, label='Cross-validation score',\n",
        "            color='navy', lw=lw)\n",
        "\n",
        "plt.fill_between(param_range, test_scores_mean - test_scores_std,\n",
        "                test_scores_mean + test_scores_std, alpha=0.2,\n",
        "                color='navy', lw=lw)\n",
        "\n",
        "plt.legend(loc='best')\n",
        "plt.show()"
      ],
      "execution_count": null,
      "outputs": []
    }
  ]
}