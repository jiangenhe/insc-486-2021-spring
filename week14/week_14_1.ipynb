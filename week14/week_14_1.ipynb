{
  "nbformat": 4,
  "nbformat_minor": 0,
  "metadata": {
    "anaconda-cloud": {},
    "kernelspec": {
      "display_name": "Python 3",
      "language": "python",
      "name": "python3"
    },
    "language_info": {
      "codemirror_mode": {
        "name": "ipython",
        "version": 3
      },
      "file_extension": ".py",
      "mimetype": "text/x-python",
      "name": "python",
      "nbconvert_exporter": "python",
      "pygments_lexer": "ipython3",
      "version": "3.6.2"
    },
    "colab": {
      "name": "week 14-1.ipynb",
      "provenance": [],
      "include_colab_link": true
    }
  },
  "cells": [
    {
      "cell_type": "markdown",
      "metadata": {
        "id": "view-in-github",
        "colab_type": "text"
      },
      "source": [
        "<a href=\"https://colab.research.google.com/github/jiangenhe/insc-486-2021-spring/blob/main/week14/week_14_1.ipynb\" target=\"_parent\"><img src=\"https://colab.research.google.com/assets/colab-badge.svg\" alt=\"Open In Colab\"/></a>"
      ]
    },
    {
      "cell_type": "markdown",
      "metadata": {
        "collapsed": true,
        "id": "Im3bouz6Tmgt"
      },
      "source": [
        "# Evaluation"
      ]
    },
    {
      "cell_type": "markdown",
      "metadata": {
        "id": "GmkQ3e4XTmgt"
      },
      "source": [
        "## Evaluation for Classification"
      ]
    },
    {
      "cell_type": "markdown",
      "metadata": {
        "id": "VT-Rc7KwTmgu"
      },
      "source": [
        "### Preamble"
      ]
    },
    {
      "cell_type": "code",
      "metadata": {
        "colab": {
          "base_uri": "https://localhost:8080/"
        },
        "id": "5h-osW-fTmgu",
        "outputId": "cfa8ca8c-04fe-43f9-8797-bd3da81b8679"
      },
      "source": [
        "import numpy as np\n",
        "import pandas as pd\n",
        "import seaborn as sns\n",
        "import matplotlib.pyplot as plt\n",
        "from sklearn.model_selection import train_test_split\n",
        "from sklearn.datasets import load_digits\n",
        "\n",
        "dataset = load_digits()\n",
        "X, y = dataset.data, dataset.target\n",
        "\n",
        "for class_name, class_count in zip(dataset.target_names, np.bincount(dataset.target)):\n",
        "    print(class_name,class_count)\n"
      ],
      "execution_count": 1,
      "outputs": [
        {
          "output_type": "stream",
          "text": [
            "0 178\n",
            "1 182\n",
            "2 177\n",
            "3 183\n",
            "4 181\n",
            "5 182\n",
            "6 181\n",
            "7 179\n",
            "8 174\n",
            "9 180\n"
          ],
          "name": "stdout"
        }
      ]
    },
    {
      "cell_type": "code",
      "metadata": {
        "colab": {
          "base_uri": "https://localhost:8080/"
        },
        "id": "RAedSjHjTmgu",
        "outputId": "d6f69a42-dd83-44a8-8276-466dc28ccd71"
      },
      "source": [
        "# Creating a dataset with imbalanced binary classes:  \n",
        "# Negative class (0) is 'not digit 1' \n",
        "# Positive class (1) is 'digit 1'\n",
        "y_binary_imbalanced = y.copy()\n",
        "y_binary_imbalanced[y_binary_imbalanced != 1] = 0\n",
        "\n",
        "print('Original labels:\\t', y[1:30])\n",
        "print('New binary labels:\\t', y_binary_imbalanced[1:30])"
      ],
      "execution_count": 2,
      "outputs": [
        {
          "output_type": "stream",
          "text": [
            "Original labels:\t [1 2 3 4 5 6 7 8 9 0 1 2 3 4 5 6 7 8 9 0 1 2 3 4 5 6 7 8 9]\n",
            "New binary labels:\t [1 0 0 0 0 0 0 0 0 0 1 0 0 0 0 0 0 0 0 0 1 0 0 0 0 0 0 0 0]\n"
          ],
          "name": "stdout"
        }
      ]
    },
    {
      "cell_type": "code",
      "metadata": {
        "scrolled": true,
        "colab": {
          "base_uri": "https://localhost:8080/"
        },
        "id": "OS4sZhpdTmgv",
        "outputId": "0a53018e-31f5-43c2-a898-4deaa4e65960"
      },
      "source": [
        "np.bincount(y_binary_imbalanced)    # Negative class (0) is the most frequent class"
      ],
      "execution_count": 3,
      "outputs": [
        {
          "output_type": "execute_result",
          "data": {
            "text/plain": [
              "array([1615,  182])"
            ]
          },
          "metadata": {
            "tags": []
          },
          "execution_count": 3
        }
      ]
    },
    {
      "cell_type": "code",
      "metadata": {
        "colab": {
          "base_uri": "https://localhost:8080/"
        },
        "id": "_bwaRVRPTmgv",
        "outputId": "e78a57ab-09ee-4931-b930-7525011a66b1"
      },
      "source": [
        "X_train, X_test, y_train, y_test = train_test_split(X, y_binary_imbalanced, random_state=0)\n",
        "\n",
        "# Accuracy of Support Vector Machine classifier\n",
        "from sklearn.svm import SVC\n",
        "\n",
        "svm = SVC(kernel='rbf', C=1).fit(X_train, y_train)\n",
        "svm.score(X_test, y_test)"
      ],
      "execution_count": 4,
      "outputs": [
        {
          "output_type": "execute_result",
          "data": {
            "text/plain": [
              "0.9955555555555555"
            ]
          },
          "metadata": {
            "tags": []
          },
          "execution_count": 4
        }
      ]
    },
    {
      "cell_type": "markdown",
      "metadata": {
        "id": "KK6Z5R99Tmgw"
      },
      "source": [
        "### Dummy Classifiers"
      ]
    },
    {
      "cell_type": "markdown",
      "metadata": {
        "collapsed": true,
        "id": "DPyqEMuGTmgw"
      },
      "source": [
        "DummyClassifier is a classifier that makes predictions using simple rules, which can be useful as a baseline for comparison against actual classifiers, especially with imbalanced classes."
      ]
    },
    {
      "cell_type": "code",
      "metadata": {
        "colab": {
          "base_uri": "https://localhost:8080/"
        },
        "id": "IwflRh-PTmgw",
        "outputId": "62f16e4a-1cda-49a6-de50-0c0234c024f8"
      },
      "source": [
        "from sklearn.dummy import DummyClassifier\n",
        "\n",
        "# Negative class (0) is most frequent\n",
        "dummy_majority = DummyClassifier(strategy = 'most_frequent').fit(X_train, y_train)\n",
        "# Therefore the dummy 'most_frequent' classifier always predicts class 0\n",
        "y_dummy_predictions = dummy_majority.predict(X_test)\n",
        "\n",
        "y_dummy_predictions"
      ],
      "execution_count": 5,
      "outputs": [
        {
          "output_type": "execute_result",
          "data": {
            "text/plain": [
              "array([0, 0, 0, 0, 0, 0, 0, 0, 0, 0, 0, 0, 0, 0, 0, 0, 0, 0, 0, 0, 0, 0,\n",
              "       0, 0, 0, 0, 0, 0, 0, 0, 0, 0, 0, 0, 0, 0, 0, 0, 0, 0, 0, 0, 0, 0,\n",
              "       0, 0, 0, 0, 0, 0, 0, 0, 0, 0, 0, 0, 0, 0, 0, 0, 0, 0, 0, 0, 0, 0,\n",
              "       0, 0, 0, 0, 0, 0, 0, 0, 0, 0, 0, 0, 0, 0, 0, 0, 0, 0, 0, 0, 0, 0,\n",
              "       0, 0, 0, 0, 0, 0, 0, 0, 0, 0, 0, 0, 0, 0, 0, 0, 0, 0, 0, 0, 0, 0,\n",
              "       0, 0, 0, 0, 0, 0, 0, 0, 0, 0, 0, 0, 0, 0, 0, 0, 0, 0, 0, 0, 0, 0,\n",
              "       0, 0, 0, 0, 0, 0, 0, 0, 0, 0, 0, 0, 0, 0, 0, 0, 0, 0, 0, 0, 0, 0,\n",
              "       0, 0, 0, 0, 0, 0, 0, 0, 0, 0, 0, 0, 0, 0, 0, 0, 0, 0, 0, 0, 0, 0,\n",
              "       0, 0, 0, 0, 0, 0, 0, 0, 0, 0, 0, 0, 0, 0, 0, 0, 0, 0, 0, 0, 0, 0,\n",
              "       0, 0, 0, 0, 0, 0, 0, 0, 0, 0, 0, 0, 0, 0, 0, 0, 0, 0, 0, 0, 0, 0,\n",
              "       0, 0, 0, 0, 0, 0, 0, 0, 0, 0, 0, 0, 0, 0, 0, 0, 0, 0, 0, 0, 0, 0,\n",
              "       0, 0, 0, 0, 0, 0, 0, 0, 0, 0, 0, 0, 0, 0, 0, 0, 0, 0, 0, 0, 0, 0,\n",
              "       0, 0, 0, 0, 0, 0, 0, 0, 0, 0, 0, 0, 0, 0, 0, 0, 0, 0, 0, 0, 0, 0,\n",
              "       0, 0, 0, 0, 0, 0, 0, 0, 0, 0, 0, 0, 0, 0, 0, 0, 0, 0, 0, 0, 0, 0,\n",
              "       0, 0, 0, 0, 0, 0, 0, 0, 0, 0, 0, 0, 0, 0, 0, 0, 0, 0, 0, 0, 0, 0,\n",
              "       0, 0, 0, 0, 0, 0, 0, 0, 0, 0, 0, 0, 0, 0, 0, 0, 0, 0, 0, 0, 0, 0,\n",
              "       0, 0, 0, 0, 0, 0, 0, 0, 0, 0, 0, 0, 0, 0, 0, 0, 0, 0, 0, 0, 0, 0,\n",
              "       0, 0, 0, 0, 0, 0, 0, 0, 0, 0, 0, 0, 0, 0, 0, 0, 0, 0, 0, 0, 0, 0,\n",
              "       0, 0, 0, 0, 0, 0, 0, 0, 0, 0, 0, 0, 0, 0, 0, 0, 0, 0, 0, 0, 0, 0,\n",
              "       0, 0, 0, 0, 0, 0, 0, 0, 0, 0, 0, 0, 0, 0, 0, 0, 0, 0, 0, 0, 0, 0,\n",
              "       0, 0, 0, 0, 0, 0, 0, 0, 0, 0])"
            ]
          },
          "metadata": {
            "tags": []
          },
          "execution_count": 5
        }
      ]
    },
    {
      "cell_type": "code",
      "metadata": {
        "colab": {
          "base_uri": "https://localhost:8080/"
        },
        "id": "jEAG4cNfTmgx",
        "outputId": "65057cdf-9a11-4721-ea47-4dc25e483c78"
      },
      "source": [
        "dummy_majority.score(X_test, y_test)"
      ],
      "execution_count": 6,
      "outputs": [
        {
          "output_type": "execute_result",
          "data": {
            "text/plain": [
              "0.9044444444444445"
            ]
          },
          "metadata": {
            "tags": []
          },
          "execution_count": 6
        }
      ]
    },
    {
      "cell_type": "code",
      "metadata": {
        "colab": {
          "base_uri": "https://localhost:8080/"
        },
        "id": "yv8ZL_42Tmgx",
        "outputId": "a08a01f0-24b8-43b9-cb88-27c6f82499b6"
      },
      "source": [
        "svm = SVC(kernel='linear', C=1).fit(X_train, y_train)\n",
        "svm.score(X_test, y_test)"
      ],
      "execution_count": 7,
      "outputs": [
        {
          "output_type": "execute_result",
          "data": {
            "text/plain": [
              "0.9777777777777777"
            ]
          },
          "metadata": {
            "tags": []
          },
          "execution_count": 7
        }
      ]
    },
    {
      "cell_type": "markdown",
      "metadata": {
        "id": "I9PpFn5kTmgx"
      },
      "source": [
        "### Confusion matrices"
      ]
    },
    {
      "cell_type": "markdown",
      "metadata": {
        "id": "KZ_7jWvDTmgy"
      },
      "source": [
        "#### Binary (two-class) confusion matrix"
      ]
    },
    {
      "cell_type": "code",
      "metadata": {
        "colab": {
          "base_uri": "https://localhost:8080/"
        },
        "id": "ivE54M2mTmgy",
        "outputId": "0e2af4c1-5729-44b6-8f2e-41101a6353c8"
      },
      "source": [
        "from sklearn.metrics import confusion_matrix\n",
        "\n",
        "# Negative class (0) is most frequent\n",
        "dummy_majority = DummyClassifier(strategy = 'most_frequent').fit(X_train, y_train)\n",
        "y_majority_predicted = dummy_majority.predict(X_test)\n",
        "confusion = confusion_matrix(y_test, y_majority_predicted)\n",
        "\n",
        "print('Most frequent class (dummy classifier)\\n', confusion)"
      ],
      "execution_count": 8,
      "outputs": [
        {
          "output_type": "stream",
          "text": [
            "Most frequent class (dummy classifier)\n",
            " [[407   0]\n",
            " [ 43   0]]\n"
          ],
          "name": "stdout"
        }
      ]
    },
    {
      "cell_type": "code",
      "metadata": {
        "colab": {
          "base_uri": "https://localhost:8080/"
        },
        "id": "WdCorwxXTmgy",
        "outputId": "8a721167-da73-4fb1-ae9e-f27c9c373fb3"
      },
      "source": [
        "# produces random predictions w/ same class proportion as training set\n",
        "dummy_classprop = DummyClassifier(strategy='stratified').fit(X_train, y_train)\n",
        "y_classprop_predicted = dummy_classprop.predict(X_test)\n",
        "confusion = confusion_matrix(y_test, y_classprop_predicted)\n",
        "\n",
        "print('Random class-proportional prediction (dummy classifier)\\n', confusion)"
      ],
      "execution_count": 9,
      "outputs": [
        {
          "output_type": "stream",
          "text": [
            "Random class-proportional prediction (dummy classifier)\n",
            " [[363  44]\n",
            " [ 37   6]]\n"
          ],
          "name": "stdout"
        }
      ]
    },
    {
      "cell_type": "code",
      "metadata": {
        "scrolled": true,
        "colab": {
          "base_uri": "https://localhost:8080/"
        },
        "id": "SIg9cLUYTmgz",
        "outputId": "e17a61dc-6840-4673-e41a-aa7393735d97"
      },
      "source": [
        "svm = SVC(kernel='linear', C=1).fit(X_train, y_train)\n",
        "svm_predicted = svm.predict(X_test)\n",
        "confusion = confusion_matrix(y_test, svm_predicted)\n",
        "\n",
        "print('Support vector machine classifier (linear kernel, C=1)\\n', confusion)"
      ],
      "execution_count": 10,
      "outputs": [
        {
          "output_type": "stream",
          "text": [
            "Support vector machine classifier (linear kernel, C=1)\n",
            " [[402   5]\n",
            " [  5  38]]\n"
          ],
          "name": "stdout"
        }
      ]
    },
    {
      "cell_type": "code",
      "metadata": {
        "colab": {
          "base_uri": "https://localhost:8080/"
        },
        "id": "uL5p5gNLTmgz",
        "outputId": "b370cd74-c5a4-4048-8627-89340b43fc29"
      },
      "source": [
        "from sklearn.linear_model import LogisticRegression\n",
        "\n",
        "lr = LogisticRegression().fit(X_train, y_train)\n",
        "lr_predicted = lr.predict(X_test)\n",
        "confusion = confusion_matrix(y_test, lr_predicted)\n",
        "\n",
        "print('Logistic regression classifier (default settings)\\n', confusion)"
      ],
      "execution_count": 11,
      "outputs": [
        {
          "output_type": "stream",
          "text": [
            "Logistic regression classifier (default settings)\n",
            " [[401   6]\n",
            " [  8  35]]\n"
          ],
          "name": "stdout"
        },
        {
          "output_type": "stream",
          "text": [
            "/usr/local/lib/python3.7/dist-packages/sklearn/linear_model/_logistic.py:940: ConvergenceWarning: lbfgs failed to converge (status=1):\n",
            "STOP: TOTAL NO. of ITERATIONS REACHED LIMIT.\n",
            "\n",
            "Increase the number of iterations (max_iter) or scale the data as shown in:\n",
            "    https://scikit-learn.org/stable/modules/preprocessing.html\n",
            "Please also refer to the documentation for alternative solver options:\n",
            "    https://scikit-learn.org/stable/modules/linear_model.html#logistic-regression\n",
            "  extra_warning_msg=_LOGISTIC_SOLVER_CONVERGENCE_MSG)\n"
          ],
          "name": "stderr"
        }
      ]
    },
    {
      "cell_type": "code",
      "metadata": {
        "colab": {
          "base_uri": "https://localhost:8080/"
        },
        "id": "qKMlsBLyTmg0",
        "outputId": "46c99b70-7a83-44b2-e9fa-8685c064fe49"
      },
      "source": [
        "from sklearn.tree import DecisionTreeClassifier\n",
        "\n",
        "dt = DecisionTreeClassifier(max_depth=2).fit(X_train, y_train)\n",
        "tree_predicted = dt.predict(X_test)\n",
        "confusion = confusion_matrix(y_test, tree_predicted)\n",
        "\n",
        "print('Decision tree classifier (max_depth = 2)\\n', confusion)"
      ],
      "execution_count": 12,
      "outputs": [
        {
          "output_type": "stream",
          "text": [
            "Decision tree classifier (max_depth = 2)\n",
            " [[400   7]\n",
            " [ 17  26]]\n"
          ],
          "name": "stdout"
        }
      ]
    },
    {
      "cell_type": "markdown",
      "metadata": {
        "id": "VyHsPGNtTmg0"
      },
      "source": [
        "### Evaluation metrics for binary classification"
      ]
    },
    {
      "cell_type": "code",
      "metadata": {
        "colab": {
          "base_uri": "https://localhost:8080/"
        },
        "id": "xd7gEyYsTmg0",
        "outputId": "423c6b26-0b30-4095-d458-ce81d59ebdb9"
      },
      "source": [
        "from sklearn.metrics import accuracy_score, precision_score, recall_score, f1_score\n",
        "# Accuracy = TP + TN / (TP + TN + FP + FN)\n",
        "# Precision = TP / (TP + FP)\n",
        "# Recall = TP / (TP + FN)  Also known as sensitivity, or True Positive Rate\n",
        "# F1 = 2 * Precision * Recall / (Precision + Recall) \n",
        "print('Accuracy: {:.2f}'.format(accuracy_score(y_test, tree_predicted)))\n",
        "print('Precision: {:.2f}'.format(precision_score(y_test, tree_predicted)))\n",
        "print('Recall: {:.2f}'.format(recall_score(y_test, tree_predicted)))\n",
        "print('F1: {:.2f}'.format(f1_score(y_test, tree_predicted)))"
      ],
      "execution_count": 13,
      "outputs": [
        {
          "output_type": "stream",
          "text": [
            "Accuracy: 0.95\n",
            "Precision: 0.79\n",
            "Recall: 0.60\n",
            "F1: 0.68\n"
          ],
          "name": "stdout"
        }
      ]
    },
    {
      "cell_type": "code",
      "metadata": {
        "colab": {
          "base_uri": "https://localhost:8080/"
        },
        "id": "SWwENGg_Tmg0",
        "outputId": "383b7ddf-51b6-4780-dd97-0288423de9c1"
      },
      "source": [
        "# Combined report with all above metrics\n",
        "from sklearn.metrics import classification_report\n",
        "\n",
        "print(classification_report(y_test, tree_predicted, target_names=['not 1', '1']))"
      ],
      "execution_count": 14,
      "outputs": [
        {
          "output_type": "stream",
          "text": [
            "              precision    recall  f1-score   support\n",
            "\n",
            "       not 1       0.96      0.98      0.97       407\n",
            "           1       0.79      0.60      0.68        43\n",
            "\n",
            "    accuracy                           0.95       450\n",
            "   macro avg       0.87      0.79      0.83       450\n",
            "weighted avg       0.94      0.95      0.94       450\n",
            "\n"
          ],
          "name": "stdout"
        }
      ]
    },
    {
      "cell_type": "code",
      "metadata": {
        "scrolled": false,
        "colab": {
          "base_uri": "https://localhost:8080/"
        },
        "id": "yXe2w6JvTmg1",
        "outputId": "6254bff8-d923-48ef-deb2-190c2443a940"
      },
      "source": [
        "print('Random class-proportional (dummy)\\n', \n",
        "      classification_report(y_test, y_classprop_predicted, target_names=['not 1', '1']))\n",
        "print('SVM\\n', \n",
        "      classification_report(y_test, svm_predicted, target_names = ['not 1', '1']))\n",
        "print('Logistic regression\\n', \n",
        "      classification_report(y_test, lr_predicted, target_names = ['not 1', '1']))\n",
        "print('Decision tree\\n', \n",
        "      classification_report(y_test, tree_predicted, target_names = ['not 1', '1']))"
      ],
      "execution_count": 15,
      "outputs": [
        {
          "output_type": "stream",
          "text": [
            "Random class-proportional (dummy)\n",
            "               precision    recall  f1-score   support\n",
            "\n",
            "       not 1       0.91      0.89      0.90       407\n",
            "           1       0.12      0.14      0.13        43\n",
            "\n",
            "    accuracy                           0.82       450\n",
            "   macro avg       0.51      0.52      0.51       450\n",
            "weighted avg       0.83      0.82      0.83       450\n",
            "\n",
            "SVM\n",
            "               precision    recall  f1-score   support\n",
            "\n",
            "       not 1       0.99      0.99      0.99       407\n",
            "           1       0.88      0.88      0.88        43\n",
            "\n",
            "    accuracy                           0.98       450\n",
            "   macro avg       0.94      0.94      0.94       450\n",
            "weighted avg       0.98      0.98      0.98       450\n",
            "\n",
            "Logistic regression\n",
            "               precision    recall  f1-score   support\n",
            "\n",
            "       not 1       0.98      0.99      0.98       407\n",
            "           1       0.85      0.81      0.83        43\n",
            "\n",
            "    accuracy                           0.97       450\n",
            "   macro avg       0.92      0.90      0.91       450\n",
            "weighted avg       0.97      0.97      0.97       450\n",
            "\n",
            "Decision tree\n",
            "               precision    recall  f1-score   support\n",
            "\n",
            "       not 1       0.96      0.98      0.97       407\n",
            "           1       0.79      0.60      0.68        43\n",
            "\n",
            "    accuracy                           0.95       450\n",
            "   macro avg       0.87      0.79      0.83       450\n",
            "weighted avg       0.94      0.95      0.94       450\n",
            "\n"
          ],
          "name": "stdout"
        }
      ]
    },
    {
      "cell_type": "markdown",
      "metadata": {
        "id": "AKvf-GpNTmg1"
      },
      "source": [
        "### Decision functions"
      ]
    },
    {
      "cell_type": "code",
      "metadata": {
        "colab": {
          "base_uri": "https://localhost:8080/"
        },
        "id": "JPaXnmlYTmg1",
        "outputId": "fe39ae59-3cc2-456f-fd2e-63a744450ee2"
      },
      "source": [
        "X_train, X_test, y_train, y_test = train_test_split(X, y_binary_imbalanced, random_state=0)\n",
        "y_scores_lr = lr.fit(X_train, y_train).decision_function(X_test)\n",
        "y_score_list = list(zip(y_test[0:20], y_scores_lr[0:20]))\n",
        "\n",
        "# show the decision_function scores for first 20 instances\n",
        "y_score_list"
      ],
      "execution_count": 16,
      "outputs": [
        {
          "output_type": "stream",
          "text": [
            "/usr/local/lib/python3.7/dist-packages/sklearn/linear_model/_logistic.py:940: ConvergenceWarning: lbfgs failed to converge (status=1):\n",
            "STOP: TOTAL NO. of ITERATIONS REACHED LIMIT.\n",
            "\n",
            "Increase the number of iterations (max_iter) or scale the data as shown in:\n",
            "    https://scikit-learn.org/stable/modules/preprocessing.html\n",
            "Please also refer to the documentation for alternative solver options:\n",
            "    https://scikit-learn.org/stable/modules/linear_model.html#logistic-regression\n",
            "  extra_warning_msg=_LOGISTIC_SOLVER_CONVERGENCE_MSG)\n"
          ],
          "name": "stderr"
        },
        {
          "output_type": "execute_result",
          "data": {
            "text/plain": [
              "[(0, -29.828788441785033),\n",
              " (0, -19.382924793512874),\n",
              " (0, -29.198335138585666),\n",
              " (0, -21.746179452413866),\n",
              " (0, -22.64239706142783),\n",
              " (0, -11.806009239931573),\n",
              " (1, 6.496016147080556),\n",
              " (0, -23.35456545701549),\n",
              " (0, -27.5434551101218),\n",
              " (0, -26.888219314276732),\n",
              " (0, -31.862703999560456),\n",
              " (0, -22.486128999408205),\n",
              " (0, -25.318000345574035),\n",
              " (0, -13.38456205419778),\n",
              " (0, -13.565609990855048),\n",
              " (0, -13.308402070394045),\n",
              " (1, 12.18078625711733),\n",
              " (0, -34.36249073173575),\n",
              " (0, -13.231505077380163),\n",
              " (0, -29.59393677309081)]"
            ]
          },
          "metadata": {
            "tags": []
          },
          "execution_count": 16
        }
      ]
    },
    {
      "cell_type": "code",
      "metadata": {
        "colab": {
          "base_uri": "https://localhost:8080/"
        },
        "id": "Snmwyf8UTmg1",
        "outputId": "cb0b42cd-ba04-4f51-b328-9e6400d54289"
      },
      "source": [
        "X_train, X_test, y_train, y_test = train_test_split(X, y_binary_imbalanced, random_state=0)\n",
        "y_proba_lr = lr.fit(X_train, y_train).predict_proba(X_test)\n",
        "y_proba_list = list(zip(y_test[0:20], y_proba_lr[0:20,1]))\n",
        "\n",
        "# show the probability of positive class for first 20 instances\n",
        "y_proba_list"
      ],
      "execution_count": 17,
      "outputs": [
        {
          "output_type": "stream",
          "text": [
            "/usr/local/lib/python3.7/dist-packages/sklearn/linear_model/_logistic.py:940: ConvergenceWarning: lbfgs failed to converge (status=1):\n",
            "STOP: TOTAL NO. of ITERATIONS REACHED LIMIT.\n",
            "\n",
            "Increase the number of iterations (max_iter) or scale the data as shown in:\n",
            "    https://scikit-learn.org/stable/modules/preprocessing.html\n",
            "Please also refer to the documentation for alternative solver options:\n",
            "    https://scikit-learn.org/stable/modules/linear_model.html#logistic-regression\n",
            "  extra_warning_msg=_LOGISTIC_SOLVER_CONVERGENCE_MSG)\n"
          ],
          "name": "stderr"
        },
        {
          "output_type": "execute_result",
          "data": {
            "text/plain": [
              "[(0, 1.1105082208232874e-13),\n",
              " (0, 3.820346172604105e-09),\n",
              " (0, 2.0860473814375808e-13),\n",
              " (0, 3.595458341363987e-10),\n",
              " (0, 1.4673438599173205e-10),\n",
              " (0, 7.459540808226165e-06),\n",
              " (1, 0.998492834356983),\n",
              " (0, 7.198484846185495e-11),\n",
              " (0, 1.0915143083465744e-12),\n",
              " (0, 2.1018161444089108e-12),\n",
              " (0, 1.4527921163895185e-14),\n",
              " (0, 1.7155297591126663e-10),\n",
              " (0, 1.0104903189398316e-11),\n",
              " (0, 1.5387139421779702e-06),\n",
              " (0, 1.2838961002847254e-06),\n",
              " (0, 1.6604801824725314e-06),\n",
              " (1, 0.999994871982292),\n",
              " (0, 1.1927787429505822e-15),\n",
              " (0, 1.7932035040594141e-06),\n",
              " (0, 1.4044832419844635e-13)]"
            ]
          },
          "metadata": {
            "tags": []
          },
          "execution_count": 17
        }
      ]
    },
    {
      "cell_type": "markdown",
      "metadata": {
        "id": "yfOYw--5Tmg2"
      },
      "source": [
        "### Precision-recall curves"
      ]
    },
    {
      "cell_type": "code",
      "metadata": {
        "colab": {
          "base_uri": "https://localhost:8080/",
          "height": 340
        },
        "id": "W1N5VFH-Tmg2",
        "outputId": "edd42a48-66f2-4b6d-c6ff-369787937305"
      },
      "source": [
        "from sklearn.metrics import precision_recall_curve\n",
        "\n",
        "precision, recall, thresholds = precision_recall_curve(y_test, y_scores_lr)\n",
        "closest_zero = np.argmin(np.abs(thresholds))\n",
        "closest_zero_p = precision[closest_zero]\n",
        "closest_zero_r = recall[closest_zero]\n",
        "\n",
        "plt.figure()\n",
        "plt.xlim([0.0, 1.01])\n",
        "plt.ylim([0.0, 1.01])\n",
        "plt.plot(precision, recall, label='Precision-Recall Curve')\n",
        "plt.plot(closest_zero_p, closest_zero_r, 'o', markersize = 12, fillstyle = 'none', c='r', mew=3)\n",
        "plt.xlabel('Precision', fontsize=16)\n",
        "plt.ylabel('Recall', fontsize=16)\n",
        "plt.axes().set_aspect('equal')\n",
        "plt.show()"
      ],
      "execution_count": 18,
      "outputs": [
        {
          "output_type": "stream",
          "text": [
            "/usr/local/lib/python3.7/dist-packages/ipykernel_launcher.py:15: MatplotlibDeprecationWarning: Adding an axes using the same arguments as a previous axes currently reuses the earlier instance.  In a future version, a new instance will always be created and returned.  Meanwhile, this warning can be suppressed, and the future behavior ensured, by passing a unique label to each axes instance.\n",
            "  from ipykernel import kernelapp as app\n"
          ],
          "name": "stderr"
        },
        {
          "output_type": "display_data",
          "data": {
            "image/png": "[encoded data removed]",
            "text/plain": [
              "<Figure size 432x288 with 1 Axes>"
            ]
          },
          "metadata": {
            "tags": [],
            "needs_background": "light"
          }
        }
      ]
    },
    {
      "cell_type": "markdown",
      "metadata": {
        "id": "rHHpsPXhTmg2"
      },
      "source": [
        "### ROC curves, Area-Under-Curve (AUC)"
      ]
    },
    {
      "cell_type": "code",
      "metadata": {
        "colab": {
          "base_uri": "https://localhost:8080/",
          "height": 475
        },
        "id": "IHaS7xYlTmg2",
        "outputId": "aece12b7-198f-4a79-dbf8-8145dd999b4f"
      },
      "source": [
        "from sklearn.metrics import roc_curve, auc\n",
        "\n",
        "X_train, X_test, y_train, y_test = train_test_split(X, y_binary_imbalanced, random_state=0)\n",
        "\n",
        "y_score_lr = lr.fit(X_train, y_train).decision_function(X_test)\n",
        "fpr_lr, tpr_lr, _ = roc_curve(y_test, y_score_lr)\n",
        "roc_auc_lr = auc(fpr_lr, tpr_lr)\n",
        "\n",
        "plt.figure()\n",
        "plt.xlim([-0.01, 1.00])\n",
        "plt.ylim([-0.01, 1.01])\n",
        "plt.plot(fpr_lr, tpr_lr, lw=3, label='LogRegr ROC curve (area = {:0.2f})'.format(roc_auc_lr))\n",
        "plt.xlabel('False Positive Rate', fontsize=16)\n",
        "plt.ylabel('True Positive Rate', fontsize=16)\n",
        "plt.title('ROC curve (1-of-10 digits classifier)', fontsize=16)\n",
        "plt.legend(loc='lower right', fontsize=13)\n",
        "plt.plot([0, 1], [0, 1], color='navy', lw=3, linestyle='--')\n",
        "plt.axes().set_aspect('equal')\n",
        "plt.show()"
      ],
      "execution_count": 19,
      "outputs": [
        {
          "output_type": "stream",
          "text": [
            "/usr/local/lib/python3.7/dist-packages/sklearn/linear_model/_logistic.py:940: ConvergenceWarning: lbfgs failed to converge (status=1):\n",
            "STOP: TOTAL NO. of ITERATIONS REACHED LIMIT.\n",
            "\n",
            "Increase the number of iterations (max_iter) or scale the data as shown in:\n",
            "    https://scikit-learn.org/stable/modules/preprocessing.html\n",
            "Please also refer to the documentation for alternative solver options:\n",
            "    https://scikit-learn.org/stable/modules/linear_model.html#logistic-regression\n",
            "  extra_warning_msg=_LOGISTIC_SOLVER_CONVERGENCE_MSG)\n",
            "/usr/local/lib/python3.7/dist-packages/ipykernel_launcher.py:18: MatplotlibDeprecationWarning: Adding an axes using the same arguments as a previous axes currently reuses the earlier instance.  In a future version, a new instance will always be created and returned.  Meanwhile, this warning can be suppressed, and the future behavior ensured, by passing a unique label to each axes instance.\n"
          ],
          "name": "stderr"
        },
        {
          "output_type": "display_data",
          "data": {
            "image/png": "[encoded data removed]",
            "text/plain": [
              "<Figure size 432x288 with 1 Axes>"
            ]
          },
          "metadata": {
            "tags": [],
            "needs_background": "light"
          }
        }
      ]
    },
    {
      "cell_type": "code",
      "metadata": {
        "scrolled": false,
        "colab": {
          "base_uri": "https://localhost:8080/",
          "height": 407
        },
        "id": "-1YVjQt7Tmg3",
        "outputId": "20472fc0-a4ee-4c99-f4e0-19c4a113207c"
      },
      "source": [
        "from matplotlib import cm\n",
        "\n",
        "X_train, X_test, y_train, y_test = train_test_split(X, y_binary_imbalanced, random_state=0)\n",
        "\n",
        "plt.figure()\n",
        "plt.xlim([-0.01, 1.00])\n",
        "plt.ylim([-0.01, 1.01])\n",
        "for g in [0.01, 0.1, 0.20, 1]:\n",
        "    svm = SVC(gamma=g).fit(X_train, y_train)\n",
        "    y_score_svm = svm.decision_function(X_test)\n",
        "    fpr_svm, tpr_svm, _ = roc_curve(y_test, y_score_svm)\n",
        "    roc_auc_svm = auc(fpr_svm, tpr_svm)\n",
        "    accuracy_svm = svm.score(X_test, y_test)\n",
        "    print(\"gamma = {:.2f}  accuracy = {:.2f}   AUC = {:.2f}\".format(g, accuracy_svm, \n",
        "                                                                    roc_auc_svm))\n",
        "    plt.plot(fpr_svm, tpr_svm, lw=3, alpha=0.7, \n",
        "             label='SVM (gamma = {:0.2f}, area = {:0.2f})'.format(g, roc_auc_svm))\n",
        "\n",
        "plt.xlabel('False Positive Rate', fontsize=16)\n",
        "plt.ylabel('True Positive Rate (Recall)', fontsize=16)\n",
        "plt.plot([0, 1], [0, 1], color='k', lw=0.5, linestyle='--')\n",
        "plt.legend(loc=\"lower right\", fontsize=11)\n",
        "plt.title('ROC curve: (1-of-10 digits classifier)', fontsize=16)\n",
        "plt.axes().set_aspect('equal')\n",
        "\n",
        "plt.show()"
      ],
      "execution_count": 20,
      "outputs": [
        {
          "output_type": "stream",
          "text": [
            "gamma = 0.01  accuracy = 0.91   AUC = 1.00\n",
            "gamma = 0.10  accuracy = 0.90   AUC = 0.98\n",
            "gamma = 0.20  accuracy = 0.90   AUC = 0.66\n",
            "gamma = 1.00  accuracy = 0.90   AUC = 0.50\n"
          ],
          "name": "stdout"
        },
        {
          "output_type": "stream",
          "text": [
            "/usr/local/lib/python3.7/dist-packages/ipykernel_launcher.py:24: MatplotlibDeprecationWarning: Adding an axes using the same arguments as a previous axes currently reuses the earlier instance.  In a future version, a new instance will always be created and returned.  Meanwhile, this warning can be suppressed, and the future behavior ensured, by passing a unique label to each axes instance.\n"
          ],
          "name": "stderr"
        },
        {
          "output_type": "display_data",
          "data": {
            "image/png": "[encoded data removed]",
            "text/plain": [
              "<Figure size 432x288 with 1 Axes>"
            ]
          },
          "metadata": {
            "tags": [],
            "needs_background": "light"
          }
        }
      ]
    },
    {
      "cell_type": "markdown",
      "metadata": {
        "id": "DwVEDSSATmg3"
      },
      "source": [
        "### Evaluation measures for multi-class classification"
      ]
    },
    {
      "cell_type": "markdown",
      "metadata": {
        "id": "gRHxFATMTmg3"
      },
      "source": [
        "#### Multi-class confusion matrix"
      ]
    },
    {
      "cell_type": "code",
      "metadata": {
        "scrolled": false,
        "colab": {
          "base_uri": "https://localhost:8080/",
          "height": 603
        },
        "id": "hLrq_6gSTmg3",
        "outputId": "1fba278b-91aa-4472-d2c3-d22ce815e6f9"
      },
      "source": [
        "dataset = load_digits()\n",
        "X, y = dataset.data, dataset.target\n",
        "X_train_mc, X_test_mc, y_train_mc, y_test_mc = train_test_split(X, y, random_state=0)\n",
        "\n",
        "\n",
        "svm = SVC(kernel = 'linear').fit(X_train_mc, y_train_mc)\n",
        "svm_predicted_mc = svm.predict(X_test_mc)\n",
        "confusion_mc = confusion_matrix(y_test_mc, svm_predicted_mc)\n",
        "df_cm = pd.DataFrame(confusion_mc, \n",
        "                     index = [i for i in range(0,10)], columns = [i for i in range(0,10)])\n",
        "\n",
        "plt.figure(figsize=(5.5,4))\n",
        "sns.heatmap(df_cm, annot=True)\n",
        "plt.title('SVM Linear Kernel \\nAccuracy:{0:.3f}'.format(accuracy_score(y_test_mc, \n",
        "                                                                       svm_predicted_mc)))\n",
        "plt.ylabel('True label')\n",
        "plt.xlabel('Predicted label')\n",
        "\n",
        "\n",
        "svm = SVC(kernel = 'rbf').fit(X_train_mc, y_train_mc)\n",
        "svm_predicted_mc = svm.predict(X_test_mc)\n",
        "confusion_mc = confusion_matrix(y_test_mc, svm_predicted_mc)\n",
        "df_cm = pd.DataFrame(confusion_mc, index = [i for i in range(0,10)],\n",
        "                  columns = [i for i in range(0,10)])\n",
        "\n",
        "plt.figure(figsize = (5.5,4))\n",
        "sns.heatmap(df_cm, annot=True)\n",
        "plt.title('SVM RBF Kernel \\nAccuracy:{0:.3f}'.format(accuracy_score(y_test_mc, \n",
        "                                                                    svm_predicted_mc)))\n",
        "plt.ylabel('True label')\n",
        "plt.xlabel('Predicted label');"
      ],
      "execution_count": 21,
      "outputs": [
        {
          "output_type": "display_data",
          "data": {
            "image/png": "[encoded data removed]",
            "text/plain": [
              "<Figure size 396x288 with 2 Axes>"
            ]
          },
          "metadata": {
            "tags": [],
            "needs_background": "light"
          }
        },
        {
          "output_type": "display_data",
          "data": {
            "image/png": "[encoded data removed]",
            "text/plain": [
              "<Figure size 396x288 with 2 Axes>"
            ]
          },
          "metadata": {
            "tags": [],
            "needs_background": "light"
          }
        }
      ]
    },
    {
      "cell_type": "markdown",
      "metadata": {
        "id": "gxHMUz65Tmg4"
      },
      "source": [
        "#### Multi-class classification report"
      ]
    },
    {
      "cell_type": "code",
      "metadata": {
        "colab": {
          "base_uri": "https://localhost:8080/"
        },
        "id": "vWMIDlrxTmg4",
        "outputId": "a09c5f1e-d3bb-4b56-9d17-24bd6f3e9e95"
      },
      "source": [
        "print(classification_report(y_test_mc, svm_predicted_mc))"
      ],
      "execution_count": 22,
      "outputs": [
        {
          "output_type": "stream",
          "text": [
            "              precision    recall  f1-score   support\n",
            "\n",
            "           0       1.00      1.00      1.00        37\n",
            "           1       0.98      1.00      0.99        43\n",
            "           2       1.00      1.00      1.00        44\n",
            "           3       1.00      0.98      0.99        45\n",
            "           4       1.00      1.00      1.00        38\n",
            "           5       0.98      0.98      0.98        48\n",
            "           6       1.00      1.00      1.00        52\n",
            "           7       1.00      1.00      1.00        48\n",
            "           8       0.98      0.98      0.98        48\n",
            "           9       0.98      0.98      0.98        47\n",
            "\n",
            "    accuracy                           0.99       450\n",
            "   macro avg       0.99      0.99      0.99       450\n",
            "weighted avg       0.99      0.99      0.99       450\n",
            "\n"
          ],
          "name": "stdout"
        }
      ]
    },
    {
      "cell_type": "markdown",
      "metadata": {
        "id": "WM38pzXUTmg4"
      },
      "source": [
        "#### Micro- vs. macro-averaged metrics"
      ]
    },
    {
      "cell_type": "code",
      "metadata": {
        "colab": {
          "base_uri": "https://localhost:8080/"
        },
        "id": "Mo7Tjrm7Tmg4",
        "outputId": "deb875a6-657a-467f-c240-26c4fe1cf0dc"
      },
      "source": [
        "print('Micro-averaged precision = {:.2f} (treat instances equally)'\n",
        "      .format(precision_score(y_test_mc, svm_predicted_mc, average = 'micro')))\n",
        "print('Macro-averaged precision = {:.2f} (treat classes equally)'\n",
        "      .format(precision_score(y_test_mc, svm_predicted_mc, average = 'macro')))"
      ],
      "execution_count": 23,
      "outputs": [
        {
          "output_type": "stream",
          "text": [
            "Micro-averaged precision = 0.99 (treat instances equally)\n",
            "Macro-averaged precision = 0.99 (treat classes equally)\n"
          ],
          "name": "stdout"
        }
      ]
    },
    {
      "cell_type": "code",
      "metadata": {
        "colab": {
          "base_uri": "https://localhost:8080/"
        },
        "id": "VD54DlViTmg5",
        "outputId": "23549499-c709-4617-fedb-49621c8dbf00"
      },
      "source": [
        "print('Micro-averaged f1 = {:.2f} (treat instances equally)'\n",
        "      .format(f1_score(y_test_mc, svm_predicted_mc, average = 'micro')))\n",
        "print('Macro-averaged f1 = {:.2f} (treat classes equally)'\n",
        "      .format(f1_score(y_test_mc, svm_predicted_mc, average = 'macro')))"
      ],
      "execution_count": 24,
      "outputs": [
        {
          "output_type": "stream",
          "text": [
            "Micro-averaged f1 = 0.99 (treat instances equally)\n",
            "Macro-averaged f1 = 0.99 (treat classes equally)\n"
          ],
          "name": "stdout"
        }
      ]
    },
    {
      "cell_type": "markdown",
      "metadata": {
        "id": "rz9lL0RjTmg5"
      },
      "source": [
        "### Regression evaluation metrics"
      ]
    },
    {
      "cell_type": "code",
      "metadata": {
        "colab": {
          "base_uri": "https://localhost:8080/",
          "height": 350
        },
        "id": "0Y06nBCATmg5",
        "outputId": "379812ad-7cf9-4cd3-e918-e60d123e67fc"
      },
      "source": [
        "import matplotlib.pyplot as plt\n",
        "import numpy as np\n",
        "from sklearn.model_selection import train_test_split\n",
        "from sklearn import datasets\n",
        "from sklearn.linear_model import LinearRegression\n",
        "from sklearn.metrics import mean_squared_error, r2_score\n",
        "from sklearn.dummy import DummyRegressor\n",
        "\n",
        "diabetes = datasets.load_diabetes()\n",
        "\n",
        "X = diabetes.data[:, None, 6]\n",
        "y = diabetes.target\n",
        "\n",
        "X_train, X_test, y_train, y_test = train_test_split(X, y, random_state=0)\n",
        "\n",
        "lm = LinearRegression().fit(X_train, y_train)\n",
        "lm_dummy_mean = DummyRegressor(strategy = 'mean').fit(X_train, y_train)\n",
        "\n",
        "y_predict = lm.predict(X_test)\n",
        "y_predict_dummy_mean = lm_dummy_mean.predict(X_test)\n",
        "\n",
        "print('Linear model, coefficients: ', lm.coef_)\n",
        "print(\"Mean squared error (dummy): {:.2f}\".format(mean_squared_error(y_test, \n",
        "                                                                     y_predict_dummy_mean)))\n",
        "print(\"Mean squared error (linear model): {:.2f}\".format(mean_squared_error(y_test, y_predict)))\n",
        "print(\"r2_score (dummy): {:.2f}\".format(r2_score(y_test, y_predict_dummy_mean)))\n",
        "print(\"r2_score (linear model): {:.2f}\".format(r2_score(y_test, y_predict)))\n",
        "\n",
        "# Plot outputs\n",
        "plt.scatter(X_test, y_test,  color='black')\n",
        "plt.plot(X_test, y_predict, color='green', linewidth=2)\n",
        "plt.plot(X_test, y_predict_dummy_mean, color='red', linestyle = 'dashed', \n",
        "         linewidth=2, label = 'dummy')\n",
        "\n",
        "plt.show()"
      ],
      "execution_count": 25,
      "outputs": [
        {
          "output_type": "stream",
          "text": [
            "Linear model, coefficients:  [-698.80206267]\n",
            "Mean squared error (dummy): 4965.13\n",
            "Mean squared error (linear model): 4646.74\n",
            "r2_score (dummy): -0.00\n",
            "r2_score (linear model): 0.06\n"
          ],
          "name": "stdout"
        },
        {
          "output_type": "display_data",
          "data": {
            "image/png": "[encoded data removed]",
            "text/plain": [
              "<Figure size 432x288 with 1 Axes>"
            ]
          },
          "metadata": {
            "tags": [],
            "needs_background": "light"
          }
        }
      ]
    },
    {
      "cell_type": "markdown",
      "metadata": {
        "id": "ikBoYA32Tmg5"
      },
      "source": [
        "### Model selection using evaluation metrics"
      ]
    },
    {
      "cell_type": "markdown",
      "metadata": {
        "id": "ZhBHDy87Tmg5"
      },
      "source": [
        "#### Cross-validation example"
      ]
    },
    {
      "cell_type": "code",
      "metadata": {
        "colab": {
          "base_uri": "https://localhost:8080/"
        },
        "id": "0aS9c6VWTmg6",
        "outputId": "8c846360-8480-4abb-8019-8d08723a837d"
      },
      "source": [
        "from sklearn.model_selection import cross_val_score\n",
        "from sklearn.svm import SVC\n",
        "\n",
        "dataset = load_digits()\n",
        "# again, making this a binary problem with 'digit 1' as positive class \n",
        "# and 'not 1' as negative class\n",
        "X, y = dataset.data, dataset.target == 1\n",
        "clf = SVC(kernel='linear', C=1)\n",
        "\n",
        "# accuracy is the default scoring metric\n",
        "print('Cross-validation (accuracy)', cross_val_score(clf, X, y, cv=5))\n",
        "# use AUC as scoring metric\n",
        "print('Cross-validation (AUC)', cross_val_score(clf, X, y, cv=5, scoring = 'roc_auc'))\n",
        "# use recall as scoring metric\n",
        "print('Cross-validation (recall)', cross_val_score(clf, X, y, cv=5, scoring = 'recall'))"
      ],
      "execution_count": 26,
      "outputs": [
        {
          "output_type": "stream",
          "text": [
            "Cross-validation (accuracy) [0.91944444 0.98611111 0.97214485 0.97493036 0.96935933]\n",
            "Cross-validation (AUC) [0.9641871  0.9976571  0.99372205 0.99699002 0.98675611]\n",
            "Cross-validation (recall) [0.81081081 0.89189189 0.83333333 0.83333333 0.83333333]\n"
          ],
          "name": "stdout"
        }
      ]
    },
    {
      "cell_type": "markdown",
      "metadata": {
        "id": "z8gfQH72Tmg6"
      },
      "source": [
        "#### Grid search example"
      ]
    },
    {
      "cell_type": "code",
      "metadata": {
        "colab": {
          "base_uri": "https://localhost:8080/"
        },
        "id": "78tKkgW-Tmg6",
        "outputId": "b00c171d-fff7-4c67-9a03-5802c3a80058"
      },
      "source": [
        "from sklearn.svm import SVC\n",
        "from sklearn.model_selection import GridSearchCV\n",
        "from sklearn.metrics import roc_auc_score\n",
        "\n",
        "dataset = load_digits()\n",
        "X, y = dataset.data, dataset.target == 1\n",
        "X_train, X_test, y_train, y_test = train_test_split(X, y, random_state=0)\n",
        "\n",
        "clf = SVC(kernel='rbf')\n",
        "grid_values = {'gamma': [0.001, 0.01, 0.05, 0.1, 1, 10, 100]}\n",
        "\n",
        "# default metric to optimize over grid parameters: accuracy\n",
        "grid_clf_acc = GridSearchCV(clf, param_grid = grid_values)\n",
        "grid_clf_acc.fit(X_train, y_train)\n",
        "y_decision_fn_scores_acc = grid_clf_acc.decision_function(X_test) \n",
        "\n",
        "print('Grid best parameter (max. accuracy): ', grid_clf_acc.best_params_)\n",
        "print('Grid best score (accuracy): ', grid_clf_acc.best_score_)\n",
        "\n",
        "# alternative metric to optimize over grid parameters: AUC\n",
        "grid_clf_auc = GridSearchCV(clf, param_grid = grid_values, scoring = 'roc_auc')\n",
        "grid_clf_auc.fit(X_train, y_train)\n",
        "y_decision_fn_scores_auc = grid_clf_auc.decision_function(X_test) \n",
        "\n",
        "print('Test set AUC: ', roc_auc_score(y_test, y_decision_fn_scores_auc))\n",
        "print('Grid best parameter (max. AUC): ', grid_clf_auc.best_params_)\n",
        "print('Grid best score (AUC): ', grid_clf_auc.best_score_)\n"
      ],
      "execution_count": 27,
      "outputs": [
        {
          "output_type": "stream",
          "text": [
            "Grid best parameter (max. accuracy):  {'gamma': 0.001}\n",
            "Grid best score (accuracy):  0.9985157648354676\n",
            "Test set AUC:  0.99982858122393\n",
            "Grid best parameter (max. AUC):  {'gamma': 0.001}\n",
            "Grid best score (AUC):  1.0\n"
          ],
          "name": "stdout"
        }
      ]
    },
    {
      "cell_type": "markdown",
      "metadata": {
        "id": "ppQhu9P1Tmg6"
      },
      "source": [
        "#### Evaluation metrics supported for model selection"
      ]
    },
    {
      "cell_type": "code",
      "metadata": {
        "colab": {
          "base_uri": "https://localhost:8080/"
        },
        "id": "Qn1ZAQRQTmg7",
        "outputId": "52e63391-80f2-4475-d9ee-592b71e8ecbd"
      },
      "source": [
        "from sklearn.metrics.scorer import SCORERS\n",
        "\n",
        "print(sorted(list(SCORERS.keys())))"
      ],
      "execution_count": 28,
      "outputs": [
        {
          "output_type": "stream",
          "text": [
            "['accuracy', 'adjusted_mutual_info_score', 'adjusted_rand_score', 'average_precision', 'balanced_accuracy', 'completeness_score', 'explained_variance', 'f1', 'f1_macro', 'f1_micro', 'f1_samples', 'f1_weighted', 'fowlkes_mallows_score', 'homogeneity_score', 'jaccard', 'jaccard_macro', 'jaccard_micro', 'jaccard_samples', 'jaccard_weighted', 'max_error', 'mutual_info_score', 'neg_brier_score', 'neg_log_loss', 'neg_mean_absolute_error', 'neg_mean_gamma_deviance', 'neg_mean_poisson_deviance', 'neg_mean_squared_error', 'neg_mean_squared_log_error', 'neg_median_absolute_error', 'neg_root_mean_squared_error', 'normalized_mutual_info_score', 'precision', 'precision_macro', 'precision_micro', 'precision_samples', 'precision_weighted', 'r2', 'recall', 'recall_macro', 'recall_micro', 'recall_samples', 'recall_weighted', 'roc_auc', 'roc_auc_ovo', 'roc_auc_ovo_weighted', 'roc_auc_ovr', 'roc_auc_ovr_weighted', 'v_measure_score']\n"
          ],
          "name": "stdout"
        },
        {
          "output_type": "stream",
          "text": [
            "/usr/local/lib/python3.7/dist-packages/sklearn/utils/deprecation.py:144: FutureWarning: The sklearn.metrics.scorer module is  deprecated in version 0.22 and will be removed in version 0.24. The corresponding classes / functions should instead be imported from sklearn.metrics. Anything that cannot be imported from sklearn.metrics is now part of the private API.\n",
            "  warnings.warn(message, FutureWarning)\n"
          ],
          "name": "stderr"
        }
      ]
    }
  ]
}